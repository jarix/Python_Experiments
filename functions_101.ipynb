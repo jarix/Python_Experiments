{
 "cells": [
  {
   "cell_type": "markdown",
   "metadata": {},
   "source": [
    "# Python Functions 101"
   ]
  },
  {
   "cell_type": "markdown",
   "metadata": {},
   "source": [
    "### Function paramaters vs. arguments\n",
    "\n",
    "A parameter is a variable listed inside the parentheses in the function definition.<br />\n",
    "An argument is the actual value that is passed to the function when it is called."
   ]
  },
  {
   "cell_type": "markdown",
   "metadata": {},
   "source": [
    "## Function Argument Passing\n",
    "Pass-by-Object-Reference<br />\n",
    "Python's argument passing can best be described as \"pass-by-object-reference\"; passing a reference to the object that the variable refers to, not a copy of the object itself.<br /><br />\n",
    "Immutable Objects<br />\n",
    "For immutable objects  (numbers, strings, tuples) any changes made inside the function don't affect the original object. Any operation that modifies the value creates a new object, and the reference inside the function will then point to the new object.  The original object will be unaffected."
   ]
  },
  {
   "cell_type": "markdown",
   "metadata": {},
   "source": [
    "### Passing immutable objects"
   ]
  },
  {
   "cell_type": "code",
   "execution_count": 15,
   "metadata": {},
   "outputs": [
    {
     "name": "stdout",
     "output_type": "stream",
     "text": [
      "str id entering function: 2409520646768\n",
      "inside function after mutation, str = 'Hello world!'\n",
      "str id exiting function: 2409519999856\n",
      "After returning from function, str = 'Hello'\n",
      "str id after function: 2409520646768\n"
     ]
    }
   ],
   "source": [
    "# Passing Immutable Objects\n",
    "def append_string(s):\n",
    "    print(f\"str id entering function: {id(s)}\")\n",
    "    s += \" world!\"\n",
    "    print(f\"inside function after mutation, str = '{s}'\")\n",
    "    print(f\"str id exiting function: {id(s)}\")\n",
    "    \n",
    "my_str = \"Hello\"\n",
    "append_string(my_str)\n",
    "print(f\"After returning from function, str = '{my_str}'\")\n",
    "print(f\"str id after function: {id(my_str)}\")\n"
   ]
  },
  {
   "cell_type": "markdown",
   "metadata": {},
   "source": [
    "### Passing Mutable Objects"
   ]
  },
  {
   "cell_type": "code",
   "execution_count": 16,
   "metadata": {},
   "outputs": [
    {
     "name": "stdout",
     "output_type": "stream",
     "text": [
      "list id entering function: 2409520134848\n",
      "inside function after mutation, lst = '[1, 2, 3, 4, 5, 99]'\n",
      "list id exiting function: 2409520134848\n",
      "After returning from function, lst = '[1, 2, 3, 4, 5, 99]'\n",
      "list id after function: 2409520134848\n"
     ]
    }
   ],
   "source": [
    "# Passing Mutable Objects\n",
    "def append_list(lst):\n",
    "    print(f\"list id entering function: {id(lst)}\")\n",
    "    lst.append(99)\n",
    "    print(f\"inside function after mutation, lst = '{lst}'\")\n",
    "    print(f\"list id exiting function: {id(lst)}\")\n",
    "    \n",
    "my_lst = [1, 2, 3, 4, 5]\n",
    "append_list(my_lst)\n",
    "print(f\"After returning from function, lst = '{my_lst}'\")\n",
    "print(f\"list id after function: {id(my_lst)}\")"
   ]
  },
  {
   "cell_type": "markdown",
   "metadata": {},
   "source": [
    "## Functions with variable number of arguments"
   ]
  },
  {
   "cell_type": "code",
   "execution_count": 2,
   "metadata": {},
   "outputs": [
    {
     "name": "stdout",
     "output_type": "stream",
     "text": [
      "1\n",
      "2.5\n",
      "c\n",
      "Hello\n"
     ]
    }
   ],
   "source": [
    "# Variable number of arguments\n",
    "def foo(*args):\n",
    "    # Args will be a tuple containing the values passed to the function\n",
    "    for i in args:\n",
    "        print(i)\n",
    "\n",
    "\n",
    "foo(1, 2.5,'c', \"Hello\")"
   ]
  },
  {
   "cell_type": "markdown",
   "metadata": {},
   "source": [
    "## Functions with variable number of named arguments"
   ]
  },
  {
   "cell_type": "code",
   "execution_count": 4,
   "metadata": {},
   "outputs": [
    {
     "name": "stdout",
     "output_type": "stream",
     "text": [
      "'arg1': 1\n",
      "'arg2': 2.5\n",
      "'arg3': c\n",
      "'arg4': Hello\n"
     ]
    }
   ],
   "source": [
    "# Variable number of named arguments\n",
    "def foobar(**kwargs):\n",
    "    # kwargs will be a dictionary containing the names and values of arguments\n",
    "    for name, value in kwargs.items():\n",
    "        print(f\"'{name}': {value}\")\n",
    "\n",
    "\n",
    "foobar(arg1 = 1, arg2 = 2.5, arg3 = 'c', arg4 = \"Hello\")\n"
   ]
  },
  {
   "cell_type": "markdown",
   "metadata": {},
   "source": [
    "## Function Argument Order\n",
    "\n",
    "* The positional/keyword arguments come first. (Required arguments).\n",
    "* Next comes the arbitrary *arg arguments. (Optional).\n",
    "* Next keyword-only arguments come next. (Required).\n",
    "* Finally the arbitrary keyword **kwargs come. (Optional)."
   ]
  },
  {
   "cell_type": "code",
   "execution_count": 6,
   "metadata": {},
   "outputs": [
    {
     "name": "stdout",
     "output_type": "stream",
     "text": [
      "arg1 = 1\n",
      "arg2 = 3\n",
      "5\n",
      "7\n",
      "9\n",
      "kwarg1 = 10\n",
      "kwarg2 = 2\n",
      "'msg1': Hi There\n",
      "'pi': 3.14\n"
     ]
    }
   ],
   "source": [
    "# |-positional-|-optional-|---keyword-only--|-optional-|\n",
    "def func(arg1, arg2=10 , *args, kwarg1, kwarg2=2, **kwargs):\n",
    "    print(f\"arg1 = {arg1}\")\n",
    "    print(f\"arg2 = {arg2}\")\n",
    "    \n",
    "    for i in args:\n",
    "        print(i)\n",
    "\n",
    "    print(f\"kwarg1 = {kwarg1}\")\n",
    "    print(f\"kwarg2 = {kwarg2}\")\n",
    "    for name, value in kwargs.items():\n",
    "        print(f\"'{name}': {value}\")\n",
    "\n",
    "\n",
    "func(1,3,5,7,9, kwarg1=10, msg1=\"Hi There\", pi=3.14 )\n"
   ]
  },
  {
   "cell_type": "code",
   "execution_count": null,
   "metadata": {},
   "outputs": [],
   "source": []
  }
 ],
 "metadata": {
  "kernelspec": {
   "display_name": ".venv",
   "language": "python",
   "name": "python3"
  },
  "language_info": {
   "codemirror_mode": {
    "name": "ipython",
    "version": 3
   },
   "file_extension": ".py",
   "mimetype": "text/x-python",
   "name": "python",
   "nbconvert_exporter": "python",
   "pygments_lexer": "ipython3",
   "version": "3.11.9"
  }
 },
 "nbformat": 4,
 "nbformat_minor": 2
}
