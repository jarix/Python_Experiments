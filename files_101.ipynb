{
 "metadata": {
  "language_info": {
   "codemirror_mode": {
    "name": "ipython",
    "version": 3
   },
   "file_extension": ".py",
   "mimetype": "text/x-python",
   "name": "python",
   "nbconvert_exporter": "python",
   "pygments_lexer": "ipython3",
   "version": "3.8.5-final"
  },
  "orig_nbformat": 2,
  "kernelspec": {
   "name": "python3",
   "display_name": "Python 3",
   "language": "python"
  }
 },
 "nbformat": 4,
 "nbformat_minor": 2,
 "cells": [
  {
   "source": [
    "# Files 101"
   ],
   "cell_type": "markdown",
   "metadata": {}
  },
  {
   "source": [
    "## Check file or directory existence and type"
   ],
   "cell_type": "markdown",
   "metadata": {}
  },
  {
   "cell_type": "code",
   "execution_count": 1,
   "metadata": {},
   "outputs": [
    {
     "output_type": "stream",
     "name": "stdout",
     "text": [
      "File 'first.txt' exists: True\nFile 'third.txt' exists: False\n"
     ]
    }
   ],
   "source": [
    "#import os.path\n",
    "from os import path\n",
    "print(\"File 'first.txt' exists: \" + str(path.exists(\"first.txt\")))\n",
    "print(\"File 'third.txt' exists: \" + str(path.exists(\"third.txt\")))\n"
   ]
  },
  {
   "cell_type": "code",
   "execution_count": 2,
   "metadata": {},
   "outputs": [
    {
     "output_type": "stream",
     "name": "stdout",
     "text": [
      "Is 'first.txt' a file?: True\nIs 'third.txt' a file?: False\nIs .. a file?: False\nIs .. a directory?: True\n"
     ]
    }
   ],
   "source": [
    "#import os.path\n",
    "from os import path\n",
    "print(\"Is 'first.txt' a file?: \" + str(path.isfile(\"first.txt\")))\n",
    "print(\"Is 'third.txt' a file?: \" + str(path.isfile(\"third.txt\")))\n",
    "print(\"Is .. a file?: \" + str(path.isfile(\"..\")))\n",
    "print(\"Is .. a directory?: \" + str(path.isdir(\"..\")))\n"
   ]
  },
  {
   "cell_type": "code",
   "execution_count": null,
   "metadata": {},
   "outputs": [],
   "source": []
  }
 ]
}