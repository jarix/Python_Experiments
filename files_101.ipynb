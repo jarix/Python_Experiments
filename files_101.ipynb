{
 "cells": [
  {
   "cell_type": "markdown",
   "metadata": {},
   "source": [
    "# Files 101"
   ]
  },
  {
   "cell_type": "markdown",
   "metadata": {},
   "source": [
    "## Check file or directory existence and type"
   ]
  },
  {
   "cell_type": "code",
   "execution_count": 1,
   "metadata": {},
   "outputs": [
    {
     "name": "stdout",
     "output_type": "stream",
     "text": [
      "File 'first.txt' exists: True\n",
      "File 'third.txt' exists: False\n"
     ]
    }
   ],
   "source": [
    "#import os.path\n",
    "from os import path\n",
    "print(\"File 'first.txt' exists: \" + str(path.exists(\"first.txt\")))\n",
    "print(\"File 'third.txt' exists: \" + str(path.exists(\"third.txt\")))\n"
   ]
  },
  {
   "cell_type": "code",
   "execution_count": 2,
   "metadata": {},
   "outputs": [
    {
     "name": "stdout",
     "output_type": "stream",
     "text": [
      "Is 'first.txt' a file?: True\n",
      "Is 'third.txt' a file?: False\n",
      "Is .. a file?: False\n",
      "Is .. a directory?: True\n"
     ]
    }
   ],
   "source": [
    "#import os.path\n",
    "from os import path\n",
    "print(\"Is 'first.txt' a file?: \" + str(path.isfile(\"first.txt\")))\n",
    "print(\"Is 'third.txt' a file?: \" + str(path.isfile(\"third.txt\")))\n",
    "print(\"Is .. a file?: \" + str(path.isfile(\"..\")))\n",
    "print(\"Is .. a directory?: \" + str(path.isdir(\"..\")))\n"
   ]
  },
  {
   "cell_type": "markdown",
   "metadata": {},
   "source": [
    "## Read with open()"
   ]
  },
  {
   "cell_type": "code",
   "execution_count": 21,
   "metadata": {},
   "outputs": [],
   "source": [
    "# Open file and create file object\n",
    "file1 = open(\"first.txt\",\"r\")"
   ]
  },
  {
   "cell_type": "code",
   "execution_count": 22,
   "metadata": {},
   "outputs": [
    {
     "name": "stdout",
     "output_type": "stream",
     "text": [
      "File name: first.txt\n",
      "File mode: r\n"
     ]
    }
   ],
   "source": [
    "# print the file name\n",
    "print(\"File name:\", file1.name)\n",
    "# print the file mode\n",
    "print(\"File mode:\", file1.mode)"
   ]
  },
  {
   "cell_type": "code",
   "execution_count": 23,
   "metadata": {},
   "outputs": [
    {
     "name": "stdout",
     "output_type": "stream",
     "text": [
      "Test file 1 ... 1234567890\n",
      "Second line\n",
      "Third line\n",
      "\n"
     ]
    }
   ],
   "source": [
    "# Read the contents\n",
    "file_content = file1.read()\n",
    "print(file_content)"
   ]
  },
  {
   "cell_type": "code",
   "execution_count": 24,
   "metadata": {},
   "outputs": [
    {
     "name": "stdout",
     "output_type": "stream",
     "text": [
      "False\n",
      "True\n"
     ]
    }
   ],
   "source": [
    "# Close the file, IMPORTANT!\n",
    "print(file1.closed)\n",
    "file1.close()\n",
    "print(file1.closed)\n"
   ]
  },
  {
   "cell_type": "markdown",
   "metadata": {},
   "source": [
    "## Recommended way: 'with' block "
   ]
  },
  {
   "cell_type": "code",
   "execution_count": 25,
   "metadata": {},
   "outputs": [
    {
     "name": "stdout",
     "output_type": "stream",
     "text": [
      "Test file 1 ... 1234567890\n",
      "Second line\n",
      "Third line\n",
      "\n"
     ]
    }
   ],
   "source": [
    "# Open amd read file w/ 'with' block\n",
    "with open(\"first.txt\", \"r\") as file1:\n",
    "    file_content = file1.read()\n",
    "    print(file_content)"
   ]
  },
  {
   "cell_type": "code",
   "execution_count": 26,
   "metadata": {},
   "outputs": [
    {
     "data": {
      "text/plain": [
       "True"
      ]
     },
     "execution_count": 26,
     "metadata": {},
     "output_type": "execute_result"
    }
   ],
   "source": [
    "# Verify that file automatically closed\n",
    "file1.closed"
   ]
  },
  {
   "cell_type": "markdown",
   "metadata": {},
   "source": [
    "### Read portion of a file"
   ]
  },
  {
   "cell_type": "code",
   "execution_count": 27,
   "metadata": {},
   "outputs": [
    {
     "name": "stdout",
     "output_type": "stream",
     "text": [
      "Test file 1\n"
     ]
    }
   ],
   "source": [
    "# Read 11 first characters\n",
    "with open(\"first.txt\", \"r\") as file1:\n",
    "    text = file1.read(11)\n",
    "    print(text)"
   ]
  },
  {
   "cell_type": "code",
   "execution_count": 29,
   "metadata": {},
   "outputs": [
    {
     "name": "stdout",
     "output_type": "stream",
     "text": [
      "Test \n",
      "file \n",
      "1 ...\n",
      " 1234\n"
     ]
    }
   ],
   "source": [
    "# Read 5 characters at a time\n",
    "with open(\"first.txt\", \"r\") as file1:\n",
    "    print(file1.read(5))\n",
    "    print(file1.read(5))\n",
    "    print(file1.read(5))\n",
    "    print(file1.read(5))\n",
    "    "
   ]
  },
  {
   "cell_type": "markdown",
   "metadata": {},
   "source": [
    "### Read One Line"
   ]
  },
  {
   "cell_type": "code",
   "execution_count": 30,
   "metadata": {},
   "outputs": [
    {
     "name": "stdout",
     "output_type": "stream",
     "text": [
      "First Line: 'Test file 1 ... 1234567890\n",
      "'\n"
     ]
    }
   ],
   "source": [
    "# Read one line\n",
    "with open(\"first.txt\", \"r\") as file1:\n",
    "    line1 = file1.readline()\n",
    "    print(f\"First Line: '{line1}'\")"
   ]
  },
  {
   "cell_type": "code",
   "execution_count": 31,
   "metadata": {},
   "outputs": [
    {
     "name": "stdout",
     "output_type": "stream",
     "text": [
      "Test file 1 ... 1234567890\n",
      "\n"
     ]
    }
   ],
   "source": [
    "# One can pass number of characters argument to readline(), but it will not read past one line\n",
    "with open(\"first.txt\", \"r\") as file1:\n",
    "    text = file1.readline(1000)\n",
    "    print(text)"
   ]
  },
  {
   "cell_type": "markdown",
   "metadata": {},
   "source": [
    "### Iterate over lines"
   ]
  },
  {
   "cell_type": "code",
   "execution_count": 35,
   "metadata": {},
   "outputs": [
    {
     "name": "stdout",
     "output_type": "stream",
     "text": [
      "Line 0: Test file 1 ... 1234567890\n",
      "\n",
      "Line 1: Second line\n",
      "\n",
      "Line 2: Third line\n",
      "\n"
     ]
    }
   ],
   "source": [
    "# Iterate over lines\n",
    "with open(\"first.txt\", \"r\") as file1:\n",
    "    i = 0\n",
    "    for line in file1: \n",
    "        print(f\"Line {str(i)}: {line}\")\n",
    "        i = i + 1"
   ]
  },
  {
   "cell_type": "markdown",
   "metadata": {},
   "source": [
    "### Read all lines to a list"
   ]
  },
  {
   "cell_type": "code",
   "execution_count": 36,
   "metadata": {},
   "outputs": [
    {
     "name": "stdout",
     "output_type": "stream",
     "text": [
      "['Test file 1 ... 1234567890\\n', 'Second line\\n', 'Third line\\n']\n"
     ]
    }
   ],
   "source": [
    "# Read all lines to a list\n",
    "with open(\"first.txt\", \"r\") as file1:\n",
    "    lines_list = file1.readlines()\n",
    "\n",
    "print(lines_list)\n"
   ]
  },
  {
   "cell_type": "markdown",
   "metadata": {},
   "source": [
    "## Write to a file "
   ]
  },
  {
   "cell_type": "code",
   "execution_count": 38,
   "metadata": {},
   "outputs": [
    {
     "name": "stdout",
     "output_type": "stream",
     "text": [
      "This is writing some random text to a file\n"
     ]
    }
   ],
   "source": [
    "# Write to a file\n",
    "with open(\"junk1.txt\", \"w\") as fileW:\n",
    "    fileW.write(\"This is writing some random text to a file\")\n",
    "\n",
    "# Read back to check\n",
    "with open(\"junk1.txt\", \"r\") as fileR:\n",
    "    print(fileR.read())"
   ]
  },
  {
   "cell_type": "code",
   "execution_count": 41,
   "metadata": {},
   "outputs": [
    {
     "name": "stdout",
     "output_type": "stream",
     "text": [
      "Text line 1\n",
      "Text line 2\n",
      "Text line 3\n",
      "Text line 4\n",
      "\n"
     ]
    }
   ],
   "source": [
    "# Write List of text lines\n",
    "Lines = [\"Text line 1\\n\", \"Text line 2\\n\", \"Text line 3\\n\", \"Text line 4\\n\"]\n",
    "with open(\"junk2.txt\", \"w\") as fileW:\n",
    "    for line in Lines:\n",
    "        fileW.write(line)\n",
    "\n",
    "# Read back to check\n",
    "with open(\"junk2.txt\", \"r\") as fileR:\n",
    "    print(fileR.read())"
   ]
  },
  {
   "cell_type": "markdown",
   "metadata": {},
   "source": [
    "### Appending a File"
   ]
  },
  {
   "cell_type": "code",
   "execution_count": 44,
   "metadata": {},
   "outputs": [
    {
     "name": "stdout",
     "output_type": "stream",
     "text": [
      "Text line 1\n",
      "Text line 2\n",
      "Text line 3\n",
      "Text line 4\n",
      "Text line 5\n",
      "Text line 6\n",
      "Text line 7\n",
      "\n"
     ]
    }
   ],
   "source": [
    "# Append to the end of file\n",
    "with open(\"junk2.txt\", \"a\") as fileW:\n",
    "    fileW.write(\"Text line 5\\n\")\n",
    "    fileW.write(\"Text line 6\\n\")\n",
    "    fileW.write(\"Text line 7\\n\")\n",
    "\n",
    "# Read back to check\n",
    "with open(\"junk2.txt\", \"r\") as fileR:\n",
    "    print(fileR.read())"
   ]
  },
  {
   "cell_type": "markdown",
   "metadata": {},
   "source": [
    "### tell() - get current position in a file,  seek() - move to a position"
   ]
  },
  {
   "cell_type": "code",
   "execution_count": 49,
   "metadata": {},
   "outputs": [
    {
     "name": "stdout",
     "output_type": "stream",
     "text": [
      "Position after open for append: 91\n",
      "Nothing to read\n",
      "Position after seek: 0\n",
      "Text line 1\n",
      "Text line 2\n",
      "Text line 3\n",
      "Text line 4\n",
      "Text line 5\n",
      "Text line 6\n",
      "Text line 7\n",
      "\n"
     ]
    }
   ],
   "source": [
    "# \"a+\" opens for appending and reading\n",
    "with open(\"junk2.txt\", \"a+\") as fileW:\n",
    "    print(f\"Position after open for append: {fileW.tell()}\")\n",
    "\n",
    "    text = fileW.read()\n",
    "    if (not text):\n",
    "        print(\"Nothing to read\")\n",
    "    else:\n",
    "        print(text)\n",
    "\n",
    "    fileW.seek(0,0)  # 0 bytes from the beginning\n",
    "    print(f\"Position after seek: {fileW.tell()}\")\n",
    "\n",
    "    text = fileW.read()\n",
    "    if (not text):\n",
    "        print(\"Nothing to read\")\n",
    "    else:\n",
    "        print(text)\n",
    "\n",
    "    "
   ]
  },
  {
   "cell_type": "markdown",
   "metadata": {},
   "source": [
    "## Copy a file"
   ]
  },
  {
   "cell_type": "code",
   "execution_count": 52,
   "metadata": {},
   "outputs": [
    {
     "name": "stdout",
     "output_type": "stream",
     "text": [
      "Text line 1\n",
      "Text line 2\n",
      "Text line 3\n",
      "Text line 4\n",
      "Text line 5\n",
      "Text line 6\n",
      "Text line 7\n",
      "\n"
     ]
    }
   ],
   "source": [
    "# Read file and write to another file\n",
    "with open(\"junk2.txt\", \"r\") as fileR:\n",
    "    with open(\"junk3.txt\", \"w\") as fileW:\n",
    "        for line in fileR:\n",
    "            fileW.write(line)\n",
    "\n",
    "# Read back to check\n",
    "with open(\"junk3.txt\", \"r\") as fileR:\n",
    "    print(fileR.read())"
   ]
  },
  {
   "cell_type": "code",
   "execution_count": null,
   "metadata": {},
   "outputs": [],
   "source": []
  }
 ],
 "metadata": {
  "kernelspec": {
   "display_name": "Python 3",
   "language": "python",
   "name": "python3"
  },
  "language_info": {
   "codemirror_mode": {
    "name": "ipython",
    "version": 3
   },
   "file_extension": ".py",
   "mimetype": "text/x-python",
   "name": "python",
   "nbconvert_exporter": "python",
   "pygments_lexer": "ipython3",
   "version": "3.10.9"
  },
  "orig_nbformat": 2
 },
 "nbformat": 4,
 "nbformat_minor": 2
}
