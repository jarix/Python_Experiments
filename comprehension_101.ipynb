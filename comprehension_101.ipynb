{
 "cells": [
  {
   "cell_type": "markdown",
   "metadata": {},
   "source": [
    "# Comprehension 101\n"
   ]
  },
  {
   "cell_type": "markdown",
   "metadata": {},
   "source": [
    "## List Creation with Comprehension"
   ]
  },
  {
   "cell_type": "code",
   "execution_count": 1,
   "metadata": {},
   "outputs": [],
   "source": [
    "# Basic syntax:\n",
    "# [expression for item in iterable]\n",
    "\n",
    "# which is the same as:\n",
    "# for item in iterable:\n",
    "#    expression"
   ]
  },
  {
   "cell_type": "code",
   "execution_count": 2,
   "metadata": {},
   "outputs": [],
   "source": [
    "num_list = [0, 1, 2, 3, 4, 5, 6, 7, 8, 9, 10, 11, 12]"
   ]
  },
  {
   "cell_type": "code",
   "execution_count": 3,
   "metadata": {},
   "outputs": [
    {
     "name": "stdout",
     "output_type": "stream",
     "text": [
      "[0, 1, 2, 3, 4, 5, 6, 7, 8, 9, 10, 11, 12]\n"
     ]
    }
   ],
   "source": [
    "# C-style building a simple list\n",
    "new_list = []\n",
    "for n in num_list:\n",
    "    new_list.append(n)\n",
    "print(new_list)"
   ]
  },
  {
   "cell_type": "code",
   "execution_count": 4,
   "metadata": {},
   "outputs": [
    {
     "name": "stdout",
     "output_type": "stream",
     "text": [
      "[0, 1, 2, 3, 4, 5, 6, 7, 8, 9, 10, 11, 12]\n"
     ]
    }
   ],
   "source": [
    "# List comprehension\n",
    "new_list = [n for n in num_list]\n",
    "print(new_list)"
   ]
  },
  {
   "cell_type": "code",
   "execution_count": 5,
   "metadata": {},
   "outputs": [
    {
     "name": "stdout",
     "output_type": "stream",
     "text": [
      "[0, 1, 4, 9, 16, 25, 36, 49, 64, 81, 100, 121, 144]\n"
     ]
    }
   ],
   "source": [
    "# C-style again\n",
    "new_list = []\n",
    "for n in num_list:\n",
    "    new_list.append(n*n)\n",
    "print(new_list)"
   ]
  },
  {
   "cell_type": "code",
   "execution_count": 6,
   "metadata": {},
   "outputs": [
    {
     "name": "stdout",
     "output_type": "stream",
     "text": [
      "[0, 1, 4, 9, 16, 25, 36, 49, 64, 81, 100, 121, 144]\n"
     ]
    }
   ],
   "source": [
    "# List comprensnsion for above\n",
    "new_list = [n*n for n in num_list]\n",
    "print(new_list)"
   ]
  },
  {
   "cell_type": "markdown",
   "metadata": {},
   "source": [
    "## List Comprehension with Conditional Statement"
   ]
  },
  {
   "cell_type": "code",
   "execution_count": 8,
   "metadata": {},
   "outputs": [],
   "source": [
    "# List comprehension with conditional statement:\n",
    "# [expression for item in iterable if condition]\n",
    "\n",
    "# The same as:\n",
    "# for item in iterable:\n",
    "#    if condition:\n",
    "#        expression"
   ]
  },
  {
   "cell_type": "code",
   "execution_count": 7,
   "metadata": {},
   "outputs": [
    {
     "name": "stdout",
     "output_type": "stream",
     "text": [
      "[9, 169, 529]\n"
     ]
    }
   ],
   "source": [
    "primes_list = [2, 3, 5, 6, 11, 13, 17, 19, 23, 29]\n",
    "squared_primes_mod_3 = [n*n for n in primes_list if n%10 == 3]\n",
    "print(squared_primes_mod_3) "
   ]
  },
  {
   "cell_type": "code",
   "execution_count": 8,
   "metadata": {},
   "outputs": [
    {
     "name": "stdout",
     "output_type": "stream",
     "text": [
      "[4, 9, 25, 36, 121, 169]\n"
     ]
    }
   ],
   "source": [
    "# Condition can also include a funtion\n",
    "\n",
    "\n",
    "def is_prime(n):\n",
    "    return n in [2, 3, 5, 6, 11, 13, 17, 19, 23, 29]\n",
    "\n",
    "def squared(n):\n",
    "    return n*n\n",
    "\n",
    "num_list = [0, 1, 2, 3, 4, 5, 6, 7, 8, 9, 10, 11, 12, 13, 14, 15]\n",
    "primes_squared_list = [squared(n) for n in num_list if is_prime(n)]\n",
    "print(primes_squared_list)\n"
   ]
  },
  {
   "cell_type": "markdown",
   "metadata": {},
   "source": [
    "## List Comprehension with Conditional Assignment"
   ]
  },
  {
   "cell_type": "code",
   "execution_count": 17,
   "metadata": {},
   "outputs": [],
   "source": [
    "# List comprehension with conditional assignment\n",
    "# [expression_a if condition else expression_b for item in iterable]\n",
    "\n",
    "# The same as:\n",
    "# for item in iterable:\n",
    "#    if condition:\n",
    "#        expression_a\n",
    "#    else \n",
    "#        expression_b"
   ]
  },
  {
   "cell_type": "code",
   "execution_count": 18,
   "metadata": {},
   "outputs": [
    {
     "name": "stdout",
     "output_type": "stream",
     "text": [
      "[0, 1, 2, 3, 4, 5, 6, 7, 8, 8, 8, 8, 8]\n"
     ]
    }
   ],
   "source": [
    "num_list = [0, 1, 2, 3, 4, 5, 6, 7, 8, 9, 10, 11, 12]\n",
    "max_val = 8\n",
    "saturated_list = [n if n < max_val else max_val for n in num_list]\n",
    "print(saturated_list)"
   ]
  },
  {
   "cell_type": "markdown",
   "metadata": {},
   "source": [
    "## Nested List Comprehension"
   ]
  },
  {
   "cell_type": "code",
   "execution_count": 19,
   "metadata": {},
   "outputs": [],
   "source": [
    "# Nested List comprehension\n",
    "# [expression for sub_list in outer_list for item in sub_list]\n",
    "\n",
    "# The same as:\n",
    "# for sub_list in outer_list:\n",
    "#    for item in sub_list:\n",
    "#        expression"
   ]
  },
  {
   "cell_type": "code",
   "execution_count": 21,
   "metadata": {},
   "outputs": [
    {
     "name": "stdout",
     "output_type": "stream",
     "text": [
      "[1, 4, 9, 16, 49, 64, 81]\n"
     ]
    }
   ],
   "source": [
    "nested_list = [[1,2,3,4], [7,8,9]]\n",
    "squared_list = [n*n for numbers in nested_list for n in numbers]\n",
    "print(squared_list)"
   ]
  },
  {
   "cell_type": "markdown",
   "metadata": {},
   "source": [
    "## Set Creation with Comprehension"
   ]
  },
  {
   "cell_type": "code",
   "execution_count": 22,
   "metadata": {},
   "outputs": [],
   "source": [
    "# Basic syntax:\n",
    "# {expression for item in iterable}\n",
    "\n",
    "# which is the same as:\n",
    "# for item in iterable:\n",
    "#    expression"
   ]
  },
  {
   "cell_type": "code",
   "execution_count": 26,
   "metadata": {},
   "outputs": [
    {
     "name": "stdout",
     "output_type": "stream",
     "text": [
      "{66, 102, 76, 80, 222}\n"
     ]
    }
   ],
   "source": [
    "num_set = {1, 76, 222, 45, 23, 7, 55, 66, 9, 102, 213, 80}\n",
    "even_numbers_set = {n for n in num_set if n%2 == 0}\n",
    "print(even_numbers_set)"
   ]
  },
  {
   "cell_type": "markdown",
   "metadata": {},
   "source": [
    "## Dictorary Comprehension"
   ]
  },
  {
   "cell_type": "code",
   "execution_count": 27,
   "metadata": {},
   "outputs": [],
   "source": [
    "# Basic syntax:\n",
    "# {key_expression : value_expression for item in iterable}"
   ]
  },
  {
   "cell_type": "code",
   "execution_count": 29,
   "metadata": {},
   "outputs": [
    {
     "name": "stdout",
     "output_type": "stream",
     "text": [
      "{'mazda': 5, 'ford': 4, 'kia': 3, 'mercedes': 8, 'cadillac': 8, 'tesla': 5, 'mercury': 7}\n",
      "{'mazda': 5, 'mercedes': 8, 'mercury': 7}\n"
     ]
    }
   ],
   "source": [
    "car_names = { \"cadillac\", \"ford\", \"mercedes\", \"tesla\", \"mazda\", \"kia\", \"mercury\"}\n",
    "car_name_len_dict = {name : len(name) for name in car_names }\n",
    "print(car_name_len_dict)\n",
    "car_names_starts_with_m = {name : len(name) for name in car_names if name.startswith('m')}\n",
    "print(car_names_starts_with_m)"
   ]
  },
  {
   "cell_type": "code",
   "execution_count": null,
   "metadata": {},
   "outputs": [],
   "source": []
  }
 ],
 "metadata": {
  "kernelspec": {
   "display_name": ".venv",
   "language": "python",
   "name": "python3"
  },
  "language_info": {
   "codemirror_mode": {
    "name": "ipython",
    "version": 3
   },
   "file_extension": ".py",
   "mimetype": "text/x-python",
   "name": "python",
   "nbconvert_exporter": "python",
   "pygments_lexer": "ipython3",
   "version": "3.12.7"
  },
  "orig_nbformat": 2
 },
 "nbformat": 4,
 "nbformat_minor": 2
}
