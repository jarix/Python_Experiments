{
 "metadata": {
  "language_info": {
   "codemirror_mode": {
    "name": "ipython",
    "version": 3
   },
   "file_extension": ".py",
   "mimetype": "text/x-python",
   "name": "python",
   "nbconvert_exporter": "python",
   "pygments_lexer": "ipython3",
   "version": "3.8.5-final"
  },
  "orig_nbformat": 2,
  "kernelspec": {
   "name": "python3",
   "display_name": "Python 3",
   "language": "python"
  }
 },
 "nbformat": 4,
 "nbformat_minor": 2,
 "cells": [
  {
   "source": [
    "# Enum 101"
   ],
   "cell_type": "markdown",
   "metadata": {}
  },
  {
   "cell_type": "code",
   "execution_count": 1,
   "metadata": {},
   "outputs": [],
   "source": [
    "# Prerequisites\n",
    "import enum"
   ]
  },
  {
   "source": [
    "## Enum Basics"
   ],
   "cell_type": "markdown",
   "metadata": {}
  },
  {
   "cell_type": "code",
   "execution_count": 10,
   "metadata": {},
   "outputs": [
    {
     "output_type": "stream",
     "name": "stdout",
     "text": [
      "String represenation: Cars.sedan\nrepr representation: <Cars.sedan: 1>\nType: <enum 'Cars'>\nName: sedan\nValue: 1\n"
     ]
    }
   ],
   "source": [
    "# Enums in Pythons are created with classes\n",
    "class Cars(enum.Enum):\n",
    "    sedan = 1\n",
    "    couple = 2\n",
    "    convertible = 3\n",
    "\n",
    "print(f\"String represenation: {Cars.sedan}\")\n",
    "print(f\"repr representation: {repr(Cars.sedan)}\")\n",
    "print(f\"Type: {type(Cars.sedan)}\")\n",
    "print(f\"Name: {Cars.sedan.name}\")\n",
    "print(f\"Value: {Cars.sedan.value}\")"
   ]
  },
  {
   "source": [
    "## Iteration"
   ],
   "cell_type": "markdown",
   "metadata": {}
  },
  {
   "cell_type": "code",
   "execution_count": 12,
   "metadata": {},
   "outputs": [
    {
     "output_type": "stream",
     "name": "stdout",
     "text": [
      "Cars.sedan\nCars.couple\nCars.convertible\n"
     ]
    }
   ],
   "source": [
    "# Enums are iterable\n",
    "for car in Cars:\n",
    "    print(car)"
   ]
  },
  {
   "cell_type": "code",
   "execution_count": 14,
   "metadata": {},
   "outputs": [
    {
     "output_type": "stream",
     "name": "stdout",
     "text": [
      "sedan = 1\ncouple = 2\nconvertible = 3\n"
     ]
    }
   ],
   "source": [
    "for car in Cars:\n",
    "    print(car.name, end=\"\")\n",
    "    print(\" = \", end=\"\")\n",
    "    print(car.value)"
   ]
  },
  {
   "source": [
    "## Comparison"
   ],
   "cell_type": "markdown",
   "metadata": {}
  },
  {
   "cell_type": "code",
   "execution_count": 18,
   "metadata": {},
   "outputs": [
    {
     "output_type": "stream",
     "name": "stdout",
     "text": [
      "different\nValue is 1\nName is sedan\n"
     ]
    }
   ],
   "source": [
    "cadillac = Cars.sedan\n",
    "saab = Cars.convertible\n",
    "\n",
    "if cadillac == saab:\n",
    "    print(\"the same\")\n",
    "else:\n",
    "    print(\"different\")\n",
    "\n",
    "if cadillac.value == 1:\n",
    "    print(\"Value is 1\")\n",
    "if cadillac.name == \"sedan\":\n",
    "    print(\"Name is sedan\")"
   ]
  },
  {
   "cell_type": "code",
   "execution_count": null,
   "metadata": {},
   "outputs": [],
   "source": []
  }
 ]
}