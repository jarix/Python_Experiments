{
 "cells": [
  {
   "cell_type": "markdown",
   "metadata": {},
   "source": [
    "# Python Classes 101"
   ]
  },
  {
   "cell_type": "markdown",
   "metadata": {},
   "source": [
    "## Simple class declration"
   ]
  },
  {
   "cell_type": "code",
   "execution_count": 3,
   "metadata": {},
   "outputs": [],
   "source": [
    "# Class Declaration\n",
    "class AutoMobile: \n",
    "    \"\"\" An example Python class \"\"\"\n",
    "    num_doors = 4    # Class variable shared by all instances\n",
    "\n",
    "    def __init__(self, name = \"Auto\", color = \"red\"):\n",
    "        \"\"\" Initializaer method\n",
    "        \"\"\"\n",
    "        self.name = name   # Instance variable unique to each instance\n",
    "        self.color = color   \n",
    "\n",
    "    def __str__(self):\n",
    "        \"\"\" This method is executed when Python tries to cast the object to a string \n",
    "        \"\"\"\n",
    "        return f\"Name: {self.name}, color: {self.color}\"\n",
    "\n",
    "    def describe(self):\n",
    "        print(f\"Name: '{self.name}'\")\n",
    "        print(f\"Color: '{self.color}'\")\n",
    "        print(f\"Number of Doors: {self.num_doors}\")\n"
   ]
  },
  {
   "cell_type": "markdown",
   "metadata": {},
   "source": [
    "## Instantiation"
   ]
  },
  {
   "cell_type": "code",
   "execution_count": 4,
   "metadata": {},
   "outputs": [
    {
     "name": "stdout",
     "output_type": "stream",
     "text": [
      "Name: Auto, color: red\n",
      "Name: 'My Car'\n",
      "Color: 'red'\n",
      "Number of Doors: 4\n",
      "Name: 'My Car 2'\n",
      "Color: 'black'\n",
      "Number of Doors: 4\n"
     ]
    }
   ],
   "source": [
    "auto1 = AutoMobile()\n",
    "print(auto1)\n",
    "\n",
    "auto2 = AutoMobile(\"My Car\")\n",
    "auto2.describe()\n",
    "auto2 = AutoMobile(name = \"My Car 2\", color = \"black\")\n",
    "auto2.describe()"
   ]
  },
  {
   "cell_type": "markdown",
   "metadata": {},
   "source": [
    "## dir() = find all methods, type() = type of object"
   ]
  },
  {
   "cell_type": "code",
   "execution_count": 5,
   "metadata": {},
   "outputs": [
    {
     "data": {
      "text/plain": [
       "['__class__',\n",
       " '__delattr__',\n",
       " '__dict__',\n",
       " '__dir__',\n",
       " '__doc__',\n",
       " '__eq__',\n",
       " '__format__',\n",
       " '__ge__',\n",
       " '__getattribute__',\n",
       " '__gt__',\n",
       " '__hash__',\n",
       " '__init__',\n",
       " '__init_subclass__',\n",
       " '__le__',\n",
       " '__lt__',\n",
       " '__module__',\n",
       " '__ne__',\n",
       " '__new__',\n",
       " '__reduce__',\n",
       " '__reduce_ex__',\n",
       " '__repr__',\n",
       " '__setattr__',\n",
       " '__sizeof__',\n",
       " '__str__',\n",
       " '__subclasshook__',\n",
       " '__weakref__',\n",
       " 'color',\n",
       " 'describe',\n",
       " 'name',\n",
       " 'num_doors']"
      ]
     },
     "execution_count": 5,
     "metadata": {},
     "output_type": "execute_result"
    }
   ],
   "source": [
    "dir(auto1)"
   ]
  },
  {
   "cell_type": "code",
   "execution_count": 8,
   "metadata": {},
   "outputs": [
    {
     "name": "stdout",
     "output_type": "stream",
     "text": [
      "<class '__main__.AutoMobile'>\n"
     ]
    }
   ],
   "source": [
    "print(type(auto1))"
   ]
  },
  {
   "cell_type": "code",
   "execution_count": 9,
   "metadata": {},
   "outputs": [
    {
     "name": "stdout",
     "output_type": "stream",
     "text": [
      "<class 'type'>\n"
     ]
    }
   ],
   "source": [
    "print(type(AutoMobile))"
   ]
  },
  {
   "cell_type": "markdown",
   "metadata": {},
   "source": [
    "## Instance objects\n",
    "New instance variables can be created by assigning to them, and deleted with del  "
   ]
  },
  {
   "cell_type": "code",
   "execution_count": 10,
   "metadata": {},
   "outputs": [
    {
     "name": "stdout",
     "output_type": "stream",
     "text": [
      "Engine size:  4000\n"
     ]
    }
   ],
   "source": [
    "auto1.engine_size = 3000\n",
    "auto1.engine_size += 1000\n",
    "print(\"Engine size: \", auto1.engine_size)\n",
    "del auto1.engine_size"
   ]
  },
  {
   "cell_type": "markdown",
   "metadata": {},
   "source": [
    "## Class and Instance Attribute name conflicts\n",
    "If class and Instance attributes have the same name, then instanace attribute takes precedence"
   ]
  },
  {
   "cell_type": "code",
   "execution_count": 6,
   "metadata": {},
   "outputs": [
    {
     "name": "stdout",
     "output_type": "stream",
     "text": [
      "Name: Auto 4\n",
      "Color: Blue\n",
      "Number of Doors: 4\n"
     ]
    }
   ],
   "source": [
    "auto4 = AutoMobile(\"Auto 4\", \"Blue\")\n",
    "auto4.describe()"
   ]
  },
  {
   "cell_type": "code",
   "execution_count": 7,
   "metadata": {},
   "outputs": [
    {
     "name": "stdout",
     "output_type": "stream",
     "text": [
      "Name: Auto 4\n",
      "Color: Blue\n",
      "Number of Doors: 5\n"
     ]
    }
   ],
   "source": [
    "auto4.num_doors = 5  # Create instance variable with the same name as class variable\n",
    "auto4.describe()"
   ]
  },
  {
   "cell_type": "markdown",
   "metadata": {},
   "source": [
    "## Inheritance"
   ]
  },
  {
   "cell_type": "code",
   "execution_count": 8,
   "metadata": {},
   "outputs": [],
   "source": [
    "class SportsCar(AutoMobile):\n",
    "\n",
    "    horsepower = 400\n",
    "    num_doors = 2     # Override parent\n"
   ]
  },
  {
   "cell_type": "code",
   "execution_count": 9,
   "metadata": {},
   "outputs": [
    {
     "name": "stdout",
     "output_type": "stream",
     "text": [
      "Name: Porsche\n",
      "Color: yellow\n",
      "Number of Doors: 2\n"
     ]
    }
   ],
   "source": [
    "porsche = SportsCar(\"Porsche\", \"yellow\")\n",
    "porsche.describe()"
   ]
  },
  {
   "cell_type": "code",
   "execution_count": 10,
   "metadata": {},
   "outputs": [
    {
     "data": {
      "text/plain": [
       "True"
      ]
     },
     "execution_count": 10,
     "metadata": {},
     "output_type": "execute_result"
    }
   ],
   "source": [
    "isinstance(porsche, AutoMobile)"
   ]
  },
  {
   "cell_type": "code",
   "execution_count": 11,
   "metadata": {},
   "outputs": [
    {
     "data": {
      "text/plain": [
       "True"
      ]
     },
     "execution_count": 11,
     "metadata": {},
     "output_type": "execute_result"
    }
   ],
   "source": [
    "issubclass(SportsCar, AutoMobile)"
   ]
  },
  {
   "cell_type": "markdown",
   "metadata": {},
   "source": [
    "## Private Variables\n",
    "No private variables in Python, but by convention variable and methods starting with __ should be considered private.  Variable started with _ is considered protected\n",
    "Any identifier starting with at least two underscores __ will be name mangled from __variable to _classname__variable"
   ]
  },
  {
   "cell_type": "code",
   "execution_count": 17,
   "metadata": {},
   "outputs": [
    {
     "name": "stdout",
     "output_type": "stream",
     "text": [
      "In Truck.__init__(), name = Chevy Silverado\n",
      "In Truck class, name:  Chevy Silverado\n",
      "Color:  Silver\n",
      "In PickupTruck.__init__(), name = Ford F150\n",
      "In Truck.__init__(), name = Ford F150\n",
      "In PickupTruck class, name:  Ford F150\n",
      "Color:  Red\n",
      "Horsepower:  400\n",
      "In Truck class, name:  Ford F150\n",
      "Color:  Red\n"
     ]
    }
   ],
   "source": [
    "class Truck:\n",
    "    def __init__(self, name=\"Name\", color = \"White\"):\n",
    "        print(f\"In Truck.__init__(), name = {name}\")\n",
    "        self.name = name\n",
    "        self.color = color\n",
    "\n",
    "    def describe(self):\n",
    "        print(\"In Truck class, name: \", self.name)\n",
    "        print(\"Color: \", self.color)\n",
    "\n",
    "    __describe = describe\n",
    "\n",
    "class PickupTruck(Truck):\n",
    "    horsepower = 400\n",
    "\n",
    "    def __init__(self, name=\"Name\", color = \"Red\"):\n",
    "        print(f\"In PickupTruck.__init__(), name = {name}\")\n",
    "        # Call parent's __init__() function\n",
    "        super(PickupTruck, self).__init__(name, color)\n",
    "        \n",
    "    def describe(self):  ## Override parent method\n",
    "        print(\"In PickupTruck class, name: \", self.name)\n",
    "        print(\"Color: \", self.color)\n",
    "        print(\"Horsepower: \", self.horsepower)\n",
    "\n",
    "\n",
    "\n",
    "chevy = Truck(\"Chevy Silverado\", \"Silver\")\n",
    "chevy.describe()\n",
    "ford = PickupTruck(\"Ford F150\")\n",
    "ford.describe()\n",
    "ford._Truck__describe()"
   ]
  },
  {
   "cell_type": "code",
   "execution_count": null,
   "metadata": {},
   "outputs": [],
   "source": []
  }
 ],
 "metadata": {
  "kernelspec": {
   "display_name": "Python 3.7.2 64-bit (conda)",
   "metadata": {
    "interpreter": {
     "hash": "b4fc114dc99cac2f3bf5afa2bb2f596f067628859021283b802190f7af781e75"
    }
   },
   "name": "python3"
  },
  "language_info": {
   "codemirror_mode": {
    "name": "ipython",
    "version": 3
   },
   "file_extension": ".py",
   "mimetype": "text/x-python",
   "name": "python",
   "nbconvert_exporter": "python",
   "pygments_lexer": "ipython3",
   "version": "3.10.9"
  },
  "orig_nbformat": 2
 },
 "nbformat": 4,
 "nbformat_minor": 2
}
