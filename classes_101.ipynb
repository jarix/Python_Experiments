{
 "metadata": {
  "language_info": {
   "codemirror_mode": {
    "name": "ipython",
    "version": 3
   },
   "file_extension": ".py",
   "mimetype": "text/x-python",
   "name": "python",
   "nbconvert_exporter": "python",
   "pygments_lexer": "ipython3",
   "version": "3.7.2-final"
  },
  "orig_nbformat": 2,
  "kernelspec": {
   "name": "python3",
   "display_name": "Python 3.7.2 64-bit (conda)",
   "metadata": {
    "interpreter": {
     "hash": "b4fc114dc99cac2f3bf5afa2bb2f596f067628859021283b802190f7af781e75"
    }
   }
  }
 },
 "nbformat": 4,
 "nbformat_minor": 2,
 "cells": [
  {
   "source": [
    "# Python Classes 101"
   ],
   "cell_type": "markdown",
   "metadata": {}
  },
  {
   "source": [
    "## Simple class declration"
   ],
   "cell_type": "markdown",
   "metadata": {}
  },
  {
   "cell_type": "code",
   "execution_count": 1,
   "metadata": {},
   "outputs": [],
   "source": [
    "# Class Declaration\n",
    "class AutoMobile: \n",
    "    \"\"\" An example Python class \"\"\"\n",
    "    num_doors = 4    # Class variable shared by all instances\n",
    "\n",
    "    def __init__(self, name = \"Auto\", color = \"red\"):  # Instantiation operation\n",
    "        self.name = name   # Instance variable unique to each instance\n",
    "        self.color = color   \n",
    "\n",
    "\n",
    "    def describe(self):\n",
    "        print(\"Name:\", self.name)\n",
    "        print(\"Color:\", self.color)\n",
    "        print(\"Number of Doors:\", self.num_doors)\n"
   ]
  },
  {
   "source": [
    "## Instantiation"
   ],
   "cell_type": "markdown",
   "metadata": {}
  },
  {
   "cell_type": "code",
   "execution_count": 2,
   "metadata": {},
   "outputs": [
    {
     "output_type": "stream",
     "name": "stdout",
     "text": [
      "Name: Auto\nColor: red\nNumber of Doors: 4\nName: My Car\nColor: red\nNumber of Doors: 4\nName: My Car 2\nColor: black\nNumber of Doors: 4\n"
     ]
    }
   ],
   "source": [
    "auto1 = AutoMobile()\n",
    "auto1.describe()\n",
    "auto2 = AutoMobile(\"My Car\")\n",
    "auto2.describe()\n",
    "auto2 = AutoMobile(name = \"My Car 2\", color = \"black\")\n",
    "auto2.describe()"
   ]
  },
  {
   "source": [
    "## Instance objects\n",
    "New instance variables can be created by assigning to them, and deleted with del  "
   ],
   "cell_type": "markdown",
   "metadata": {}
  },
  {
   "cell_type": "code",
   "execution_count": 3,
   "metadata": {},
   "outputs": [
    {
     "output_type": "stream",
     "name": "stdout",
     "text": [
      "Engine size:  4000\n"
     ]
    }
   ],
   "source": [
    "auto1.engine_size = 3000\n",
    "auto1.engine_size += 1000\n",
    "print(\"Engine size: \", auto1.engine_size)\n",
    "del auto1.engine_size"
   ]
  },
  {
   "source": [
    "## Class and Instance Attribute name conflicts\n",
    "If class and Instance attributes have the same name, then instanace attribute takes precedence"
   ],
   "cell_type": "markdown",
   "metadata": {}
  },
  {
   "cell_type": "code",
   "execution_count": 4,
   "metadata": {},
   "outputs": [
    {
     "output_type": "stream",
     "name": "stdout",
     "text": [
      "Name: Auto 4\nColor: Blue\nNumber of Doors: 4\n"
     ]
    }
   ],
   "source": [
    "auto4 = AutoMobile(\"Auto 4\", \"Blue\")\n",
    "auto4.describe()"
   ]
  },
  {
   "cell_type": "code",
   "execution_count": 5,
   "metadata": {},
   "outputs": [
    {
     "output_type": "stream",
     "name": "stdout",
     "text": [
      "Name: Auto 4\nColor: Blue\nNumber of Doors: 5\n"
     ]
    }
   ],
   "source": [
    "auto4.num_doors = 5  # Create instance variable with the same name as class variable\n",
    "auto4.describe()"
   ]
  },
  {
   "source": [
    "## Inheritance"
   ],
   "cell_type": "markdown",
   "metadata": {}
  },
  {
   "cell_type": "code",
   "execution_count": 6,
   "metadata": {},
   "outputs": [],
   "source": [
    "class SportsCar(AutoMobile):\n",
    "\n",
    "    horsepower = 400\n",
    "    num_doors = 2     # Override parent\n"
   ]
  },
  {
   "cell_type": "code",
   "execution_count": 7,
   "metadata": {},
   "outputs": [
    {
     "output_type": "stream",
     "name": "stdout",
     "text": [
      "Name: Porsche\nColor: yellow\nNumber of Doors: 2\n"
     ]
    }
   ],
   "source": [
    "porsche = SportsCar(\"Porsche\", \"yellow\")\n",
    "porsche.describe()"
   ]
  },
  {
   "cell_type": "code",
   "execution_count": 8,
   "metadata": {},
   "outputs": [
    {
     "output_type": "execute_result",
     "data": {
      "text/plain": [
       "True"
      ]
     },
     "metadata": {},
     "execution_count": 8
    }
   ],
   "source": [
    "isinstance(porsche, AutoMobile)"
   ]
  },
  {
   "cell_type": "code",
   "execution_count": 9,
   "metadata": {},
   "outputs": [
    {
     "output_type": "execute_result",
     "data": {
      "text/plain": [
       "True"
      ]
     },
     "metadata": {},
     "execution_count": 9
    }
   ],
   "source": [
    "issubclass(SportsCar, AutoMobile)"
   ]
  },
  {
   "source": [
    "## Private Variables\n",
    "No private variables in Python, but by convention variable and methods starting with _ should be considered private.\n",
    "Any identifier starting with at least two underscores __ will be name mangled from __variable to _classname__variable"
   ],
   "cell_type": "markdown",
   "metadata": {}
  },
  {
   "cell_type": "code",
   "execution_count": 10,
   "metadata": {},
   "outputs": [
    {
     "output_type": "stream",
     "name": "stdout",
     "text": [
      "In Truck class, name:  Chevy Silverado\nColor:  Silver\nIn PickupTruck class, name:  Ford F150\nColor:  White\nHorsepower:  400\nIn Truck class, name:  Ford F150\nColor:  White\n"
     ]
    }
   ],
   "source": [
    "class Truck:\n",
    "\n",
    "    def __init__(self, name=\"Name\", color = \"White\"):\n",
    "        self.name = name\n",
    "        self.color = color\n",
    "\n",
    "    def describe(self):\n",
    "        print(\"In Truck class, name: \", self.name)\n",
    "        print(\"Color: \", self.color)\n",
    "\n",
    "    __describe = describe\n",
    "\n",
    "class PickupTruck(Truck):\n",
    "    horsepower = 400\n",
    "\n",
    "    def describe(self):  ## Override parent method\n",
    "        print(\"In PickupTruck class, name: \", self.name)\n",
    "        print(\"Color: \", self.color)\n",
    "        print(\"Horsepower: \", self.horsepower)\n",
    "\n",
    "\n",
    "\n",
    "chevy = Truck(\"Chevy Silverado\", \"Silver\")\n",
    "chevy.describe()\n",
    "ford = PickupTruck(\"Ford F150\")\n",
    "ford.describe()\n",
    "ford._Truck__describe()"
   ]
  },
  {
   "cell_type": "code",
   "execution_count": 10,
   "metadata": {},
   "outputs": [],
   "source": [
    "\n"
   ]
  },
  {
   "cell_type": "code",
   "execution_count": null,
   "metadata": {},
   "outputs": [],
   "source": []
  }
 ]
}