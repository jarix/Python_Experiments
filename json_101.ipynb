{
 "metadata": {
  "language_info": {
   "codemirror_mode": {
    "name": "ipython",
    "version": 3
   },
   "file_extension": ".py",
   "mimetype": "text/x-python",
   "name": "python",
   "nbconvert_exporter": "python",
   "pygments_lexer": "ipython3",
   "version": "3.8.5-final"
  },
  "orig_nbformat": 2,
  "kernelspec": {
   "name": "python3",
   "display_name": "Python 3",
   "language": "python"
  }
 },
 "nbformat": 4,
 "nbformat_minor": 2,
 "cells": [
  {
   "source": [
    "# JSON 101 (Javascript Object Notation)"
   ],
   "cell_type": "markdown",
   "metadata": {}
  },
  {
   "cell_type": "code",
   "execution_count": 1,
   "metadata": {},
   "outputs": [],
   "source": [
    "# Prerequisites\n",
    "import json"
   ]
  },
  {
   "source": [
    "## Json String into Python Object"
   ],
   "cell_type": "markdown",
   "metadata": {}
  },
  {
   "cell_type": "code",
   "execution_count": 4,
   "metadata": {},
   "outputs": [],
   "source": [
    "employees_json_string = '''\n",
    "{\n",
    "    \"employee\": [\n",
    "        {\n",
    "            \"name\": \"John Smith\",\n",
    "            \"phone\": \"123-456-7890\",\n",
    "            \"emails\": [\"john.smith@company.com\", \"john_smith@gmail.com\"],\n",
    "            \"licensed\": true\n",
    "        },\n",
    "        {\n",
    "            \"name\": \"Jane Doe\",\n",
    "            \"phone\": \"321-654-0987\",\n",
    "            \"emails\": \"jane.doe@company.com\",\n",
    "            \"licensed\": false\n",
    "        },\n",
    "        {\n",
    "            \"name\": \"Jack Trade\",\n",
    "            \"phone\": \"321-654-1234\",\n",
    "            \"emails\": null,\n",
    "            \"licensed\": true\n",
    "        }\n",
    "    ]\n",
    "}\n",
    "'''"
   ]
  },
  {
   "cell_type": "code",
   "execution_count": 5,
   "metadata": {},
   "outputs": [
    {
     "output_type": "stream",
     "name": "stdout",
     "text": [
      "{'employee': [{'name': 'John Smith', 'phone': '123-456-7890', 'emails': ['john.smith@company.com', 'john_smith@gmail.com'], 'licensed': True}, {'name': 'Jane Doe', 'phone': '321-654-0987', 'emails': 'jane.doe@company.com', 'licensed': False}, {'name': 'Jack Trade', 'phone': '321-654-1234', 'emails': None, 'licensed': True}]}\n"
     ]
    }
   ],
   "source": [
    "# Load JSON from string\n",
    "data = json.loads(employees_json_string)\n",
    "print(data)"
   ]
  },
  {
   "cell_type": "code",
   "execution_count": 6,
   "metadata": {},
   "outputs": [
    {
     "output_type": "stream",
     "name": "stdout",
     "text": [
      "<class 'dict'>\n<class 'list'>\n"
     ]
    }
   ],
   "source": [
    "# JSON gets converted to Python datatypes \n",
    "print(type(data))\n",
    "print(type(data['employee']))"
   ]
  },
  {
   "cell_type": "code",
   "execution_count": 7,
   "metadata": {},
   "outputs": [
    {
     "output_type": "stream",
     "name": "stdout",
     "text": [
      "{'name': 'John Smith', 'phone': '123-456-7890', 'emails': ['john.smith@company.com', 'john_smith@gmail.com'], 'licensed': True}\n{'name': 'Jane Doe', 'phone': '321-654-0987', 'emails': 'jane.doe@company.com', 'licensed': False}\n{'name': 'Jack Trade', 'phone': '321-654-1234', 'emails': None, 'licensed': True}\n"
     ]
    }
   ],
   "source": [
    "# Loop thru the data\n",
    "for employee in data['employee']:\n",
    "    print(employee)"
   ]
  },
  {
   "cell_type": "code",
   "execution_count": 8,
   "metadata": {},
   "outputs": [
    {
     "output_type": "stream",
     "name": "stdout",
     "text": [
      "John Smith\nJane Doe\nJack Trade\n"
     ]
    }
   ],
   "source": [
    "# Loop thru the data\n",
    "for employee in data['employee']:\n",
    "    print(employee['name'])"
   ]
  },
  {
   "source": [
    "## Python Object into JSON String"
   ],
   "cell_type": "markdown",
   "metadata": {}
  },
  {
   "cell_type": "code",
   "execution_count": 9,
   "metadata": {},
   "outputs": [],
   "source": [
    "# Remove licensed key\n",
    "for employee in data['employee']:\n",
    "    del employee['licensed']"
   ]
  },
  {
   "cell_type": "code",
   "execution_count": 13,
   "metadata": {},
   "outputs": [
    {
     "output_type": "stream",
     "name": "stdout",
     "text": [
      "{\"employee\": [{\"name\": \"John Smith\", \"phone\": \"123-456-7890\", \"emails\": [\"john.smith@company.com\", \"john_smith@gmail.com\"]}, {\"name\": \"Jane Doe\", \"phone\": \"321-654-0987\", \"emails\": \"jane.doe@company.com\"}, {\"name\": \"Jack Trade\", \"phone\": \"321-654-1234\", \"emails\": null}]}\n"
     ]
    }
   ],
   "source": [
    "new_employee_json_string = json.dumps(data)\n",
    "print(new_employee_json_string)"
   ]
  },
  {
   "cell_type": "code",
   "execution_count": 16,
   "metadata": {},
   "outputs": [
    {
     "output_type": "stream",
     "name": "stdout",
     "text": [
      "{\n  \"employee\": [\n    {\n      \"name\": \"John Smith\",\n      \"phone\": \"123-456-7890\",\n      \"emails\": [\n        \"john.smith@company.com\",\n        \"john_smith@gmail.com\"\n      ]\n    },\n    {\n      \"name\": \"Jane Doe\",\n      \"phone\": \"321-654-0987\",\n      \"emails\": \"jane.doe@company.com\"\n    },\n    {\n      \"name\": \"Jack Trade\",\n      \"phone\": \"321-654-1234\",\n      \"emails\": null\n    }\n  ]\n}\n"
     ]
    }
   ],
   "source": [
    "# Intend to print nice\n",
    "new_employee_json_string_intended = json.dumps(data, indent=2)\n",
    "print(new_employee_json_string_intended)"
   ]
  },
  {
   "cell_type": "code",
   "execution_count": 17,
   "metadata": {},
   "outputs": [
    {
     "output_type": "stream",
     "name": "stdout",
     "text": [
      "{\n  \"employee\": [\n    {\n      \"emails\": [\n        \"john.smith@company.com\",\n        \"john_smith@gmail.com\"\n      ],\n      \"name\": \"John Smith\",\n      \"phone\": \"123-456-7890\"\n    },\n    {\n      \"emails\": \"jane.doe@company.com\",\n      \"name\": \"Jane Doe\",\n      \"phone\": \"321-654-0987\"\n    },\n    {\n      \"emails\": null,\n      \"name\": \"Jack Trade\",\n      \"phone\": \"321-654-1234\"\n    }\n  ]\n}\n"
     ]
    }
   ],
   "source": [
    "# Intend to print nice sort keys\n",
    "new_employee_json_string_intended = json.dumps(data, indent=2, sort_keys=True)\n",
    "print(new_employee_json_string_intended)"
   ]
  },
  {
   "source": [
    "## Load JSON from file"
   ],
   "cell_type": "markdown",
   "metadata": {}
  },
  {
   "cell_type": "code",
   "execution_count": 19,
   "metadata": {},
   "outputs": [],
   "source": [
    "import json\n",
    "\n",
    "with open('states_area_codes.json') as f:\n",
    "    data = json.load(f)"
   ]
  },
  {
   "cell_type": "code",
   "execution_count": 22,
   "metadata": {},
   "outputs": [
    {
     "output_type": "stream",
     "name": "stdout",
     "text": [
      "{'name': 'Alabama', 'abbrev': 'AL', 'area_codes': ['205', '251', '256', '334', '938']}\n{'name': 'Alaska', 'abbrev': 'AK', 'area_codes': ['907']}\n{'name': 'Arizona', 'abbrev': 'AZ', 'area_codes': ['480', '520', '602', '623', '928']}\n{'name': 'Arkansas', 'abbrev': 'AR', 'area_codes': ['479', '501', '870']}\n{'name': 'California', 'abbrev': 'CA', 'area_codes': ['209', '213', '310', '323', '408', '415', '424', '442', '510', '530', '559', '562', '619', '626', '628', '650', '657', '661', '669', '707', '714', '747', '760', '805', '818', '831', '858', '909', '916', '925', '949', '951']}\n{'name': 'Colorado', 'abbrev': 'CO', 'area_codes': ['303', '719', '720', '970']}\n{'name': 'Connecticut', 'abbrev': 'CT', 'area_codes': ['203', '475', '860', '959']}\n{'name': 'Delaware', 'abbrev': 'DE', 'area_codes': ['302']}\n{'name': 'Florida', 'abbrev': 'FL', 'area_codes': ['239', '305', '321', '352', '386', '407', '561', '727', '754', '772', '786', '813', '850', '863', '904', '941', '954']}\n{'name': 'Georgia', 'abbrev': 'GA', 'area_codes': ['229', '404', '470', '478', '678', '706', '762', '770', '912']}\n{'name': 'Hawaii', 'abbrev': 'HI', 'area_codes': ['808']}\n{'name': 'Idaho', 'abbrev': 'ID', 'area_codes': ['208']}\n{'name': 'Illinois', 'abbrev': 'IL', 'area_codes': ['217', '224', '309', '312', '331', '618', '630', '708', '773', '779', '815', '847', '872']}\n{'name': 'Indiana', 'abbrev': 'IN', 'area_codes': ['219', '260', '317', '463', '574', '765', '812', '930']}\n{'name': 'Iowa', 'abbrev': 'IA', 'area_codes': ['319', '515', '563', '641', '712']}\n{'name': 'Kansas', 'abbrev': 'KS', 'area_codes': ['316', '620', '785', '913']}\n{'name': 'Kentucky', 'abbrev': 'KY', 'area_codes': ['270', '364', '502', '606', '859']}\n{'name': 'Louisiana', 'abbrev': 'LA', 'area_codes': ['225', '318', '337', '504', '985']}\n{'name': 'Maine', 'abbrev': 'ME', 'area_codes': ['207']}\n{'name': 'Maryland', 'abbrev': 'MD', 'area_codes': ['240', '301', '410', '443', '667']}\n{'name': 'Massachusetts', 'abbrev': 'MA', 'area_codes': ['339', '351', '413', '508', '617', '774', '781', '857', '978']}\n{'name': 'Michigan', 'abbrev': 'MI', 'area_codes': ['231', '248', '269', '313', '517', '586', '616', '734', '810', '906', '947', '989']}\n{'name': 'Minnesota', 'abbrev': 'MN', 'area_codes': ['218', '320', '507', '612', '651', '763', '952']}\n{'name': 'Mississippi', 'abbrev': 'MS', 'area_codes': ['228', '601', '662', '769']}\n{'name': 'Missouri', 'abbrev': 'MO', 'area_codes': ['314', '417', '573', '636', '660', '816']}\n{'name': 'Montana', 'abbrev': 'MT', 'area_codes': ['406']}\n{'name': 'Nebraska', 'abbrev': 'NE', 'area_codes': ['308', '402', '531']}\n{'name': 'Nevada', 'abbrev': 'NV', 'area_codes': ['702', '725', '775']}\n{'name': 'New Hampshire', 'abbrev': 'NH', 'area_codes': ['603']}\n{'name': 'New Jersey', 'abbrev': 'NJ', 'area_codes': ['201', '551', '609', '732', '848', '856', '862', '908', '973']}\n{'name': 'New Mexico', 'abbrev': 'NM', 'area_codes': ['505', '575']}\n{'name': 'New York', 'abbrev': 'NY', 'area_codes': ['212', '315', '332', '347', '516', '518', '585', '607', '631', '646', '680', '716', '718', '845', '914', '917', '929', '934']}\n{'name': 'North Carolina', 'abbrev': 'NC', 'area_codes': ['252', '336', '704', '743', '828', '910', '919', '980', '984']}\n{'name': 'North Dakota', 'abbrev': 'ND', 'area_codes': ['701']}\n{'name': 'Ohio', 'abbrev': 'OH', 'area_codes': ['216', '220', '234', '330', '380', '419', '440', '513', '567', '614', '740', '937']}\n{'name': 'Oklahoma', 'abbrev': 'OK', 'area_codes': ['405', '539', '580', '918']}\n{'name': 'Oregon', 'abbrev': 'OR', 'area_codes': ['458', '503', '541', '971']}\n{'name': 'Pennsylvania', 'abbrev': 'PA', 'area_codes': ['215', '267', '272', '412', '484', '570', '610', '717', '724', '814', '878']}\n{'name': 'Rhode Island', 'abbrev': 'RI', 'area_codes': ['401']}\n{'name': 'South Carolina', 'abbrev': 'SC', 'area_codes': ['803', '843', '854', '864']}\n{'name': 'South Dakota', 'abbrev': 'SD', 'area_codes': ['605']}\n{'name': 'Tennessee', 'abbrev': 'TN', 'area_codes': ['423', '615', '629', '731', '865', '901', '931']}\n{'name': 'Texas', 'abbrev': 'TX', 'area_codes': ['210', '214', '254', '281', '325', '346', '361', '409', '430', '432', '469', '512', '682', '713', '737', '806', '817', '830', '832', '903', '915', '936', '940', '956', '972', '979']}\n{'name': 'Utah', 'abbrev': 'UT', 'area_codes': ['385', '435', '801']}\n{'name': 'Vermont', 'abbrev': 'VT', 'area_codes': ['802']}\n{'name': 'Virginia', 'abbrev': 'VA', 'area_codes': ['276', '434', '540', '571', '703', '757', '804']}\n{'name': 'Washington', 'abbrev': 'WA', 'area_codes': ['206', '253', '360', '425', '509']}\n{'name': 'West Virginia', 'abbrev': 'WV', 'area_codes': ['304', '681']}\n{'name': 'Wisconsin', 'abbrev': 'WI', 'area_codes': ['262', '414', '534', '608', '715', '920']}\n{'name': 'Wyoming', 'abbrev': 'WY', 'area_codes': ['307']}\n"
     ]
    }
   ],
   "source": [
    "# Loop over data\n",
    "for state in data['states']:\n",
    "    print(state)"
   ]
  },
  {
   "cell_type": "code",
   "execution_count": 23,
   "metadata": {},
   "outputs": [
    {
     "output_type": "stream",
     "name": "stdout",
     "text": [
      "AL\nAK\nAZ\nAR\nCA\nCO\nCT\nDE\nFL\nGA\nHI\nID\nIL\nIN\nIA\nKS\nKY\nLA\nME\nMD\nMA\nMI\nMN\nMS\nMO\nMT\nNE\nNV\nNH\nNJ\nNM\nNY\nNC\nND\nOH\nOK\nOR\nPA\nRI\nSC\nSD\nTN\nTX\nUT\nVT\nVA\nWA\nWV\nWI\nWY\n"
     ]
    }
   ],
   "source": [
    "# Loop over data\n",
    "for state in data['states']:\n",
    "    print(state['abbrev'])"
   ]
  },
  {
   "cell_type": "code",
   "execution_count": 24,
   "metadata": {},
   "outputs": [],
   "source": [
    "# Change and write back to file\n",
    "for state in data['states']:\n",
    "    del state['abbrev']\n",
    "\n",
    "with open('state_area_codes_2.json', 'w') as f:\n",
    "    json.dump(data, f)"
   ]
  },
  {
   "cell_type": "code",
   "execution_count": 25,
   "metadata": {},
   "outputs": [],
   "source": [
    "# Save with intendations\n",
    "with open('state_area_codes_2.json', 'w') as f:\n",
    "    json.dump(data, f, indent=2)"
   ]
  },
  {
   "cell_type": "code",
   "execution_count": null,
   "metadata": {},
   "outputs": [],
   "source": []
  }
 ]
}