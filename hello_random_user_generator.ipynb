{
 "cells": [
  {
   "cell_type": "markdown",
   "metadata": {},
   "source": [
    "# Hello Random User Generator API\n",
    "\n",
    "Uses Random User Generator API\n",
    "\n",
    "https://randomuser.me/\n",
    "\n",
    "!pip install randomuser\n",
    "\n",
    "RandomUser is an open-source API providing randomly generated users as placeholders for testing"
   ]
  },
  {
   "cell_type": "code",
   "execution_count": 2,
   "metadata": {},
   "outputs": [],
   "source": [
    "# Prerequisites\n",
    "from randomuser import RandomUser\n",
    "import pandas as pd"
   ]
  },
  {
   "cell_type": "code",
   "execution_count": 3,
   "metadata": {},
   "outputs": [],
   "source": [
    "# Crate a random user object\n",
    "ru = RandomUser()"
   ]
  },
  {
   "cell_type": "code",
   "execution_count": 4,
   "metadata": {},
   "outputs": [
    {
     "data": {
      "text/plain": [
       "[<randomuser.RandomUser at 0x27e0ba6bf70>,\n",
       " <randomuser.RandomUser at 0x27e0ba6bdf0>,\n",
       " <randomuser.RandomUser at 0x27e097a5150>,\n",
       " <randomuser.RandomUser at 0x27e097a51b0>,\n",
       " <randomuser.RandomUser at 0x27e097a69b0>,\n",
       " <randomuser.RandomUser at 0x27e097a5bd0>,\n",
       " <randomuser.RandomUser at 0x27e097a64d0>,\n",
       " <randomuser.RandomUser at 0x27e097a5180>,\n",
       " <randomuser.RandomUser at 0x27e097a7f40>,\n",
       " <randomuser.RandomUser at 0x27e097a6380>]"
      ]
     },
     "execution_count": 4,
     "metadata": {},
     "output_type": "execute_result"
    }
   ],
   "source": [
    "# Generate list of random 10 users\n",
    "user_list = ru.generate_users(10)\n",
    "user_list"
   ]
  },
  {
   "cell_type": "markdown",
   "metadata": {},
   "source": [
    "## Available Get Methods\n",
    "get_cell()<br>\n",
    "get_city()<br>\n",
    "get_dob()<br>\n",
    "get_email()<br>\n",
    "get_first_name()<br>\n",
    "get_full_name()<br>\n",
    "get_gender()<br>\n",
    "get_id()<br>\n",
    "get_id_number()<br>\n",
    "get_id_type()<br>\n",
    "get_info()<br>\n",
    "get_last_name()<br>\n",
    "get_login_md5()<br>\n",
    "get_login_salt()<br>\n",
    "get_login_sha1()<br>\n",
    "get_login_sha256()<br>\n",
    "get_nat()<br>\n",
    "get_password()<br>\n",
    "get_phone()<br>\n",
    "get_picture()<br>\n",
    "get_postcode()<br>\n",
    "get_registered()<br>\n",
    "get_state()<br>\n",
    "get_street()<br>\n",
    "get_username()<br>\n",
    "get_zipcode()"
   ]
  },
  {
   "cell_type": "code",
   "execution_count": 5,
   "metadata": {},
   "outputs": [
    {
     "data": {
      "text/plain": [
       "'Victoria Santana'"
      ]
     },
     "execution_count": 5,
     "metadata": {},
     "output_type": "execute_result"
    }
   ],
   "source": [
    "# get random full name\n",
    "name = ru.get_full_name()\n",
    "name"
   ]
  },
  {
   "cell_type": "code",
   "execution_count": 6,
   "metadata": {},
   "outputs": [
    {
     "name": "stdout",
     "output_type": "stream",
     "text": [
      "D'Angelo Zweep   d'angelo.zweep@example.com\n",
      "Bonnie James   bonnie.james@example.com\n",
      "Irene Fernandez   irene.fernandez@example.com\n",
      "Jeremy Fitzgerald   jeremy.fitzgerald@example.com\n",
      "Charlie Lynch   charlie.lynch@example.com\n",
      "Railey Ly   railey.ly@example.com\n",
      "Braxton Walker   braxton.walker@example.com\n",
      "Cipriano Silveira   cipriano.silveira@example.com\n",
      "Roosje Weller   roosje.weller@example.com\n",
      "Holly Hale   holly.hale@example.com\n"
     ]
    }
   ],
   "source": [
    "# Get full names and email addresses for 10 random users\n",
    "for user in user_list:\n",
    "    print(user.get_full_name(), \" \", user.get_email())"
   ]
  },
  {
   "cell_type": "code",
   "execution_count": 8,
   "metadata": {},
   "outputs": [
    {
     "data": {
      "text/html": [
       "<div>\n",
       "<style scoped>\n",
       "    .dataframe tbody tr th:only-of-type {\n",
       "        vertical-align: middle;\n",
       "    }\n",
       "\n",
       "    .dataframe tbody tr th {\n",
       "        vertical-align: top;\n",
       "    }\n",
       "\n",
       "    .dataframe thead th {\n",
       "        text-align: right;\n",
       "    }\n",
       "</style>\n",
       "<table border=\"1\" class=\"dataframe\">\n",
       "  <thead>\n",
       "    <tr style=\"text-align: right;\">\n",
       "      <th></th>\n",
       "      <th>Name</th>\n",
       "      <th>Gender</th>\n",
       "      <th>City</th>\n",
       "      <th>State</th>\n",
       "      <th>Email</th>\n",
       "      <th>DOB</th>\n",
       "      <th>Picture</th>\n",
       "    </tr>\n",
       "  </thead>\n",
       "  <tbody>\n",
       "    <tr>\n",
       "      <th>0</th>\n",
       "      <td>Archie Edwards</td>\n",
       "      <td>male</td>\n",
       "      <td>Timaru</td>\n",
       "      <td>Canterbury</td>\n",
       "      <td>archie.edwards@example.com</td>\n",
       "      <td>1979-02-02T09:58:46.348Z</td>\n",
       "      <td>https://randomuser.me/api/portraits/men/70.jpg</td>\n",
       "    </tr>\n",
       "    <tr>\n",
       "      <th>1</th>\n",
       "      <td>Francisco de Sales das Neves</td>\n",
       "      <td>male</td>\n",
       "      <td>Araraquara</td>\n",
       "      <td>Rio Grande do Norte</td>\n",
       "      <td>franciscodesales.dasneves@example.com</td>\n",
       "      <td>1981-09-27T06:33:17.985Z</td>\n",
       "      <td>https://randomuser.me/api/portraits/men/36.jpg</td>\n",
       "    </tr>\n",
       "    <tr>\n",
       "      <th>2</th>\n",
       "      <td>Dale Walker</td>\n",
       "      <td>male</td>\n",
       "      <td>Passage West</td>\n",
       "      <td>Tipperary</td>\n",
       "      <td>dale.walker@example.com</td>\n",
       "      <td>1987-11-21T07:45:31.446Z</td>\n",
       "      <td>https://randomuser.me/api/portraits/men/71.jpg</td>\n",
       "    </tr>\n",
       "    <tr>\n",
       "      <th>3</th>\n",
       "      <td>Rosina Jean</td>\n",
       "      <td>female</td>\n",
       "      <td>Bremblens</td>\n",
       "      <td>Aargau</td>\n",
       "      <td>rosina.jean@example.com</td>\n",
       "      <td>1957-10-05T04:54:35.728Z</td>\n",
       "      <td>https://randomuser.me/api/portraits/women/58.jpg</td>\n",
       "    </tr>\n",
       "    <tr>\n",
       "      <th>4</th>\n",
       "      <td>Esteban Gomez</td>\n",
       "      <td>male</td>\n",
       "      <td>Valladolid</td>\n",
       "      <td>Galicia</td>\n",
       "      <td>esteban.gomez@example.com</td>\n",
       "      <td>1985-01-30T10:23:37.670Z</td>\n",
       "      <td>https://randomuser.me/api/portraits/men/95.jpg</td>\n",
       "    </tr>\n",
       "    <tr>\n",
       "      <th>5</th>\n",
       "      <td>Victoria Hervik</td>\n",
       "      <td>female</td>\n",
       "      <td>Olden</td>\n",
       "      <td>Troms - Romsa</td>\n",
       "      <td>victoria.hervik@example.com</td>\n",
       "      <td>1995-08-11T09:17:18.766Z</td>\n",
       "      <td>https://randomuser.me/api/portraits/women/35.jpg</td>\n",
       "    </tr>\n",
       "    <tr>\n",
       "      <th>6</th>\n",
       "      <td>Arttu Lehto</td>\n",
       "      <td>male</td>\n",
       "      <td>Askola</td>\n",
       "      <td>Pirkanmaa</td>\n",
       "      <td>arttu.lehto@example.com</td>\n",
       "      <td>1985-12-07T15:43:39.094Z</td>\n",
       "      <td>https://randomuser.me/api/portraits/men/8.jpg</td>\n",
       "    </tr>\n",
       "    <tr>\n",
       "      <th>7</th>\n",
       "      <td>Donald Austin</td>\n",
       "      <td>male</td>\n",
       "      <td>Kilcock</td>\n",
       "      <td>Roscommon</td>\n",
       "      <td>donald.austin@example.com</td>\n",
       "      <td>1973-11-03T16:24:56.907Z</td>\n",
       "      <td>https://randomuser.me/api/portraits/men/94.jpg</td>\n",
       "    </tr>\n",
       "    <tr>\n",
       "      <th>8</th>\n",
       "      <td>Önal Yalçın</td>\n",
       "      <td>male</td>\n",
       "      <td>Çorum</td>\n",
       "      <td>Şırnak</td>\n",
       "      <td>onal.yalcin@example.com</td>\n",
       "      <td>1983-12-11T03:54:24.819Z</td>\n",
       "      <td>https://randomuser.me/api/portraits/men/28.jpg</td>\n",
       "    </tr>\n",
       "    <tr>\n",
       "      <th>9</th>\n",
       "      <td>Silvio Mercier</td>\n",
       "      <td>male</td>\n",
       "      <td>Bure</td>\n",
       "      <td>Ticino</td>\n",
       "      <td>silvio.mercier@example.com</td>\n",
       "      <td>1967-02-20T05:29:00.322Z</td>\n",
       "      <td>https://randomuser.me/api/portraits/men/22.jpg</td>\n",
       "    </tr>\n",
       "  </tbody>\n",
       "</table>\n",
       "</div>"
      ],
      "text/plain": [
       "                           Name  Gender          City                State  \\\n",
       "0                Archie Edwards    male        Timaru           Canterbury   \n",
       "1  Francisco de Sales das Neves    male    Araraquara  Rio Grande do Norte   \n",
       "2                   Dale Walker    male  Passage West            Tipperary   \n",
       "3                   Rosina Jean  female     Bremblens               Aargau   \n",
       "4                 Esteban Gomez    male    Valladolid              Galicia   \n",
       "5               Victoria Hervik  female         Olden        Troms - Romsa   \n",
       "6                   Arttu Lehto    male        Askola            Pirkanmaa   \n",
       "7                 Donald Austin    male       Kilcock            Roscommon   \n",
       "8                   Önal Yalçın    male         Çorum               Şırnak   \n",
       "9                Silvio Mercier    male          Bure               Ticino   \n",
       "\n",
       "                                   Email                       DOB  \\\n",
       "0             archie.edwards@example.com  1979-02-02T09:58:46.348Z   \n",
       "1  franciscodesales.dasneves@example.com  1981-09-27T06:33:17.985Z   \n",
       "2                dale.walker@example.com  1987-11-21T07:45:31.446Z   \n",
       "3                rosina.jean@example.com  1957-10-05T04:54:35.728Z   \n",
       "4              esteban.gomez@example.com  1985-01-30T10:23:37.670Z   \n",
       "5            victoria.hervik@example.com  1995-08-11T09:17:18.766Z   \n",
       "6                arttu.lehto@example.com  1985-12-07T15:43:39.094Z   \n",
       "7              donald.austin@example.com  1973-11-03T16:24:56.907Z   \n",
       "8                onal.yalcin@example.com  1983-12-11T03:54:24.819Z   \n",
       "9             silvio.mercier@example.com  1967-02-20T05:29:00.322Z   \n",
       "\n",
       "                                            Picture  \n",
       "0    https://randomuser.me/api/portraits/men/70.jpg  \n",
       "1    https://randomuser.me/api/portraits/men/36.jpg  \n",
       "2    https://randomuser.me/api/portraits/men/71.jpg  \n",
       "3  https://randomuser.me/api/portraits/women/58.jpg  \n",
       "4    https://randomuser.me/api/portraits/men/95.jpg  \n",
       "5  https://randomuser.me/api/portraits/women/35.jpg  \n",
       "6     https://randomuser.me/api/portraits/men/8.jpg  \n",
       "7    https://randomuser.me/api/portraits/men/94.jpg  \n",
       "8    https://randomuser.me/api/portraits/men/28.jpg  \n",
       "9    https://randomuser.me/api/portraits/men/22.jpg  "
      ]
     },
     "execution_count": 8,
     "metadata": {},
     "output_type": "execute_result"
    }
   ],
   "source": [
    "# Generate table of N users\n",
    "def get_users(num_users):\n",
    "    users =[]\n",
    "     \n",
    "    for user in RandomUser.generate_users(num_users):\n",
    "        users.append({\"Name\":user.get_full_name(),\"Gender\":user.get_gender(),\"City\":user.get_city(),\"State\":user.get_state(),\"Email\":user.get_email(), \"DOB\":user.get_dob(),\"Picture\":user.get_picture()})\n",
    "      \n",
    "    return pd.DataFrame(users)\n",
    "\n",
    "get_users(10)"
   ]
  },
  {
   "cell_type": "code",
   "execution_count": null,
   "metadata": {},
   "outputs": [],
   "source": []
  }
 ],
 "metadata": {
  "kernelspec": {
   "display_name": "base",
   "language": "python",
   "name": "python3"
  },
  "language_info": {
   "codemirror_mode": {
    "name": "ipython",
    "version": 3
   },
   "file_extension": ".py",
   "mimetype": "text/x-python",
   "name": "python",
   "nbconvert_exporter": "python",
   "pygments_lexer": "ipython3",
   "version": "3.10.9"
  }
 },
 "nbformat": 4,
 "nbformat_minor": 2
}
