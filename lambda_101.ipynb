{
 "metadata": {
  "language_info": {
   "codemirror_mode": {
    "name": "ipython",
    "version": 3
   },
   "file_extension": ".py",
   "mimetype": "text/x-python",
   "name": "python",
   "nbconvert_exporter": "python",
   "pygments_lexer": "ipython3",
   "version": "3.8.5-final"
  },
  "orig_nbformat": 2,
  "kernelspec": {
   "name": "python3",
   "display_name": "Python 3",
   "language": "python"
  }
 },
 "nbformat": 4,
 "nbformat_minor": 2,
 "cells": [
  {
   "source": [
    "# Lambda 101\n",
    "\n",
    "A Lambda function in Python is a small anonymous function that has one expression but can take any numberf of arguments.\n"
   ],
   "cell_type": "markdown",
   "metadata": {}
  },
  {
   "source": [
    "## Syntax\n",
    "\n",
    "lambda arguments : expression"
   ],
   "cell_type": "markdown",
   "metadata": {}
  },
  {
   "cell_type": "code",
   "execution_count": 11,
   "metadata": {},
   "outputs": [
    {
     "output_type": "stream",
     "name": "stdout",
     "text": [
      "increment = 8\n"
     ]
    }
   ],
   "source": [
    "# one argument\n",
    "x = lambda a : a + 1\n",
    "print(f\"increment = {x(7)}\")"
   ]
  },
  {
   "cell_type": "code",
   "execution_count": 12,
   "metadata": {},
   "outputs": [
    {
     "output_type": "stream",
     "name": "stdout",
     "text": [
      "product = 56\n"
     ]
    }
   ],
   "source": [
    "# 2 arguments\n",
    "x = lambda a, b : a * b\n",
    "print(f\"product = {x(7,8)}\")"
   ]
  },
  {
   "cell_type": "code",
   "execution_count": 13,
   "metadata": {},
   "outputs": [
    {
     "output_type": "stream",
     "name": "stdout",
     "text": [
      "sum = 33\n"
     ]
    }
   ],
   "source": [
    "# 3 argumants\n",
    "x = lambda a, b, c : a + b + c\n",
    "print(f\"sum = {x(10,11,12)}\")"
   ]
  },
  {
   "cell_type": "code",
   "execution_count": 16,
   "metadata": {},
   "outputs": [
    {
     "output_type": "stream",
     "name": "stdout",
     "text": [
      "my_foo(7) = 14\n"
     ]
    }
   ],
   "source": [
    "# Using lambda in another function\n",
    "def foo(n):\n",
    "    return lambda a : a * n\n",
    "\n",
    "my_foo = foo(2)\n",
    "print(f\"my_foo(7) = {my_foo(7)}\")"
   ]
  },
  {
   "cell_type": "code",
   "execution_count": 19,
   "metadata": {},
   "outputs": [
    {
     "output_type": "stream",
     "name": "stdout",
     "text": [
      "20\n30\n"
     ]
    }
   ],
   "source": [
    "# Using the same function prototype for 2 functions\n",
    "def foo(n):\n",
    "    return lambda a : a * n\n",
    "\n",
    "doubler_func = foo(2)\n",
    "tripler_func = foo(3)\n",
    "\n",
    "print(doubler_func(10))\n",
    "print(tripler_func(10))"
   ]
  },
  {
   "cell_type": "code",
   "execution_count": null,
   "metadata": {},
   "outputs": [],
   "source": []
  }
 ]
}