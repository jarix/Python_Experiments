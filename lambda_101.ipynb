{
 "cells": [
  {
   "cell_type": "markdown",
   "metadata": {},
   "source": [
    "# Lambda 101\n",
    "\n",
    "A Lambda function in Python is a small anonymous function that has one expression but can take any numberf of arguments.\n"
   ]
  },
  {
   "cell_type": "markdown",
   "metadata": {},
   "source": [
    "## Syntax\n",
    "\n",
    "lambda arguments : expression"
   ]
  },
  {
   "cell_type": "code",
   "execution_count": 1,
   "metadata": {},
   "outputs": [
    {
     "name": "stdout",
     "output_type": "stream",
     "text": [
      "increment = 8\n"
     ]
    }
   ],
   "source": [
    "# one argument\n",
    "x = lambda a : a + 1\n",
    "print(f\"increment = {x(7)}\")"
   ]
  },
  {
   "cell_type": "code",
   "execution_count": 2,
   "metadata": {},
   "outputs": [
    {
     "name": "stdout",
     "output_type": "stream",
     "text": [
      "product = 56\n"
     ]
    }
   ],
   "source": [
    "# 2 arguments\n",
    "x = lambda a, b : a * b\n",
    "print(f\"product = {x(7,8)}\")"
   ]
  },
  {
   "cell_type": "code",
   "execution_count": 3,
   "metadata": {},
   "outputs": [
    {
     "name": "stdout",
     "output_type": "stream",
     "text": [
      "sum = 33\n"
     ]
    }
   ],
   "source": [
    "# 3 argumants\n",
    "x = lambda a, b, c : a + b + c\n",
    "print(f\"sum = {x(10,11,12)}\")"
   ]
  },
  {
   "cell_type": "code",
   "execution_count": 4,
   "metadata": {},
   "outputs": [
    {
     "name": "stdout",
     "output_type": "stream",
     "text": [
      "my_foo(7) = 14\n"
     ]
    }
   ],
   "source": [
    "# Using lambda in another function\n",
    "def foo(n):\n",
    "    return lambda a : a * n\n",
    "\n",
    "my_foo = foo(2)\n",
    "print(f\"my_foo(7) = {my_foo(7)}\")"
   ]
  },
  {
   "cell_type": "code",
   "execution_count": 19,
   "metadata": {},
   "outputs": [
    {
     "name": "stdout",
     "output_type": "stream",
     "text": [
      "20\n",
      "30\n"
     ]
    }
   ],
   "source": [
    "# Using the same function prototype for 2 functions\n",
    "def foo(n):\n",
    "    return lambda a : a * n\n",
    "\n",
    "doubler_func = foo(2)\n",
    "tripler_func = foo(3)\n",
    "\n",
    "print(doubler_func(10))\n",
    "print(tripler_func(10))"
   ]
  },
  {
   "cell_type": "markdown",
   "metadata": {},
   "source": [
    "## map()\n",
    "\n",
    "The map() function applies a specified function to each item of an iterable (e.g., list, tuple) and returns an iterator. "
   ]
  },
  {
   "cell_type": "code",
   "execution_count": 5,
   "metadata": {},
   "outputs": [
    {
     "name": "stdout",
     "output_type": "stream",
     "text": [
      "Type of map() output: <class 'map'>\n",
      "Output: [1, 4, 9, 16, 25]\n"
     ]
    }
   ],
   "source": [
    "values = [1, 2, 3, 4, 5]\n",
    "squared = map(lambda x: x**2, values)\n",
    "print(f\"Type of map() output: {type(squared)}\")\n",
    "print(f\"Output: {list(squared)}\")"
   ]
  },
  {
   "cell_type": "markdown",
   "metadata": {},
   "source": [
    "## reduce()\n",
    "\n",
    "The reduce() function (functools) continually applies a function to the elements of a sequence, reducing the sequence to a single value."
   ]
  },
  {
   "cell_type": "code",
   "execution_count": 6,
   "metadata": {},
   "outputs": [
    {
     "name": "stdout",
     "output_type": "stream",
     "text": [
      "Type of reduce() output: <class 'int'>\n",
      "Output: 120\n"
     ]
    }
   ],
   "source": [
    "from functools import reduce\n",
    "values = [1, 2, 3, 4, 5]\n",
    "product = reduce(lambda x, y: x*y, values)\n",
    "print(f\"Type of reduce() output: {type(product)}\")\n",
    "print(f\"Output: {product}\")"
   ]
  },
  {
   "cell_type": "markdown",
   "metadata": {},
   "source": [
    "## filter()\n",
    "The filter() function applies a function to each item of an iterable and returns only the items for which the function returns True.\n"
   ]
  },
  {
   "cell_type": "code",
   "execution_count": 7,
   "metadata": {},
   "outputs": [
    {
     "name": "stdout",
     "output_type": "stream",
     "text": [
      "Type of filter() output: <class 'filter'>\n",
      "Output: [2, 4, 6]\n"
     ]
    }
   ],
   "source": [
    "values = [1, 2, 3, 4, 5, 6]\n",
    "even_vals = filter(lambda x: x % 2 == 0, values)\n",
    "print(f\"Type of filter() output: {type(even_vals)}\")\n",
    "print(f\"Output: {list(even_vals)}\")"
   ]
  },
  {
   "cell_type": "code",
   "execution_count": null,
   "metadata": {},
   "outputs": [],
   "source": []
  }
 ],
 "metadata": {
  "kernelspec": {
   "display_name": "Python 3",
   "language": "python",
   "name": "python3"
  },
  "language_info": {
   "codemirror_mode": {
    "name": "ipython",
    "version": 3
   },
   "file_extension": ".py",
   "mimetype": "text/x-python",
   "name": "python",
   "nbconvert_exporter": "python",
   "pygments_lexer": "ipython3",
   "version": "3.11.9"
  },
  "orig_nbformat": 2
 },
 "nbformat": 4,
 "nbformat_minor": 2
}
