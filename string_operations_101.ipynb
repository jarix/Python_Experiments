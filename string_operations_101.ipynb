{
 "cells": [
  {
   "cell_type": "markdown",
   "metadata": {},
   "source": [
    "# Python String Operations 101\n",
    "\n",
    "## Author: Jari Honkanen"
   ]
  },
  {
   "cell_type": "markdown",
   "metadata": {},
   "source": [
    "### Manipulation"
   ]
  },
  {
   "cell_type": "code",
   "execution_count": 49,
   "metadata": {},
   "outputs": [
    {
     "name": "stdout",
     "output_type": "stream",
     "text": [
      "Upper Case: MINNESOTA NORTH STARS\n",
      "Lower Case: minnesota north stars\n",
      "Dallas North Stars\n",
      "Found 'North'at position: 7\n",
      "Not found 'Minnesota': -1\n"
     ]
    }
   ],
   "source": [
    "str1 = \"Minnesota North Stars\"\n",
    "\n",
    "# Convert case\n",
    "upper_case = str1.upper()\n",
    "lower_case = str1.lower()\n",
    "print(f\"Upper Case: {upper_case}\")\n",
    "print(f\"Lower Case: {lower_case}\")\n",
    "\n",
    "# Replace\n",
    "str1 = str1.replace(\"Minnesota\", \"Dallas\")\n",
    "print(str1)\n",
    "\n",
    "# Find\n",
    "print(f\"Found \\'North\\'at position: {str1.find('North')}\")\n",
    "print(f\"Not found \\'Minnesota\\': {str1.find('Minnesota')}\")\n"
   ]
  },
  {
   "cell_type": "markdown",
   "metadata": {},
   "source": [
    "### Indexing"
   ]
  },
  {
   "cell_type": "code",
   "execution_count": 50,
   "metadata": {},
   "outputs": [
    {
     "name": "stdout",
     "output_type": "stream",
     "text": [
      "First Letter: F\n",
      "First Seven Letters: Florida\n",
      "Every other Letter: FoiaPnhr\n",
      "Last letter with negative indexing s\n",
      "Last letters with negative indexing Panthers\n"
     ]
    }
   ],
   "source": [
    "str2 = \"Florida Panthers\"\n",
    "\n",
    "print(f\"First Letter: {str2[0]}\")\n",
    "print(f\"First Seven Letters: {str2[0:7]}\")\n",
    "print(f\"Every other Letter: {str2[::2]}\")\n",
    "print(f\"Last letter with negative indexing {str2[-1]}\")\n",
    "print(f\"Last letters with negative indexing {str2[-8:]}\")"
   ]
  },
  {
   "cell_type": "markdown",
   "metadata": {},
   "source": [
    "### Concatenate"
   ]
  },
  {
   "cell_type": "code",
   "execution_count": 51,
   "metadata": {},
   "outputs": [
    {
     "name": "stdout",
     "output_type": "stream",
     "text": [
      "Dallas Stars vs. Florida Panthers\n",
      "Dallas Stars vs. Florida PanthersDallas Stars vs. Florida PanthersDallas Stars vs. Florida Panthers\n"
     ]
    }
   ],
   "source": [
    "str1 = \"Dallas Stars\"\n",
    "str2 = \"Florida Panthers\"\n",
    "str3 = str1 + \" vs. \" + str2\n",
    "print(str3)\n",
    "\n",
    "# String can be multiplied also \n",
    "str4 = 3 * str3\n",
    "print(str4)"
   ]
  },
  {
   "cell_type": "markdown",
   "metadata": {},
   "source": [
    "### Splitting"
   ]
  },
  {
   "cell_type": "code",
   "execution_count": 52,
   "metadata": {},
   "outputs": [
    {
     "data": {
      "text/plain": [
       "['Lorem',\n",
       " 'ipsum',\n",
       " 'dolor',\n",
       " 'sit',\n",
       " 'amet,',\n",
       " 'consectetur',\n",
       " 'adipiscing',\n",
       " 'elit,',\n",
       " 'sed',\n",
       " 'do',\n",
       " 'eiusmod',\n",
       " 'tempor',\n",
       " 'incididunt',\n",
       " 'ut',\n",
       " 'labore',\n",
       " 'et',\n",
       " 'dolore',\n",
       " 'magna',\n",
       " 'aliqua.']"
      ]
     },
     "execution_count": 52,
     "metadata": {},
     "output_type": "execute_result"
    }
   ],
   "source": [
    "str5 = \"Lorem ipsum dolor sit amet, consectetur adipiscing elit, sed do eiusmod tempor incididunt ut labore et dolore magna aliqua.\"\n",
    "str5.split()"
   ]
  },
  {
   "cell_type": "markdown",
   "metadata": {},
   "source": [
    "### Regular Expressions\n",
    "\n",
    "\\d\tMatches any digit character (0-9) <br />\t\n",
    "E.g. \"123\" matches \"\\d\\d\\d\"\n",
    "\n",
    "\\D\tMatches any non-digit character\t<br />\n",
    "(E.g. \"hello\" matches \"\\D\\D\\D\\D\\D\")\n",
    "\n",
    "\\w\tMatches any word character (a-z, A-Z, 0-9, and _) <br />\n",
    "E.g. \"hello_world\" matches \"\\w\\w\\w\\w\\w\\w\\w\\w\\w\\w\\w\"\n",
    "\n",
    "\\W\tMatches any non-word character <br />\t\n",
    "E.g. \"@#$%\" matches \"\\W\\W\\W\\W\"\n",
    "\n",
    "\\s\tMatches any whitespace character (space, tab, newline, etc.) <br />\n",
    "E.g. \"hello world\" matches \"\\w\\w\\w\\w\\w\\s\\w\\w\\w\\w\\w\"\n",
    "\n",
    "\\S\tMatches any non-whitespace character <br />\n",
    "E.g. \"hello_world\" matches \"\\S\\S\\S\\S\\S\\S\\S\\S\\S\"\n",
    "\n",
    "\\b\tMatches the boundary between a word character and a non-word character <br />\n",
    "E.g \"cat\" matches \"\\bcat\\b\" in \"The cat sat on the mat\"\n",
    "\n",
    "\\B\tMatches any position that is not a word boundary <br />\n",
    "E.g. \"cat\" matches \"\\Bcat\\B\" in \"category\" but not in \"The cat sat on the mat\"\n"
   ]
  },
  {
   "cell_type": "code",
   "execution_count": 53,
   "metadata": {},
   "outputs": [
    {
     "name": "stdout",
     "output_type": "stream",
     "text": [
      "['da', 'da']\n"
     ]
    }
   ],
   "source": [
    "import re\n",
    "\n",
    "str6 = \"florida panthers vs. dallas stars\"\n",
    "\n",
    "# findall() finds all occurrences\n",
    "res = re.findall(\"da\", str6)\n",
    "\n",
    "# list of matched words\n",
    "print(res)"
   ]
  },
  {
   "cell_type": "code",
   "execution_count": 54,
   "metadata": {},
   "outputs": [
    {
     "name": "stdout",
     "output_type": "stream",
     "text": [
      "Phone number found: 425-123-4567\n",
      "Non Word Character matches:  [' ', ' ', ' ', '-', '-', '!']\n"
     ]
    }
   ],
   "source": [
    "# Pattern Match with RegEx\n",
    "pattern = r\"\\d\\d\\d-\\d\\d\\d-\\d\\d\\d\\d\"  # Matches 10 digits with 2 dashes\n",
    "phone_nr_str = \"Phone number is 425-123-4567!\"\n",
    "match = re.search(pattern, phone_nr_str)\n",
    "\n",
    "if match:\n",
    "    print(\"Phone number found:\", match.group())\n",
    "else:\n",
    "    print(\"Phone number not found.\")\n",
    "\n",
    "\n",
    "pattern = r\"\\W\"    # Match any non word character\n",
    "match = re.findall(pattern, phone_nr_str)\n",
    "print(\"Non Word Character matches: \", match)"
   ]
  },
  {
   "cell_type": "code",
   "execution_count": null,
   "metadata": {},
   "outputs": [],
   "source": []
  }
 ],
 "metadata": {
  "kernelspec": {
   "display_name": "base",
   "language": "python",
   "name": "python3"
  },
  "language_info": {
   "codemirror_mode": {
    "name": "ipython",
    "version": 3
   },
   "file_extension": ".py",
   "mimetype": "text/x-python",
   "name": "python",
   "nbconvert_exporter": "python",
   "pygments_lexer": "ipython3",
   "version": "3.10.9"
  }
 },
 "nbformat": 4,
 "nbformat_minor": 2
}
