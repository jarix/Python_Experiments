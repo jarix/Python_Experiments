{
 "cells": [
  {
   "cell_type": "markdown",
   "metadata": {},
   "source": [
    "# Requests 101\n",
    "\n",
    "Uses Random Jokes API\n",
    "\n",
    "https://official-joke-api.appspot.com/jokes/ten"
   ]
  },
  {
   "cell_type": "code",
   "execution_count": 4,
   "metadata": {},
   "outputs": [],
   "source": [
    "# Prereequisites\n",
    "import requests\n",
    "import json\n",
    "import pandas as pd"
   ]
  },
  {
   "cell_type": "code",
   "execution_count": 2,
   "metadata": {},
   "outputs": [
    {
     "name": "stdout",
     "output_type": "stream",
     "text": [
      "Status code:  200\n",
      "Request Body:  None\n",
      "Request Headers:  {'User-Agent': 'python-requests/2.32.3', 'Accept-Encoding': 'gzip, deflate, br', 'Accept': '*/*', 'Connection': 'keep-alive'}\n"
     ]
    }
   ],
   "source": [
    "# Send GET command\n",
    "r = requests.get(\"https://official-joke-api.appspot.com/jokes/ten\")\n",
    "\n",
    "print(\"Status code: \", r.status_code)\n",
    "print(\"Request Body: \", r.request.body)\n",
    "print(\"Request Headers: \", r.request.headers)"
   ]
  },
  {
   "cell_type": "code",
   "execution_count": 3,
   "metadata": {},
   "outputs": [
    {
     "data": {
      "text/plain": [
       "[{'type': 'general',\n",
       "  'setup': 'How do you make holy water?',\n",
       "  'punchline': 'You boil the hell out of it',\n",
       "  'id': 53},\n",
       " {'type': 'general',\n",
       "  'setup': 'What did the mountain climber name his son?',\n",
       "  'punchline': 'Cliff.',\n",
       "  'id': 179},\n",
       " {'type': 'general',\n",
       "  'setup': 'How does the moon cut his hair?',\n",
       "  'punchline': 'Eclipse it.',\n",
       "  'id': 137},\n",
       " {'type': 'general',\n",
       "  'setup': 'How come the stadium got hot after the game?',\n",
       "  'punchline': 'Because all of the fans left.',\n",
       "  'id': 116},\n",
       " {'type': 'general',\n",
       "  'setup': 'What kind of bagel can fly?',\n",
       "  'punchline': 'A plain bagel.',\n",
       "  'id': 256},\n",
       " {'type': 'general',\n",
       "  'setup': 'Why didn’t the skeleton cross the road?',\n",
       "  'punchline': 'Because he had no guts.',\n",
       "  'id': 345},\n",
       " {'type': 'general',\n",
       "  'setup': 'How many hipsters does it take to change a lightbulb?',\n",
       "  'punchline': \"Oh, it's a really obscure number. You've probably never heard of it.\",\n",
       "  'id': 140},\n",
       " {'type': 'general',\n",
       "  'setup': 'What do you get hanging from Apple trees?',\n",
       "  'punchline': 'Sore arms.',\n",
       "  'id': 231},\n",
       " {'type': 'general',\n",
       "  'setup': 'Why did the belt go to prison?',\n",
       "  'punchline': 'He held up a pair of pants!',\n",
       "  'id': 321},\n",
       " {'type': 'general',\n",
       "  'setup': 'Want to hear a joke about construction?',\n",
       "  'punchline': \"Nah, I'm still working on it.\",\n",
       "  'id': 153}]"
      ]
     },
     "execution_count": 3,
     "metadata": {},
     "output_type": "execute_result"
    }
   ],
   "source": [
    "# Get results in JSON\n",
    "results = json.loads(r.text)\n",
    "results"
   ]
  },
  {
   "cell_type": "code",
   "execution_count": 5,
   "metadata": {},
   "outputs": [
    {
     "data": {
      "text/html": [
       "<div>\n",
       "<style scoped>\n",
       "    .dataframe tbody tr th:only-of-type {\n",
       "        vertical-align: middle;\n",
       "    }\n",
       "\n",
       "    .dataframe tbody tr th {\n",
       "        vertical-align: top;\n",
       "    }\n",
       "\n",
       "    .dataframe thead th {\n",
       "        text-align: right;\n",
       "    }\n",
       "</style>\n",
       "<table border=\"1\" class=\"dataframe\">\n",
       "  <thead>\n",
       "    <tr style=\"text-align: right;\">\n",
       "      <th></th>\n",
       "      <th>type</th>\n",
       "      <th>setup</th>\n",
       "      <th>punchline</th>\n",
       "      <th>id</th>\n",
       "    </tr>\n",
       "  </thead>\n",
       "  <tbody>\n",
       "    <tr>\n",
       "      <th>0</th>\n",
       "      <td>general</td>\n",
       "      <td>How do you make holy water?</td>\n",
       "      <td>You boil the hell out of it</td>\n",
       "      <td>53</td>\n",
       "    </tr>\n",
       "    <tr>\n",
       "      <th>1</th>\n",
       "      <td>general</td>\n",
       "      <td>What did the mountain climber name his son?</td>\n",
       "      <td>Cliff.</td>\n",
       "      <td>179</td>\n",
       "    </tr>\n",
       "    <tr>\n",
       "      <th>2</th>\n",
       "      <td>general</td>\n",
       "      <td>How does the moon cut his hair?</td>\n",
       "      <td>Eclipse it.</td>\n",
       "      <td>137</td>\n",
       "    </tr>\n",
       "    <tr>\n",
       "      <th>3</th>\n",
       "      <td>general</td>\n",
       "      <td>How come the stadium got hot after the game?</td>\n",
       "      <td>Because all of the fans left.</td>\n",
       "      <td>116</td>\n",
       "    </tr>\n",
       "    <tr>\n",
       "      <th>4</th>\n",
       "      <td>general</td>\n",
       "      <td>What kind of bagel can fly?</td>\n",
       "      <td>A plain bagel.</td>\n",
       "      <td>256</td>\n",
       "    </tr>\n",
       "    <tr>\n",
       "      <th>5</th>\n",
       "      <td>general</td>\n",
       "      <td>Why didn’t the skeleton cross the road?</td>\n",
       "      <td>Because he had no guts.</td>\n",
       "      <td>345</td>\n",
       "    </tr>\n",
       "    <tr>\n",
       "      <th>6</th>\n",
       "      <td>general</td>\n",
       "      <td>How many hipsters does it take to change a lig...</td>\n",
       "      <td>Oh, it's a really obscure number. You've proba...</td>\n",
       "      <td>140</td>\n",
       "    </tr>\n",
       "    <tr>\n",
       "      <th>7</th>\n",
       "      <td>general</td>\n",
       "      <td>What do you get hanging from Apple trees?</td>\n",
       "      <td>Sore arms.</td>\n",
       "      <td>231</td>\n",
       "    </tr>\n",
       "    <tr>\n",
       "      <th>8</th>\n",
       "      <td>general</td>\n",
       "      <td>Why did the belt go to prison?</td>\n",
       "      <td>He held up a pair of pants!</td>\n",
       "      <td>321</td>\n",
       "    </tr>\n",
       "    <tr>\n",
       "      <th>9</th>\n",
       "      <td>general</td>\n",
       "      <td>Want to hear a joke about construction?</td>\n",
       "      <td>Nah, I'm still working on it.</td>\n",
       "      <td>153</td>\n",
       "    </tr>\n",
       "  </tbody>\n",
       "</table>\n",
       "</div>"
      ],
      "text/plain": [
       "      type                                              setup  \\\n",
       "0  general                        How do you make holy water?   \n",
       "1  general        What did the mountain climber name his son?   \n",
       "2  general                    How does the moon cut his hair?   \n",
       "3  general       How come the stadium got hot after the game?   \n",
       "4  general                        What kind of bagel can fly?   \n",
       "5  general            Why didn’t the skeleton cross the road?   \n",
       "6  general  How many hipsters does it take to change a lig...   \n",
       "7  general          What do you get hanging from Apple trees?   \n",
       "8  general                     Why did the belt go to prison?   \n",
       "9  general            Want to hear a joke about construction?   \n",
       "\n",
       "                                           punchline   id  \n",
       "0                        You boil the hell out of it   53  \n",
       "1                                             Cliff.  179  \n",
       "2                                        Eclipse it.  137  \n",
       "3                      Because all of the fans left.  116  \n",
       "4                                     A plain bagel.  256  \n",
       "5                            Because he had no guts.  345  \n",
       "6  Oh, it's a really obscure number. You've proba...  140  \n",
       "7                                         Sore arms.  231  \n",
       "8                        He held up a pair of pants!  321  \n",
       "9                      Nah, I'm still working on it.  153  "
      ]
     },
     "execution_count": 5,
     "metadata": {},
     "output_type": "execute_result"
    }
   ],
   "source": [
    "# Convert to Data Pandas Data frame\n",
    "df = pd.DataFrame(results)\n",
    "df"
   ]
  },
  {
   "cell_type": "code",
   "execution_count": null,
   "metadata": {},
   "outputs": [],
   "source": []
  }
 ],
 "metadata": {
  "kernelspec": {
   "display_name": "base",
   "language": "python",
   "name": "python3"
  },
  "language_info": {
   "codemirror_mode": {
    "name": "ipython",
    "version": 3
   },
   "file_extension": ".py",
   "mimetype": "text/x-python",
   "name": "python",
   "nbconvert_exporter": "python",
   "pygments_lexer": "ipython3",
   "version": "3.10.9"
  }
 },
 "nbformat": 4,
 "nbformat_minor": 2
}
