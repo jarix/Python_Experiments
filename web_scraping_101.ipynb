{
 "cells": [
  {
   "cell_type": "markdown",
   "metadata": {},
   "source": [
    "# Web Scraping 101\n",
    "\n",
    "Uses BeautifulSoup"
   ]
  },
  {
   "cell_type": "markdown",
   "metadata": {},
   "source": [
    "### Sample HTML "
   ]
  },
  {
   "cell_type": "markdown",
   "metadata": {},
   "source": [
    "%%html\n",
    "<!DOCTYPE html>\n",
    "<html>\n",
    "<head>\n",
    "<title>Luxury Car Prices</title>\n",
    "</head>\n",
    "<body>\n",
    "<h3><b id='boldest'>Mercedes S-Class</b></h3>\n",
    "<p> Price: $ 140,000 </p>\n",
    "<h3> BMW 7-Series </h3>\n",
    "<p> Price: $110,000 </p>\n",
    "<h3> Cadillac CTS </h3>\n",
    "<p> Price: $80,000</p>\n",
    "</body>\n",
    "</html>"
   ]
  },
  {
   "cell_type": "code",
   "execution_count": 1,
   "metadata": {},
   "outputs": [],
   "source": [
    "# Store HTML as a string\n",
    "html_str = \"<!DOCTYPE html><html><head><title>Luxury Car Prices</title></head><body><h3><b id='boldest'>Mercedes S-Class</b></h3><p> Price: $ 140,000 </p><h3> BMW 7-Series </h3><p> Price: $110,000 </p><h3> Cadillac CTS </h3><p> Price: $80,000</p></body></html>\""
   ]
  },
  {
   "cell_type": "markdown",
   "metadata": {},
   "source": [
    "### Beautiful Soup"
   ]
  },
  {
   "cell_type": "code",
   "execution_count": 2,
   "metadata": {},
   "outputs": [],
   "source": [
    "# Prerequisites\n",
    "from bs4 import BeautifulSoup\n",
    "import requests"
   ]
  },
  {
   "cell_type": "code",
   "execution_count": 3,
   "metadata": {},
   "outputs": [],
   "source": [
    "# Parse HTML string\n",
    "soup = BeautifulSoup(html_str, 'html5lib')"
   ]
  },
  {
   "cell_type": "code",
   "execution_count": 5,
   "metadata": {},
   "outputs": [
    {
     "name": "stdout",
     "output_type": "stream",
     "text": [
      "<!DOCTYPE html>\n",
      "<html><head><title>Luxury Car Prices</title></head><body><h3><b id=\"boldest\">Mercedes S-Class</b></h3><p> Price: $ 140,000 </p><h3> BMW 7-Series </h3><p> Price: $110,000 </p><h3> Cadillac CTS </h3><p> Price: $80,000</p></body></html>\n"
     ]
    }
   ],
   "source": [
    "print(soup)"
   ]
  },
  {
   "cell_type": "code",
   "execution_count": 4,
   "metadata": {},
   "outputs": [
    {
     "name": "stdout",
     "output_type": "stream",
     "text": [
      "<!DOCTYPE html>\n",
      "<html>\n",
      " <head>\n",
      "  <title>\n",
      "   Luxury Car Prices\n",
      "  </title>\n",
      " </head>\n",
      " <body>\n",
      "  <h3>\n",
      "   <b id=\"boldest\">\n",
      "    Mercedes S-Class\n",
      "   </b>\n",
      "  </h3>\n",
      "  <p>\n",
      "   Price: $ 140,000\n",
      "  </p>\n",
      "  <h3>\n",
      "   BMW 7-Series\n",
      "  </h3>\n",
      "  <p>\n",
      "   Price: $110,000\n",
      "  </p>\n",
      "  <h3>\n",
      "   Cadillac CTS\n",
      "  </h3>\n",
      "  <p>\n",
      "   Price: $80,000\n",
      "  </p>\n",
      " </body>\n",
      "</html>\n"
     ]
    }
   ],
   "source": [
    "# Print pretty HTML\n",
    "print(soup.prettify())"
   ]
  },
  {
   "cell_type": "markdown",
   "metadata": {},
   "source": [
    "### Tags"
   ]
  },
  {
   "cell_type": "code",
   "execution_count": 7,
   "metadata": {},
   "outputs": [
    {
     "name": "stdout",
     "output_type": "stream",
     "text": [
      "tag object:  <title>Luxury Car Prices</title>\n",
      "tag object type:  <class 'bs4.element.Tag'>\n"
     ]
    }
   ],
   "source": [
    "tag_object = soup.title\n",
    "print(\"tag object: \", tag_object)\n",
    "print(\"tag object type: \", type(tag_object))"
   ]
  },
  {
   "cell_type": "code",
   "execution_count": 8,
   "metadata": {},
   "outputs": [
    {
     "name": "stdout",
     "output_type": "stream",
     "text": [
      "tag object:  <h3><b id=\"boldest\">Mercedes S-Class</b></h3>\n",
      "tag object type:  <class 'bs4.element.Tag'>\n"
     ]
    }
   ],
   "source": [
    "# if more than one tag with the same name, returs the first\n",
    "tag_object = soup.h3\n",
    "print(\"tag object: \", tag_object)\n",
    "print(\"tag object type: \", type(tag_object))"
   ]
  },
  {
   "cell_type": "markdown",
   "metadata": {},
   "source": [
    "### Children, Parents, Siblings"
   ]
  },
  {
   "cell_type": "code",
   "execution_count": 9,
   "metadata": {},
   "outputs": [
    {
     "name": "stdout",
     "output_type": "stream",
     "text": [
      "<b id=\"boldest\">Mercedes S-Class</b>\n"
     ]
    }
   ],
   "source": [
    "# Access child\n",
    "tag_object = soup.h3\n",
    "tag_child = tag_object.b \n",
    "print(\"Child: \", tag_child)"
   ]
  },
  {
   "cell_type": "code",
   "execution_count": 10,
   "metadata": {},
   "outputs": [
    {
     "name": "stdout",
     "output_type": "stream",
     "text": [
      "Parent:  <h3><b id=\"boldest\">Mercedes S-Class</b></h3>\n"
     ]
    }
   ],
   "source": [
    "# Access parent \n",
    "tag_parent = tag_child.parent\n",
    "print(\"Parent: \", tag_parent)"
   ]
  },
  {
   "cell_type": "code",
   "execution_count": 11,
   "metadata": {},
   "outputs": [
    {
     "name": "stdout",
     "output_type": "stream",
     "text": [
      "Object:  <h3><b id=\"boldest\">Mercedes S-Class</b></h3>\n",
      "Sibling:  <p> Price: $ 140,000 </p>\n"
     ]
    }
   ],
   "source": [
    "# Access Sibling\n",
    "print(\"Object: \", tag_object)\n",
    "print(\"Sibling: \", tag_object.next_sibling)"
   ]
  },
  {
   "cell_type": "markdown",
   "metadata": {},
   "source": [
    "### HTML Attributes"
   ]
  },
  {
   "cell_type": "code",
   "execution_count": 13,
   "metadata": {},
   "outputs": [
    {
     "data": {
      "text/plain": [
       "'boldest'"
      ]
     },
     "execution_count": 13,
     "metadata": {},
     "output_type": "execute_result"
    }
   ],
   "source": [
    "# Tag's attributes can be accessed as dictionary\n",
    "tag_child['id']"
   ]
  },
  {
   "cell_type": "code",
   "execution_count": 14,
   "metadata": {},
   "outputs": [
    {
     "data": {
      "text/plain": [
       "{'id': 'boldest'}"
      ]
     },
     "execution_count": 14,
     "metadata": {},
     "output_type": "execute_result"
    }
   ],
   "source": [
    "# see whole dictionary\n",
    "tag_child.attrs"
   ]
  },
  {
   "cell_type": "code",
   "execution_count": 15,
   "metadata": {},
   "outputs": [
    {
     "data": {
      "text/plain": [
       "'boldest'"
      ]
     },
     "execution_count": 15,
     "metadata": {},
     "output_type": "execute_result"
    }
   ],
   "source": [
    "# Attribute getter\n",
    "tag_child.get('id')"
   ]
  },
  {
   "cell_type": "markdown",
   "metadata": {},
   "source": [
    "### Navigable String"
   ]
  },
  {
   "cell_type": "code",
   "execution_count": 17,
   "metadata": {},
   "outputs": [
    {
     "name": "stdout",
     "output_type": "stream",
     "text": [
      "tag_string:  Mercedes S-Class\n",
      "tag_string type:  <class 'bs4.element.NavigableString'>\n"
     ]
    }
   ],
   "source": [
    "tag_string = tag_child.string\n",
    "print(\"tag_string: \", tag_string)\n",
    "print(\"tag_string type: \", type(tag_string))"
   ]
  },
  {
   "cell_type": "markdown",
   "metadata": {},
   "source": [
    "### find_all()"
   ]
  },
  {
   "cell_type": "code",
   "execution_count": 20,
   "metadata": {},
   "outputs": [
    {
     "data": {
      "text/plain": [
       "[<h3><b id=\"boldest\">Mercedes S-Class</b></h3>,\n",
       " <h3> BMW 7-Series </h3>,\n",
       " <h3> Cadillac CTS </h3>]"
      ]
     },
     "execution_count": 20,
     "metadata": {},
     "output_type": "execute_result"
    }
   ],
   "source": [
    "cars = soup.find_all('h3')\n",
    "cars"
   ]
  },
  {
   "cell_type": "code",
   "execution_count": 21,
   "metadata": {},
   "outputs": [
    {
     "data": {
      "text/plain": [
       "<h3><b id=\"boldest\">Mercedes S-Class</b></h3>"
      ]
     },
     "execution_count": 21,
     "metadata": {},
     "output_type": "execute_result"
    }
   ],
   "source": [
    "# First car\n",
    "cars[0]"
   ]
  },
  {
   "cell_type": "code",
   "execution_count": 22,
   "metadata": {},
   "outputs": [
    {
     "data": {
      "text/plain": [
       "[<b id=\"boldest\">Mercedes S-Class</b>]"
      ]
     },
     "execution_count": 22,
     "metadata": {},
     "output_type": "execute_result"
    }
   ],
   "source": [
    "# find specific id\n",
    "soup.find_all(id='boldest')"
   ]
  },
  {
   "cell_type": "markdown",
   "metadata": {},
   "source": [
    "## Download and scrape a web page"
   ]
  },
  {
   "cell_type": "code",
   "execution_count": 24,
   "metadata": {},
   "outputs": [],
   "source": [
    "url = \"http://www.cnn.com\"\n",
    "\n",
    "text = requests.get(url).text"
   ]
  },
  {
   "cell_type": "code",
   "execution_count": 25,
   "metadata": {},
   "outputs": [],
   "source": [
    "# Create BeautifulSoup object\n",
    "soup2 = soup = BeautifulSoup(text, 'html5lib')"
   ]
  },
  {
   "cell_type": "code",
   "execution_count": 26,
   "metadata": {},
   "outputs": [
    {
     "name": "stdout",
     "output_type": "stream",
     "text": [
      "https://www.cnn.com\n",
      "https://www.cnn.com/us\n",
      "https://www.cnn.com/world\n",
      "https://www.cnn.com/politics\n",
      "https://www.cnn.com/business\n",
      "https://www.cnn.com/opinions\n",
      "https://www.cnn.com/health\n",
      "https://www.cnn.com/entertainment\n",
      "https://www.cnn.com/style\n",
      "https://www.cnn.com/travel\n",
      "https://www.cnn.com/sports\n",
      "https://www.cnn.com/cnn-underscored\n",
      "https://www.cnn.com/science\n",
      "https://www.cnn.com/climate\n",
      "https://www.cnn.com/weather\n",
      "https://www.cnn.com/world/europe/ukraine\n",
      "https://www.cnn.com/world/middleeast/israel\n",
      "https://www.cnn.com/us\n",
      "https://www.cnn.com/world\n",
      "https://www.cnn.com/politics\n",
      "https://www.cnn.com/business\n",
      "https://www.cnn.com/opinions\n",
      "https://www.cnn.com/health\n",
      "https://www.cnn.com/entertainment\n",
      "https://www.cnn.com/style\n",
      "https://www.cnn.com/travel\n",
      "https://www.cnn.com/sports\n",
      "https://www.cnn.com/cnn-underscored\n",
      "https://www.cnn.com/science\n",
      "https://www.cnn.com/climate\n",
      "https://www.cnn.com/weather\n",
      "https://www.cnn.com/world/europe/ukraine\n",
      "https://www.cnn.com/world/middleeast/israel\n",
      "https://www.cnn.com/video\n",
      "https://www.cnn.com/audio\n",
      "https://www.cnn.com/live-tv\n",
      "/account/settings\n",
      "/follow?iid=fw_var-nav\n",
      "#\n",
      "#\n",
      "/account/settings\n",
      "/follow?iid=fw_var-nav\n",
      "#\n",
      "#\n",
      "https://www.cnn.com/live-tv\n",
      "https://www.cnn.com/audio\n",
      "https://www.cnn.com/video\n",
      "https://us.cnn.com?hpt=header_edition-picker\n",
      "https://edition.cnn.com?hpt=header_edition-picker\n",
      "https://arabic.cnn.com?hpt=header_edition-picker\n",
      "https://cnnespanol.cnn.com/?hpt=header_edition-picker\n",
      "https://us.cnn.com?hpt=header_edition-picker\n",
      "https://edition.cnn.com?hpt=header_edition-picker\n",
      "https://arabic.cnn.com?hpt=header_edition-picker\n",
      "https://cnnespanol.cnn.com/?hpt=header_edition-picker\n",
      "https://www.cnn.com/us\n",
      "https://www.cnn.com/us/crime-and-justice\n",
      "https://www.cnn.com/world\n",
      "https://www.cnn.com/world/africa\n",
      "https://www.cnn.com/world/americas\n",
      "https://www.cnn.com/world/asia\n",
      "https://www.cnn.com/world/australia\n",
      "https://www.cnn.com/world/china\n",
      "https://www.cnn.com/world/europe\n",
      "https://www.cnn.com/world/india\n",
      "https://www.cnn.com/world/middle-east\n",
      "https://www.cnn.com/world/united-kingdom\n",
      "https://www.cnn.com/politics\n",
      "https://www.cnn.com/politics/supreme-court\n",
      "https://www.cnn.com/politics/congress\n",
      "https://www.cnn.com/politics/fact-check\n",
      "https://www.cnn.com/election/2024\n",
      "https://www.cnn.com/business\n",
      "https://www.cnn.com/business/tech\n",
      "https://www.cnn.com/business/media\n",
      "https://www.cnn.com/business/financial-calculators\n",
      "https://www.cnn.com/business/videos\n",
      "https://www.cnn.com/markets\n",
      "https://www.cnn.com/markets/premarkets\n",
      "https://www.cnn.com/markets/after-hours\n",
      "https://www.cnn.com/markets/fear-and-greed\n",
      "https://www.cnn.com/business/investing\n",
      "https://www.cnn.com/specials/investing/markets-now\n",
      "https://www.cnn.com/specials/investing/before-the-bell\n",
      "https://www.cnn.com/specials/business/nightcap\n",
      "https://www.cnn.com/opinions\n",
      "https://www.cnn.com/opinions/opinion-politics\n",
      "https://www.cnn.com/opinions/opinion-social-issues\n",
      "https://www.cnn.com/health\n",
      "https://www.cnn.com/interactive/life-but-better/\n",
      "https://www.cnn.com/specials/health/fitness-life-but-better\n",
      "https://www.cnn.com/specials/health/food-life-but-better\n",
      "https://www.cnn.com/specials/health/sleep-life-but-better\n",
      "https://www.cnn.com/specials/health/mindfulness-life-but-better\n",
      "https://www.cnn.com/specials/health/relationships-life-but-better\n",
      "https://www.cnn.com/entertainment\n",
      "https://www.cnn.com/entertainment/movies\n",
      "https://www.cnn.com/entertainment/tv-shows\n",
      "https://www.cnn.com/entertainment/celebrities\n",
      "https://www.cnn.com/business/tech\n",
      "https://www.cnn.com/business/tech/innovate\n",
      "https://www.cnn.com/business/tech/foreseeable-future\n",
      "https://www.cnn.com/business/tech/mission-ahead\n",
      "https://www.cnn.com/business/work-transformed\n",
      "https://www.cnn.com/business/tech/innovative-cities\n",
      "https://www.cnn.com/style\n",
      "https://www.cnn.com/style/arts\n",
      "https://www.cnn.com/style/design\n",
      "https://www.cnn.com/style/fashion\n",
      "https://www.cnn.com/style/architecture\n",
      "https://www.cnn.com/style/luxury\n",
      "https://www.cnn.com/style/beauty\n",
      "https://www.cnn.com/style/videos\n",
      "https://www.cnn.com/travel\n",
      "https://www.cnn.com/travel/destinations\n",
      "https://www.cnn.com/travel/food-and-drink\n",
      "https://www.cnn.com/travel/stay\n",
      "https://www.cnn.com/travel/videos\n",
      "https://www.cnn.com/sports\n",
      "https://bleacherreport.com/nfl\n",
      "https://bleacherreport.com/college-football\n",
      "https://bleacherreport.com/nba\n",
      "https://bleacherreport.com/mlb\n",
      "https://bleacherreport.com/world-football\n",
      "https://www.cnn.com/sport/paris-olympics-2024\n",
      "https://bleacherreport.com/nhl\n",
      "https://www.cnn.com/videos\n",
      "https://www.cnn.com/live-tv\n",
      "https://www.cnn.com/videos/fast/cnn-headlines\n",
      "https://www.cnn.com/shorts/cnn-shorts\n",
      "https://www.cnn.com/specials/tv/all-shows\n",
      "https://www.cnn.com/cnn10\n",
      "https://www.max.com/channel/cnn-max\n",
      "https://www.cnn.com/tv/schedule/cnn\n",
      "https://www.cnn.com/audio\n",
      "https://www.cnn.com/audio/podcasts/5-things\n",
      "https://www.cnn.com/audio/podcasts/chasing-life\n",
      "https://www.cnn.com/audio/podcasts/the-assignment\n",
      "https://www.cnn.com/audio/podcasts/one-thing\n",
      "https://www.cnn.com/audio/podcasts/tug-of-war\n",
      "https://www.cnn.com/audio/podcasts/political-briefing\n",
      "https://www.cnn.com/audio/podcasts/axe-files\n",
      "https://www.cnn.com/audio/podcasts/all-there-is-with-anderson-cooper\n",
      "https://www.cnn.com/audio\n",
      "https://www.cnn.com/cnn-underscored\n",
      "https://www.cnn.com/cnn-underscored/electronics\n",
      "https://www.cnn.com/cnn-underscored/fashion\n",
      "https://www.cnn.com/cnn-underscored/beauty\n",
      "https://www.cnn.com/cnn-underscored/health-fitness\n",
      "https://www.cnn.com/cnn-underscored/home\n",
      "https://www.cnn.com/cnn-underscored/reviews\n",
      "https://www.cnn.com/cnn-underscored/deals\n",
      "https://www.cnn.com/cnn-underscored/money\n",
      "https://www.cnn.com/cnn-underscored/gifts\n",
      "https://www.cnn.com/cnn-underscored/travel\n",
      "https://www.cnn.com/cnn-underscored/outdoors\n",
      "https://www.cnn.com/cnn-underscored/pets\n",
      "https://store.cnn.com/?utm_source=cnn.com&utm_medium=referral&utm_campaign=navbar\n",
      "https://coupons.cnn.com/\n",
      "https://coupons.cnn.com/target\n",
      "https://coupons.cnn.com/kohls\n",
      "https://coupons.cnn.com/wayfair\n",
      "https://coupons.cnn.com/chewy\n",
      "https://coupons.cnn.com/shein\n",
      "https://www.cnn.com/science\n",
      "https://www.cnn.com/science/space\n",
      "https://www.cnn.com/science/life\n",
      "https://www.cnn.com/science/unearthed\n",
      "https://www.cnn.com/climate\n",
      "https://www.cnn.com/climate/solutions\n",
      "https://www.cnn.com/weather\n",
      "https://www.cnn.com/weather/video\n",
      "https://www.cnn.com/world/europe/ukraine\n",
      "https://www.cnn.com/world/middleeast/israel\n",
      "https://www.cnn.com/about\n",
      "https://www.cnn.com/world/photos\n",
      "https://www.cnn.com/us/cnn-investigates\n",
      "https://www.cnn.com/profiles\n",
      "https://www.cnn.com/profiles/cnn-leadership\n",
      "https://www.cnn.com/newsletters\n",
      "https://careers.wbd.com/cnnjobs\n",
      "https://facebook.com/CNN\n",
      "https://twitter.com/CNN\n",
      "https://instagram.com/CNN\n",
      "https://www.tiktok.com/@cnn?lang=en\n",
      "https://www.linkedin.com/company/cnn\n",
      "/middleeast/live-news/israel-hamas-war-gaza-news-06-06-24/index.html\n",
      "/politics/live-news/hunter-biden-trial-06-06-24/index.html\n",
      "/2024/06/06/weather/california-heat-dome-west-record-climate/index.html\n",
      "/2024/06/06/health/mpox-vaccine-lgbtq-pride-month/index.html\n",
      "/2024/06/06/sport/iga-swiatek-coco-gauff-french-open-semifinal-spt-intl/index.html\n",
      "/2024/06/06/sport/nba-finals-preview-schedule-how-to-watch-spt-intl/index.html\n",
      "/2024/06/06/food/red-lobster-closures-list/index.html\n",
      "https://www.cnn.com/cnn-underscored/gifts/fathers-day-gifts\n",
      "https://www.cnn.com/audio/podcasts/axe-files/episodes/ca92f218-9f76-11ee-84b4-9ba2e9f8ce2d\n",
      "/2024/06/06/science/boeing-starliner-new-helium-leaks-scn/index.html\n",
      "/2024/06/06/science/boeing-starliner-new-helium-leaks-scn/index.html\n",
      "/2024/06/06/science/boeing-starliner-new-helium-leaks-scn/index.html\n",
      "/2024/06/06/science/spacex-starship-launch-fourth-test-flight-scn/index.html\n",
      "/2024/06/06/science/spacex-starship-launch-fourth-test-flight-scn/index.html\n",
      "/2024/06/06/business/video/spacex-starship-rocket-fourth-test-launch-digvid\n",
      "/2024/06/06/business/video/spacex-starship-rocket-fourth-test-launch-digvid\n",
      "/2024/06/01/science/moon-time-zone-science-newsletter-wt-scn/index.html\n",
      "/2024/06/01/science/moon-time-zone-science-newsletter-wt-scn/index.html\n",
      "/2024/05/08/science/video/nasa-black-hole-digvid\n",
      "/2024/05/08/science/video/nasa-black-hole-digvid\n",
      "/2024/06/05/science/thomas-r-cech-nobel-prize-scn-cec/index.html\n",
      "/2024/06/05/science/thomas-r-cech-nobel-prize-scn-cec/index.html\n",
      "/2024/06/06/us/wwii-vet-death-d-day-ceremony/index.html\n",
      "/2024/06/06/us/wwii-vet-death-d-day-ceremony/index.html\n",
      "/2024/06/06/world/video/d-day-medals-veterans-france-biden-macron-digvid\n",
      "/politics/live-news/hunter-biden-trial-06-06-24/index.html\n",
      "/politics/live-news/hunter-biden-trial-06-06-24/index.html\n",
      "/2024/06/06/opinions/video/se-cupp-when-it-comes-to-hunter-biden-the-gops-hypocrisy-is-on-full-display\n",
      "/2024/06/06/politics/steve-bannon-jail/index.html\n",
      "/2024/06/06/politics/steve-bannon-jail/index.html\n",
      "https://www.cnn.com/\n",
      "/videos/fast/cnn-headlines\n",
      "/2024/06/06/health/xylitol-heart-attack-stroke-wellness/index.html\n",
      "/2024/06/06/health/xylitol-heart-attack-stroke-wellness/index.html\n",
      "/travel/worlds-50-best-restaurants-for-2024/index.html\n",
      "/2024/06/05/sport/jean-daniel-pession-girlfriend-death-skier-italy-spt-intl/index.html\n",
      "/2024/06/06/entertainment/video/national-anthem-whistler-moos-cprog-digvid-bdk\n",
      "/2024/06/06/science/tiger-shark-regurgitates-echidna-intl-scli-scn/index.html\n",
      "/2024/06/06/europe/tv-doctor-michael-mosley-missing-intl-scli/index.html\n",
      "/2024/06/06/world/video/tom-hanks-d-day-saving-private-ryan-trump-digvid\n",
      "/2024/06/05/us/video/toddler-lifted-from-car-giraffe-kwtx-digvid\n",
      "/2024/06/06/weather/california-heat-dome-west-record-climate/index.html\n",
      "/2024/06/06/sport/kansas-city-chiefs-bj-thompson/index.html\n",
      "/2024/06/06/sport/kansas-city-chiefs-bj-thompson/index.html\n",
      "/2024/06/06/us/near-collision-airport-runway-austin/index.html\n",
      "/2024/06/05/politics/video/samuel-alito-neighbor-flag-controversy-ebof-digvid\n",
      "/2024/06/05/world/video/us-south-korea-live-munitions-exercise-north-korea-trash-balloons-ripley-digvid-ebof\n",
      "/2024/06/05/politics/video/trump-evangelical-voter-support-christianity-today-editor-ac360-digvid\n",
      "/2024/06/06/us/colorado-elk-attacks/index.html\n",
      "/2024/06/06/americas/cuba-russian-ships-submarine-visit-intl-latam/index.html\n",
      "/2024/06/06/politics/biden-d-day-american-leadership/index.html\n",
      "/2024/06/06/politics/biden-d-day-american-leadership/index.html\n",
      "/2024/06/06/world/video/d-day-anniversary-video-normandy-france-digvid\n",
      "/2024/06/06/world/gallery/d-day-80th-anniversary/index.html\n",
      "https://www.cnn.com/europe/live-news/d-day-80-anniversary-06-06-24-intl/h_cb8b3f4276270e2783a7446632c07c9a\n",
      "/videos/world/2024/06/06/biden-d-day-normandy-80-years-democracy-digvid.cnn\n",
      "/2024/06/06/europe/prince-william-king-charles-d-day-anniversary-intl/index.html\n",
      "/2024/06/06/politics/austin-cnn-interview/index.html\n",
      "/2024/06/06/world/video/80th-d-day-anniversary-tribute-salute-cannons-digvid\n",
      "https://www.cnn.com/audio/podcasts/the-assignment/episodes/93c62cd6-ae4a-11ee-8467-1fdf96ed72bd\n",
      "https://www.cnn.com/audio/podcasts/the-assignment/episodes/93c62cd6-ae4a-11ee-8467-1fdf96ed72bd\n",
      "https://www.cnn.com/audio/podcasts/chasing-life/episodes/e4c4a8e8-8efa-11ee-ae9c-e7aa58a6d44b\n",
      "https://www.cnn.com/audio/podcasts/chasing-life/episodes/e4c4a8e8-8efa-11ee-ae9c-e7aa58a6d44b\n",
      "https://www.cnn.com/middleeast/live-news/israel-hamas-war-gaza-news-06-06-24/index.html\n",
      "https://www.cnn.com/middleeast/live-news/israel-hamas-war-gaza-news-06-06-24/index.html\n",
      "/2024/06/06/politics/biden-administration-allies-hamas-ceasefire/index.html\n",
      "/2024/06/06/entertainment/house-of-the-dragon-season-2-review/index.html\n",
      "/2024/06/06/entertainment/house-of-the-dragon-season-2-review/index.html\n",
      "/2024/06/06/opinions/consumers-spending-high-prices-inflation-peterson-guichard/index.html\n",
      "/2024/06/06/opinions/consumers-spending-high-prices-inflation-peterson-guichard/index.html\n",
      "/2024/06/05/entertainment/video/rip-singing-beagle-moos-cprog-digvid-bdk\n",
      "/2024/06/05/entertainment/video/rip-singing-beagle-moos-cprog-digvid-bdk\n",
      "/travel/sambuca-sicily-cheap-homes-three-euros/index.html\n",
      "/travel/sambuca-sicily-cheap-homes-three-euros/index.html\n",
      "https://www.cnn.com/business\n",
      "/2024/06/06/food/red-lobster-closures-list/index.html\n",
      "/2024/06/06/food/red-lobster-closures-list/index.html\n",
      "/2024/06/06/business/nfl-sunday-ticket-antitrust-suit/index.html\n",
      "https://www.cnn.com/cnn-underscored\n",
      "/cnn-underscored/deals/apple-macbook-air-sale-2024-06-03\n",
      "/cnn-underscored/deals/apple-macbook-air-sale-2024-06-03\n",
      "/cnn-underscored/reviews/best-cooling-fans\n",
      "/cnn-underscored/health-fitness/best-recovery-sandals\n",
      "/cnn-underscored/reviews/best-beach-chairs\n",
      "/cnn-underscored/deals/best-online-sales-right-now-2024-06-06\n",
      "https://www.cnn.com/cnn-underscored/fashion\n",
      "/cnn-underscored/fashion/editors-favorite-amazon-summer-dresses\n",
      "/cnn-underscored/fashion/editors-favorite-amazon-summer-dresses\n",
      "/cnn-underscored/reviews/travelon-anti-theft-essential-messenger-purse\n",
      "/cnn-underscored/deals/aerogarden-bounty-elite-2024-06-06\n",
      "/cnn-underscored/deals/best-amazon-deals-2024-06-05\n",
      "/cnn-underscored/travel/best-packing-cubes-2024\n",
      "/cnn-underscored/reviews/best-budget-hiking-gear-in-2024\n",
      "/cnn-underscored/reviews/best-budget-hiking-gear-in-2024\n",
      "/cnn-underscored/deals/cuisinart-drip-coffee-maker-sale-2024-06-06\n",
      "/cnn-underscored/gifts/fathers-day-gifts\n",
      "https://www.cnn.com/cnn-underscored/money/high-yield-savings-accounts?utm_campaign=cnn-homepage\n",
      "https://www.cnn.com/cnn-underscored/money/best-pet-insurance?utm_campaign=cnn-homepage\n",
      "https://www.cnn.com/wbd/food-network\n",
      "/wbd/the-8-best-cherry-recipes-for-summertime-and-beyond/index.html\n",
      "/wbd/the-8-best-cherry-recipes-for-summertime-and-beyond/index.html\n",
      "/wbd/how-to-make-grilling-safer-for-your-health/index.html\n",
      "/wbd/how-to-make-grilling-safer-for-your-health/index.html\n",
      "/wbd/10-ways-to-turn-pool-noodles-into-almost-free-backyard-kids-games/index.html\n",
      "/wbd/10-ways-to-turn-pool-noodles-into-almost-free-backyard-kids-games/index.html\n",
      "https://www.cnn.com/opinions\n",
      "/2024/06/06/opinions/consumers-spending-high-prices-inflation-peterson-guichard/index.html\n",
      "/2024/06/06/opinions/consumers-spending-high-prices-inflation-peterson-guichard/index.html\n",
      "/2024/06/05/opinions/biden-trump-bad-polls-border-moderates-kerr/index.html\n",
      "/2024/06/04/opinions/sex-life-decline-social-media-filipovic/index.html\n",
      "/2024/06/06/opinions/t20-cricket-world-cup-india-pakistan-new-york-ravinran/index.html\n",
      "/2024/06/06/opinions/graceland-elvis-presley-symbol-of-home-bertrand/index.html\n",
      "/2024/06/04/opinions/caitlin-clark-pat-mcafee-wnba-bass/index.html\n",
      "/2024/06/04/opinions/fauci-covid-hearing-republicans-sepkowitz/index.html\n",
      "https://www.cnn.com/entertainment\n",
      "/2024/06/06/entertainment/big-little-lies-season-3/index.html\n",
      "/2024/06/06/entertainment/big-little-lies-season-3/index.html\n",
      "/2024/06/06/entertainment/jennifer-lopez-thank-you-note/index.html\n",
      "/2024/06/06/entertainment/whoopi-goldberg-sister-act-2-choir-reunion/index.html\n",
      "/2024/06/06/entertainment/adam-levine-kelsea-ballerini-the-voice/index.html\n",
      "/2024/06/05/entertainment/halsey-illness-lucky-alive-scli-intl/index.html\n",
      "/2024/06/05/entertainment/lady-gaga-taylor-swift-lyric-pregnancy-speculation/index.html\n",
      "https://www.cnn.com/travel\n",
      "/travel/hidden-spaces-on-planes/index.html\n",
      "/travel/hidden-spaces-on-planes/index.html\n",
      "/travel/canada-house-d-day-intl/index.html\n",
      "/2024/05/31/travel/indigo-indian-airline-female-travelers-seating-intl-hnk/index.html\n",
      "/travel/shibuya-city-tokyo-public-drinking-ban-intl-hnk/index.html\n",
      "/travel/lgbtq-travel-destinations-homosexuality-criminalized/index.html\n",
      "/travel/airbus-beluga-gets-own-airline/index.html\n",
      "https://www.cnn.com/style\n",
      "/2024/06/06/style/virginie-viard-artistic-director-chanel-exit/index.html\n",
      "/2024/06/06/style/virginie-viard-artistic-director-chanel-exit/index.html\n",
      "/2024/06/05/style/india-madras-fabric-us-fashion-intl-hnk/index.html\n",
      "/2024/06/04/style/gregory-crewdson-photos-suburbia-retrospective/index.html\n",
      "/style/worlds-largest-3d-printer-homes-maine-hnk-spc-intl/index.html\n",
      "/2024/06/01/style/cleveland-museum-libya-statue-trnd/index.html\n",
      "/2024/06/06/health/xylitol-heart-attack-stroke-wellness/index.html\n",
      "/2024/06/06/health/xylitol-heart-attack-stroke-wellness/index.html\n",
      "/2024/06/05/health/antidepressant-discontinuation-withdrawal-symptoms-wellness/index.html\n",
      "/2024/06/05/health/laser-hair-removal-devices-wellness/index.html\n",
      "/2024/06/03/science/genyornis-newtoni-skull-thunder-bird-scn/index.html\n",
      "/2024/06/04/science/rock-engravings-ancient-south-america-scn/index.html\n",
      "https://www.cnn.com/world\n",
      "/2024/06/05/health/bird-flu-mexico-human-h5n2/index.html\n",
      "/2024/06/05/health/bird-flu-mexico-human-h5n2/index.html\n",
      "/2024/06/06/politics/hamas-israel-hostages-ceasefire-countries-statement/index.html\n",
      "/2024/06/06/africa/sudanese-government-accuses-militia-massacre-intl/index.html\n",
      "/2024/06/06/europe/european-parliament-elections-2024-explained-intl/index.html\n",
      "https://www.cnn.com/politics\n",
      "/2024/06/06/politics/fact-check-donald-trump-abortion-babies-executed/index.html\n",
      "/2024/06/06/politics/fact-check-donald-trump-abortion-babies-executed/index.html\n",
      "/2024/06/06/politics/arizona-fake-electors-jake-hoffman/index.html\n",
      "/2024/06/06/politics/republicans-revenge-tour-2024-trump/index.html\n",
      "/2024/06/06/politics/tim-scott-black-latino-voters-outreach/index.html\n",
      "https://www.cnn.com/us\n",
      "/2024/06/06/us/gilgo-beach-killings-rex-heuermann-indictment/index.html\n",
      "/2024/06/06/us/gilgo-beach-killings-rex-heuermann-indictment/index.html\n",
      "/2024/06/06/sport/chicago-sky-harassed-hotel-washington/index.html\n",
      "/2024/06/05/us/baltimore-port-reopen-bridge-removal/index.html\n",
      "/2024/06/05/europe/amanda-knox-slander-meredith-kercher-murder-intl/index.html\n",
      "https://www.cnn.com/audio\n",
      "https://www.cnn.com/audio/podcasts/the-assignment/episodes/93c62cd6-ae4a-11ee-8467-1fdf96ed72bd\n",
      "https://www.cnn.com/audio/podcasts/the-assignment/episodes/93c62cd6-ae4a-11ee-8467-1fdf96ed72bd\n",
      "https://www.cnn.com/audio/podcasts/axe-files/episodes/ca92f218-9f76-11ee-84b4-9ba2e9f8ce2d\n",
      "https://www.cnn.com/audio/podcasts/axe-files/episodes/ca92f218-9f76-11ee-84b4-9ba2e9f8ce2d\n",
      "https://www.cnn.com/audio/podcasts/chasing-life/episodes/e4c4a8e8-8efa-11ee-ae9c-e7aa58a6d44b\n",
      "https://www.cnn.com/audio/podcasts/chasing-life/episodes/e4c4a8e8-8efa-11ee-ae9c-e7aa58a6d44b\n",
      "https://bleacherreport.com/nba?utm_source=cnn.com&utm_medium=referral&utm_campaign=editorial\n",
      "https://bleacherreport.com/articles/10123770-tom-brady-narrates-celtics-we-want-boston-hype-video-ahead-of-nba-finals-vs-mavs?utm_source=cnn.com&utm_medium=referral&utm_campaign=editorial\n",
      "https://bleacherreport.com/articles/10123770-tom-brady-narrates-celtics-we-want-boston-hype-video-ahead-of-nba-finals-vs-mavs?utm_source=cnn.com&utm_medium=referral&utm_campaign=editorial\n",
      "https://bleacherreport.com/articles/10123653-windhorst-lebron-james-kyrie-irving-didnt-talk-for-years-after-guards-cavs-exit?utm_source=cnn.com&utm_medium=referral&utm_campaign=editorial\n",
      "https://bleacherreport.com/articles/10123653-windhorst-lebron-james-kyrie-irving-didnt-talk-for-years-after-guards-cavs-exit?utm_source=cnn.com&utm_medium=referral&utm_campaign=editorial\n",
      "https://bleacherreport.com/articles/10123610-scouting-the-2024-nba-finals-officiating-team?utm_source=cnn.com&utm_medium=referral&utm_campaign=editorial\n",
      "https://bleacherreport.com/articles/10123610-scouting-the-2024-nba-finals-officiating-team?utm_source=cnn.com&utm_medium=referral&utm_campaign=editorial\n",
      "https://bleacherreport.com/?utm_source=cnn.com&utm_medium=referral&utm_campaign=editorial\n",
      "https://bleacherreport.com/articles/10123376-2024-nhl-stanley-cup-final-br-staff-predictions-for-panthers-oilers?utm_source=cnn.com&utm_medium=referral&utm_campaign=editorial\n",
      "https://bleacherreport.com/articles/10123376-2024-nhl-stanley-cup-final-br-staff-predictions-for-panthers-oilers?utm_source=cnn.com&utm_medium=referral&utm_campaign=editorial\n",
      "https://bleacherreport.com/articles/10123766-skys-chennedy-carter-confronted-by-man-at-hotel-following-caitlin-clark-incident?utm_source=cnn.com&utm_medium=referral&utm_campaign=editorial\n",
      "https://bleacherreport.com/articles/10123790-report-nfl-refs-earn-as-much-as-200k-aav-on-contracts-chain-gang-crew-minimum-wage?utm_source=cnn.com&utm_medium=referral&utm_campaign=editorial\n",
      "https://bleacherreport.com/articles/10123532-yankees-red-hot-aaron-judge-is-trending-toward-another-home-run-record-chase-in-2024?utm_source=cnn.com&utm_medium=referral&utm_campaign=editorial\n",
      "https://bleacherreport.com/articles/10123746-video-colts-reveal-swimming-pool-at-lucas-oil-stadium-for-2024-us-olympic-trials?utm_source=cnn.com&utm_medium=referral&utm_campaign=editorial\n",
      "/2024/05/24/business/video/brinc-drone-first-responder-future-law-enforcement-watt-digvid\n",
      "/2024/05/24/business/video/brinc-drone-first-responder-future-law-enforcement-watt-digvid\n",
      "/2024/05/24/business/video/ai-voice-actor-stolen-voice-lawsuit-digvid\n",
      "/2024/05/24/business/video/ai-voice-actor-stolen-voice-lawsuit-digvid\n",
      "/2024/05/23/business/video/prison-inmates-virtual-reality-job-training-digvid\n",
      "/2024/05/23/business/video/prison-inmates-virtual-reality-job-training-digvid\n",
      "/2024/05/18/us/video/georgia-teen-awarded-nearly-fifteen-million-scholarship-affil-pkg-digvid\n",
      "/2024/05/18/us/video/georgia-teen-awarded-nearly-fifteen-million-scholarship-affil-pkg-digvid\n",
      "https://www.cnn.com/interactive/asequals/\n",
      "https://www.cnn.com/interactive/asequals/trans-shelters-india-government-funding-as-equals-intl-cmd/\n",
      "https://www.cnn.com/interactive/asequals/trans-shelters-india-government-funding-as-equals-intl-cmd/\n",
      "https://edition.cnn.com/interactive/asequals/teaching-men-caring-skills-colombia-as-equals-intl-cmd/\n",
      "https://edition.cnn.com/interactive/asequals/teaching-men-caring-skills-colombia-as-equals-intl-cmd/\n",
      "/2024/04/14/africa/chibok-girls-ten-years-as-equals-intl-cmd/index.html\n",
      "/2024/04/14/africa/chibok-girls-ten-years-as-equals-intl-cmd/index.html\n",
      "https://www.cnn.com/business/tech\n",
      "/2024/05/31/tech/fcc-affordable-connectivity-program-acp-close/index.html\n",
      "/2024/05/31/tech/fcc-affordable-connectivity-program-acp-close/index.html\n",
      "/2024/05/30/tech/elon-musk-byd-china-nightcap/index.html\n",
      "/2024/05/30/tech/elon-musk-byd-china-nightcap/index.html\n",
      "/2024/05/29/tech/ransomware-attacks-hospitals-patients-danger/index.html\n",
      "/2024/05/29/tech/ransomware-attacks-hospitals-patients-danger/index.html\n",
      "https://www.cnn.com/world/photos\n",
      "/2023/03/31/politics/gallery/trump-indictment/index.html\n",
      "/2023/03/31/politics/gallery/trump-indictment/index.html\n",
      "/2024/06/05/europe/gallery/d-day-normandy-invasion/index.html\n",
      "/2024/06/05/europe/gallery/d-day-normandy-invasion/index.html\n",
      "/2024/05/30/world/gallery/photos-this-week-may-23-may-30/index.html\n",
      "/2024/05/30/world/gallery/photos-this-week-may-23-may-30/index.html\n",
      "https://cnn.it/3yAwWJo\n",
      "https://cnn.it/3yAwWJo\n",
      "https://coupons.cnn.com/\n",
      "https://coupons.cnn.com/macys\n",
      "https://coupons.cnn.com/macys\n",
      "https://coupons.cnn.com/doordash\n",
      "https://coupons.cnn.com/doordash\n",
      "https://coupons.cnn.com/walmart\n",
      "https://coupons.cnn.com/walmart\n",
      "/2024/06/05/business/tj-maxx-body-cameras-shoplifting/index.html\n",
      "/2024/06/05/business/tj-maxx-body-cameras-shoplifting/index.html\n",
      "/2024/06/05/europe/norway-cliff-death-preikestolen-intl-scli/index.html\n",
      "/travel/airline-passenger-tracks-missing-bag-felony-theft/index.html\n",
      "/2024/06/05/business/british-banknotes-king-charles-iii-enter-circulation/index.html\n",
      "/2024/06/05/travel/dutch-tourist-defacing-roman-scli-intl/index.html\n",
      "/2024/06/04/us/tiktok-influencer-juixxe-disneyland-cec/index.html\n",
      "/2024/06/04/investing/premarket-stocks-trading/index.html\n",
      "/2024/06/03/us/idaho-death-penalty-chad-daybell/index.html\n",
      "/2024/06/02/media/rupert-murdoch-elena-zhukova-wife/index.html\n",
      "/2024/06/02/us/gabby-petito-mom-brian-laundrie/index.html\n",
      "/account/settings\n",
      "/follow?iid=fw_var-nav\n",
      "#\n",
      "#\n",
      "https://www.cnn.com/live-tv\n",
      "https://www.cnn.com/audio\n",
      "https://www.cnn.com/video\n",
      "https://www.cnn.com/us\n",
      "https://www.cnn.com/us/crime-and-justice\n",
      "https://www.cnn.com/world\n",
      "https://www.cnn.com/world/africa\n",
      "https://www.cnn.com/world/americas\n",
      "https://www.cnn.com/world/asia\n",
      "https://www.cnn.com/world/australia\n",
      "https://www.cnn.com/world/china\n",
      "https://www.cnn.com/world/europe\n",
      "https://www.cnn.com/world/india\n",
      "https://www.cnn.com/world/middle-east\n",
      "https://www.cnn.com/world/united-kingdom\n",
      "https://www.cnn.com/politics\n",
      "https://www.cnn.com/politics/supreme-court\n",
      "https://www.cnn.com/politics/congress\n",
      "https://www.cnn.com/politics/fact-check\n",
      "https://www.cnn.com/election/2024\n",
      "https://www.cnn.com/business\n",
      "https://www.cnn.com/business/tech\n",
      "https://www.cnn.com/business/media\n",
      "https://www.cnn.com/business/financial-calculators\n",
      "https://www.cnn.com/business/videos\n",
      "https://www.cnn.com/markets\n",
      "https://www.cnn.com/markets/premarkets\n",
      "https://www.cnn.com/markets/after-hours\n",
      "https://www.cnn.com/markets/fear-and-greed\n",
      "https://www.cnn.com/business/investing\n",
      "https://www.cnn.com/specials/investing/markets-now\n",
      "https://www.cnn.com/specials/investing/before-the-bell\n",
      "https://www.cnn.com/specials/business/nightcap\n",
      "https://www.cnn.com/opinions\n",
      "https://www.cnn.com/opinions/opinion-politics\n",
      "https://www.cnn.com/opinions/opinion-social-issues\n",
      "https://www.cnn.com/health\n",
      "https://www.cnn.com/interactive/life-but-better/\n",
      "https://www.cnn.com/specials/health/fitness-life-but-better\n",
      "https://www.cnn.com/specials/health/food-life-but-better\n",
      "https://www.cnn.com/specials/health/sleep-life-but-better\n",
      "https://www.cnn.com/specials/health/mindfulness-life-but-better\n",
      "https://www.cnn.com/specials/health/relationships-life-but-better\n",
      "https://www.cnn.com/entertainment\n",
      "https://www.cnn.com/entertainment/movies\n",
      "https://www.cnn.com/entertainment/tv-shows\n",
      "https://www.cnn.com/entertainment/celebrities\n",
      "https://www.cnn.com/business/tech\n",
      "https://www.cnn.com/business/tech/innovate\n",
      "https://www.cnn.com/business/tech/foreseeable-future\n",
      "https://www.cnn.com/business/tech/mission-ahead\n",
      "https://www.cnn.com/business/work-transformed\n",
      "https://www.cnn.com/business/tech/innovative-cities\n",
      "https://www.cnn.com/style\n",
      "https://www.cnn.com/style/arts\n",
      "https://www.cnn.com/style/design\n",
      "https://www.cnn.com/style/fashion\n",
      "https://www.cnn.com/style/architecture\n",
      "https://www.cnn.com/style/luxury\n",
      "https://www.cnn.com/style/beauty\n",
      "https://www.cnn.com/style/videos\n",
      "https://www.cnn.com/travel\n",
      "https://www.cnn.com/travel/destinations\n",
      "https://www.cnn.com/travel/food-and-drink\n",
      "https://www.cnn.com/travel/stay\n",
      "https://www.cnn.com/travel/news\n",
      "https://www.cnn.com/travel/videos\n",
      "https://www.cnn.com/sports\n",
      "https://bleacherreport.com/nfl\n",
      "https://bleacherreport.com/college-football\n",
      "https://bleacherreport.com/nba\n",
      "https://bleacherreport.com/mlb\n",
      "https://bleacherreport.com/world-football\n",
      "https://www.cnn.com/sport/paris-olympics-2024\n",
      "https://bleacherreport.com/nhl\n",
      "https://www.cnn.com/videos\n",
      "https://www.cnn.com/live-tv\n",
      "https://www.cnn.com/videos/fast/cnn-headlines\n",
      "https://www.cnn.com/shorts/cnn-shorts\n",
      "https://www.cnn.com/specials/tv/all-shows\n",
      "https://www.cnn.com/cnn10\n",
      "https://www.max.com/channel/cnn-max\n",
      "https://www.cnn.com/tv/schedule/cnn\n",
      "https://www.cnn.com/audio\n",
      "https://www.cnn.com/audio/podcasts/5-things\n",
      "https://www.cnn.com/audio/podcasts/chasing-life\n",
      "https://www.cnn.com/audio/podcasts/the-assignment\n",
      "https://www.cnn.com/audio/podcasts/one-thing\n",
      "https://www.cnn.com/audio/podcasts/tug-of-war\n",
      "https://www.cnn.com/audio/podcasts/political-briefing\n",
      "https://www.cnn.com/audio/podcasts/axe-files\n",
      "https://www.cnn.com/audio/podcasts/all-there-is-with-anderson-cooper\n",
      "https://www.cnn.com/audio\n",
      "https://www.cnn.com/cnn-underscored\n",
      "https://www.cnn.com/cnn-underscored/electronics\n",
      "https://www.cnn.com/cnn-underscored/fashion\n",
      "https://www.cnn.com/cnn-underscored/beauty\n",
      "https://www.cnn.com/cnn-underscored/health-fitness\n",
      "https://www.cnn.com/cnn-underscored/home\n",
      "https://www.cnn.com/cnn-underscored/reviews\n",
      "https://www.cnn.com/cnn-underscored/deals\n",
      "https://www.cnn.com/cnn-underscored/money\n",
      "https://www.cnn.com/cnn-underscored/gifts\n",
      "https://www.cnn.com/cnn-underscored/travel\n",
      "https://www.cnn.com/cnn-underscored/outdoors\n",
      "https://www.cnn.com/cnn-underscored/pets\n",
      "https://store.cnn.com/?utm_source=cnn.com&utm_medium=referral&utm_campaign=navbar\n",
      "https://coupons.cnn.com/\n",
      "https://coupons.cnn.com/about\n",
      "https://coupons.cnn.com/help-faq\n",
      "https://coupons.cnn.com/top20\n",
      "https://coupons.cnn.com/categories\n",
      "https://www.cnn.com/science\n",
      "https://www.cnn.com/science/space\n",
      "https://www.cnn.com/science/life\n",
      "https://www.cnn.com/science/unearthed\n",
      "https://www.cnn.com/climate\n",
      "https://www.cnn.com/climate/solutions\n",
      "https://www.cnn.com/weather\n",
      "https://www.cnn.com/weather/video\n",
      "https://www.cnn.com/world/europe/ukraine\n",
      "https://www.cnn.com/world/middleeast/israel\n",
      "https://www.cnn.com/about\n",
      "https://www.cnn.com/world/photos\n",
      "https://www.cnn.com/us/cnn-investigates\n",
      "https://www.cnn.com/profiles\n",
      "https://www.cnn.com/profiles/cnn-leadership\n",
      "https://www.cnn.com/newsletters\n",
      "https://careers.wbd.com/cnnjobs\n",
      "https://www.cnn.com\n",
      "https://www.cnn.com/video\n",
      "https://www.cnn.com/audio\n",
      "https://www.cnn.com/live-tv\n",
      "https://facebook.com/CNN\n",
      "https://twitter.com/CNN\n",
      "https://instagram.com/CNN\n",
      "https://www.tiktok.com/@cnn?lang=en\n",
      "https://www.linkedin.com/company/cnn\n",
      "/account/settings\n",
      "/follow?iid=fw_var-nav\n",
      "#\n",
      "#\n",
      "https://www.cnn.com/terms\n",
      "https://www.cnn.com/privacy\n",
      "#\n",
      "https://www.cnn.com/ad-choices\n",
      "https://www.cnn.com/accessibility\n",
      "https://www.cnn.com/about\n",
      "https://www.cnn.com/newsletters\n",
      "https://www.cnn.com/transcripts\n"
     ]
    }
   ],
   "source": [
    "# Scrape all links\n",
    "for link in soup2.find_all('a', href=True):\n",
    "    print(link.get('href'))"
   ]
  },
  {
   "cell_type": "code",
   "execution_count": 27,
   "metadata": {},
   "outputs": [
    {
     "name": "stdout",
     "output_type": "stream",
     "text": [
      "<img alt=\"Butch Wilmore and Suni Williams enter the ISS on June 6, 2024.\" class=\"image__dam-img image__dam-img--loading\" height=\"1688\" onerror=\"imageLoadError(this)\" onload=\"this.classList.remove('image__dam-img--loading')\" src=\"https://media.cnn.com/api/v1/images/stellar/prod/screen-shot-2024-06-06-at-3-49-37-pm.jpg?c=16x9&amp;q=h_438,w_780,c_fill\" width=\"3000\"/>\n",
      "https://media.cnn.com/api/v1/images/stellar/prod/screen-shot-2024-06-06-at-3-49-37-pm.jpg?c=16x9&q=h_438,w_780,c_fill\n",
      "<img alt=\"still_20688397_3374068.294_still.jpg\" class=\"image__dam-img image__dam-img--loading\" height=\"1080\" onerror=\"imageLoadError(this)\" onload=\"this.classList.remove('image__dam-img--loading')\" src=\"https://media.cnn.com/api/v1/images/stellar/prod/still-20688397-3374068-294-still.jpg?c=16x9&amp;q=h_144,w_256,c_fill\" width=\"1920\"/>\n",
      "https://media.cnn.com/api/v1/images/stellar/prod/still-20688397-3374068-294-still.jpg?c=16x9&q=h_144,w_256,c_fill\n",
      "<img alt=\"KARS, TURKIYE - MAY 18: A view of moon, appearing in the sky in the evening hours in Kars, Turkiye on May 18, 2024. (Photo by Omer Tarsuslu/Anadolu via Getty Images)\" class=\"image__dam-img image__dam-img--loading\" height=\"1687\" onerror=\"imageLoadError(this)\" onload=\"this.classList.remove('image__dam-img--loading')\" src=\"https://media.cnn.com/api/v1/images/stellar/prod/gettyimages-2153166412-20240601175545143.jpg?c=16x9&amp;q=h_144,w_256,c_fill\" width=\"3000\"/>\n",
      "https://media.cnn.com/api/v1/images/stellar/prod/gettyimages-2153166412-20240601175545143.jpg?c=16x9&q=h_144,w_256,c_fill\n",
      "<img alt=\"black hole wide thumb.jpg\" class=\"image__dam-img image__dam-img--loading\" height=\"1080\" onerror=\"imageLoadError(this)\" onload=\"this.classList.remove('image__dam-img--loading')\" src=\"https://media.cnn.com/api/v1/images/stellar/prod/black-hole-wide-thumb.jpg?c=16x9&amp;q=h_144,w_256,c_fill\" width=\"1920\"/>\n",
      "https://media.cnn.com/api/v1/images/stellar/prod/black-hole-wide-thumb.jpg?c=16x9&q=h_144,w_256,c_fill\n",
      "<img alt=\"Nobel Laureate and CU Boulder researcher Tom Cech. (Photo by Glenn Asakawa/University of Colorado)\n",
      "\" class=\"image__dam-img image__dam-img--loading\" height=\"1875\" onerror=\"imageLoadError(this)\" onload=\"this.classList.remove('image__dam-img--loading')\" src=\"https://media.cnn.com/api/v1/images/stellar/prod/56087-cechthomasr-cglennasakawauniversityofcolorado.jpg?c=16x9&amp;q=h_144,w_256,c_fill\" width=\"2500\"/>\n",
      "https://media.cnn.com/api/v1/images/stellar/prod/56087-cechthomasr-cglennasakawauniversityofcolorado.jpg?c=16x9&q=h_144,w_256,c_fill\n",
      "<img alt=\"U.S. Navy veteran Bob Persichitti attends the 74th Reunion of Honor ceremony on Iwo To, Japan, March 23, 2019. Persichitti watched the Marines raise the American flag on Mt. Suribachi during the Battle of Iwo Jima. The Reunion of Honor ceremony is held annually to commemorate the heroism and sacrifices made by service members during the Battle of Iwo Jima and World War II. Persichitti, is a native of Uniontown, Pennsylvania. (U.S. Marine Corps photo by Sgt. Mark Gibson)\" class=\"image__dam-img image__dam-img--loading\" height=\"1786\" onerror=\"imageLoadError(this)\" onload=\"this.classList.remove('image__dam-img--loading')\" src=\"https://media.cnn.com/api/v1/images/stellar/prod/5203240.jpg?c=16x9&amp;q=h_720,w_1280,c_fill\" width=\"2500\"/>\n",
      "https://media.cnn.com/api/v1/images/stellar/prod/5203240.jpg?c=16x9&q=h_720,w_1280,c_fill\n",
      "<img alt=\"Hunter Biden arrives to the J. Caleb Boggs Federal Building on June 06, 2024 in Wilmington, Delaware. The trial for Hunter Biden's felony gun charges continues today with additional witnesses.\" class=\"image__dam-img image__dam-img--loading\" height=\"1350\" onerror=\"imageLoadError(this)\" onload=\"this.classList.remove('image__dam-img--loading')\" src=\"https://media.cnn.com/api/v1/images/stellar/prod/240606103329-ls-hunter-biden-trial-060624.jpg?c=16x9&amp;q=h_720,w_1280,c_fill\" width=\"2400\"/>\n",
      "https://media.cnn.com/api/v1/images/stellar/prod/240606103329-ls-hunter-biden-trial-060624.jpg?c=16x9&q=h_720,w_1280,c_fill\n",
      "<img alt=\"Steve Bannon arrives at the federal courthouse in Washington, DC, on June 6. \\\\\" class=\"image__dam-img image__dam-img--loading\" height=\"1600\" onerror=\"imageLoadError(this)\" onload=\"this.classList.remove('image__dam-img--loading')\" src=\"https://media.cnn.com/api/v1/images/stellar/prod/c-gettyimages-2155667726.jpg?c=16x9&amp;q=h_720,w_1280,c_fill\" width=\"2400\"/>\n",
      "https://media.cnn.com/api/v1/images/stellar/prod/c-gettyimages-2155667726.jpg?c=16x9&q=h_720,w_1280,c_fill\n",
      "<img alt=\"CNN_Headlines_Logo(red)_1000x1000.png\" class=\"image__dam-img image__dam-img--loading\" height=\"1000\" onerror=\"imageLoadError(this)\" onload=\"this.classList.remove('image__dam-img--loading')\" src=\"https://media.cnn.com/api/v1/images/stellar/prod/cnn-headlines-logo-red-1000x1000.png?c=16x9&amp;q=w_1280,c_fill\" width=\"1000\"/>\n",
      "https://media.cnn.com/api/v1/images/stellar/prod/cnn-headlines-logo-red-1000x1000.png?c=16x9&q=w_1280,c_fill\n",
      "<img alt=\"Black woman putting chewing gum in mouth, fresh flavor, healthy teeth, macro\" class=\"image__dam-img image__dam-img--loading\" height=\"1125\" onerror=\"imageLoadError(this)\" onload=\"this.classList.remove('image__dam-img--loading')\" src=\"https://media.cnn.com/api/v1/images/stellar/prod/gettyimages-1386469121-restricted.jpg?c=16x9&amp;q=h_438,w_780,c_fill\" width=\"2000\"/>\n",
      "https://media.cnn.com/api/v1/images/stellar/prod/gettyimages-1386469121-restricted.jpg?c=16x9&q=h_438,w_780,c_fill\n",
      "<img alt=\"BJ Thompson of the Kansas City Chiefs walks off the field during a game against the Arizona Cardinals at State Farm Stadium on August 19, 2023 in Glendale, Arizona. \" class=\"image__dam-img image__dam-img--loading\" height=\"1067\" onerror=\"imageLoadError(this)\" onload=\"this.classList.remove('image__dam-img--loading')\" src=\"https://media.cnn.com/api/v1/images/stellar/prod/c-gettyimages-1986210946.jpg?c=16x9&amp;q=h_438,w_780,c_fill\" width=\"1600\"/>\n",
      "https://media.cnn.com/api/v1/images/stellar/prod/c-gettyimages-1986210946.jpg?c=16x9&q=h_438,w_780,c_fill\n",
      "<img alt=\"The Assignment with Audie Cornish - Wide\" class=\"image__dam-img image__dam-img--loading\" height=\"900\" onerror=\"imageLoadError(this)\" onload=\"this.classList.remove('image__dam-img--loading')\" src=\"https://media.cnn.com/api/v1/images/cnn/audio/podcast-series/the-assignment/wide.jpg?c=16x9&amp;q=h_144,w_256,c_fill\" width=\"1600\"/>\n",
      "https://media.cnn.com/api/v1/images/cnn/audio/podcast-series/the-assignment/wide.jpg?c=16x9&q=h_144,w_256,c_fill\n",
      "<img alt=\"Chasing Life\" class=\"image__dam-img image__dam-img--loading\" height=\"900\" onerror=\"imageLoadError(this)\" onload=\"this.classList.remove('image__dam-img--loading')\" src=\"https://media.cnn.com/api/v1/images/stellar/prod/220117114414-chasing-life-season-3-podcast-graphic.jpg?c=16x9&amp;q=h_144,w_256,c_fill\" width=\"1600\"/>\n",
      "https://media.cnn.com/api/v1/images/stellar/prod/220117114414-chasing-life-season-3-podcast-graphic.jpg?c=16x9&q=h_144,w_256,c_fill\n",
      "<img alt=\"Israeli airstrike on a UN-run school in the Nuseirat refugee camp in central Gaza has killed at least 45.\" class=\"image__dam-img image__dam-img--loading\" height=\"900\" onerror=\"imageLoadError(this)\" onload=\"this.classList.remove('image__dam-img--loading')\" src=\"https://media.cnn.com/api/v1/images/stellar/prod/still-20687884-20346-still.jpg?c=16x9&amp;q=h_438,w_780,c_fill\" width=\"1600\"/>\n",
      "https://media.cnn.com/api/v1/images/stellar/prod/still-20687884-20346-still.jpg?c=16x9&q=h_438,w_780,c_fill\n",
      "<img alt='Matt Smith in \"House of the Dragon,\" season 2.' class=\"image__dam-img image__dam-img--loading\" height=\"1280\" onerror=\"imageLoadError(this)\" onload=\"this.classList.remove('image__dam-img--loading')\" src=\"https://media.cnn.com/api/v1/images/stellar/prod/matt-smith.jpg?c=16x9&amp;q=h_438,w_780,c_fill\" width=\"1920\"/>\n",
      "https://media.cnn.com/api/v1/images/stellar/prod/matt-smith.jpg?c=16x9&q=h_438,w_780,c_fill\n",
      "<img alt=\"Heightened debt levels and interest rates mean that consumers are spending more on interest payments, with less left for goods and services, write Dana M. Peterson and Stephanie Guichard.\" class=\"image__dam-img image__dam-img--loading\" height=\"1600\" onerror=\"imageLoadError(this)\" onload=\"this.classList.remove('image__dam-img--loading')\" src=\"https://media.cnn.com/api/v1/images/stellar/prod/gettyimages-2153880411.jpg?c=16x9&amp;q=h_438,w_780,c_fill\" width=\"2844\"/>\n",
      "https://media.cnn.com/api/v1/images/stellar/prod/gettyimages-2153880411.jpg?c=16x9&q=h_438,w_780,c_fill\n",
      "<img alt=\"RIP Singing Beagle 1.jpg\" class=\"image__dam-img image__dam-img--loading\" height=\"1080\" onerror=\"imageLoadError(this)\" onload=\"this.classList.remove('image__dam-img--loading')\" src=\"https://media.cnn.com/api/v1/images/stellar/prod/rip-singing-beagle-1.jpg?c=16x9&amp;q=h_438,w_780,c_fill\" width=\"1920\"/>\n",
      "https://media.cnn.com/api/v1/images/stellar/prod/rip-singing-beagle-1.jpg?c=16x9&q=h_438,w_780,c_fill\n",
      "<img alt=\"M5D45N A view of the village of Sambuca di Sicilia, Italy. Sambuca di Sicilia is a municipality in the Province of Agrigento in the Italian region Sicily, lo\" class=\"image__dam-img image__dam-img--loading\" height=\"1234\" onerror=\"imageLoadError(this)\" onload=\"this.classList.remove('image__dam-img--loading')\" src=\"https://media.cnn.com/api/v1/images/stellar/prod/m5d45n.jpg?c=16x9&amp;q=h_438,w_780,c_fill\" width=\"1850\"/>\n",
      "https://media.cnn.com/api/v1/images/stellar/prod/m5d45n.jpg?c=16x9&q=h_438,w_780,c_fill\n",
      "<img alt='The exterior of a Red Lobster restaurant on May 20, 2024 in Austin, Texas. Red Lobster has filed for Chapter 11 bankruptcy protection after a failed lease-back agreement and \"endless shrimp\" promotion backfired against company revenue.' class=\"image__dam-img image__dam-img--loading\" height=\"1331\" onerror=\"imageLoadError(this)\" onload=\"this.classList.remove('image__dam-img--loading')\" src=\"https://media.cnn.com/api/v1/images/stellar/prod/gettyimages-2153879235.jpg?c=16x9&amp;q=h_438,w_780,c_fill\" width=\"2000\"/>\n",
      "https://media.cnn.com/api/v1/images/stellar/prod/gettyimages-2153879235.jpg?c=16x9&q=h_438,w_780,c_fill\n",
      "<img alt=\"macbook air 15 review cnnu 11\" class=\"image__dam-img image__dam-img--loading\" height=\"1239\" onerror=\"imageLoadError(this)\" onload=\"this.classList.remove('image__dam-img--loading')\" src=\"https://media.cnn.com/api/v1/images/stellar/prod/img-2059-1.jpg?c=16x9&amp;q=h_438,w_780,c_fill\" width=\"2202\"/>\n",
      "https://media.cnn.com/api/v1/images/stellar/prod/img-2059-1.jpg?c=16x9&q=h_438,w_780,c_fill\n",
      "<img alt=\"Editors-favorite-summer-dresses-cnnu-05.jpg\" class=\"image__dam-img image__dam-img--loading\" height=\"1080\" onerror=\"imageLoadError(this)\" onload=\"this.classList.remove('image__dam-img--loading')\" src=\"https://media.cnn.com/api/v1/images/stellar/prod/editors-favorite-summer-dresses-cnnu-05.jpg?c=16x9&amp;q=h_438,w_780,c_fill\" width=\"1920\"/>\n",
      "https://media.cnn.com/api/v1/images/stellar/prod/editors-favorite-summer-dresses-cnnu-05.jpg?c=16x9&q=h_438,w_780,c_fill\n",
      "<img alt=\"best-budget-hiking-gear-lead-1-cnnu.jpg\" class=\"image__dam-img image__dam-img--loading\" height=\"2268\" onerror=\"imageLoadError(this)\" onload=\"this.classList.remove('image__dam-img--loading')\" src=\"https://media.cnn.com/api/v1/images/stellar/prod/best-budget-hiking-gear-lead-1-cnnu.jpg?c=16x9&amp;q=h_438,w_780,c_fill\" width=\"4032\"/>\n",
      "https://media.cnn.com/api/v1/images/stellar/prod/best-budget-hiking-gear-lead-1-cnnu.jpg?c=16x9&q=h_438,w_780,c_fill\n",
      "<img alt=\"From pies to margaritas, cherries add the perfect pop of flavor to a variety of dishes.\" class=\"image__dam-img image__dam-img--loading\" height=\"1348\" onerror=\"imageLoadError(this)\" onload=\"this.classList.remove('image__dam-img--loading')\" src=\"https://media.cnn.com/api/v1/images/stellar/prod/fn-sweet-side-of-life-maraschino-cherries-food-network.jpeg?c=16x9&amp;q=h_438,w_780,c_fill\" width=\"1797\"/>\n",
      "https://media.cnn.com/api/v1/images/stellar/prod/fn-sweet-side-of-life-maraschino-cherries-food-network.jpeg?c=16x9&q=h_438,w_780,c_fill\n",
      "<img alt=\"FN_GettyImages-1404018190_s4x3.jpeg\" class=\"image__dam-img image__dam-img--loading\" height=\"1500\" onerror=\"imageLoadError(this)\" onload=\"this.classList.remove('image__dam-img--loading')\" src=\"https://media.cnn.com/api/v1/images/stellar/prod/fn-getty-images-1404018190-food-network.jpeg?c=16x9&amp;q=h_438,w_780,c_fill\" width=\"2000\"/>\n",
      "https://media.cnn.com/api/v1/images/stellar/prod/fn-getty-images-1404018190-food-network.jpeg?c=16x9&q=h_438,w_780,c_fill\n",
      "<img alt=\"Original_BPF_Pool-Noodle-Fun_Marshmallow-Launcher.jpeg\" class=\"image__dam-img image__dam-img--loading\" height=\"3813\" onerror=\"imageLoadError(this)\" onload=\"this.classList.remove('image__dam-img--loading')\" src=\"https://media.cnn.com/api/v1/images/stellar/prod/original-bpf-pool-noodle-fun-marshmallow-launcher-hgtv.jpeg?c=16x9&amp;q=h_438,w_780,c_fill\" width=\"5720\"/>\n",
      "https://media.cnn.com/api/v1/images/stellar/prod/original-bpf-pool-noodle-fun-marshmallow-launcher-hgtv.jpeg?c=16x9&q=h_438,w_780,c_fill\n",
      "<img alt=\"Heightened debt levels and interest rates mean that consumers are spending more on interest payments, with less left for goods and services, write Dana M. Peterson and Stephanie Guichard.\" class=\"image__dam-img image__dam-img--loading\" height=\"1600\" onerror=\"imageLoadError(this)\" onload=\"this.classList.remove('image__dam-img--loading')\" src=\"https://media.cnn.com/api/v1/images/stellar/prod/gettyimages-2153880411.jpg?c=16x9&amp;q=h_438,w_780,c_fill\" width=\"2844\"/>\n",
      "https://media.cnn.com/api/v1/images/stellar/prod/gettyimages-2153880411.jpg?c=16x9&q=h_438,w_780,c_fill\n",
      "<img alt='Shailene Woodley, Reese Witherspoon and Nicole Kidman in \"Big Little Lies\" season 1.' class=\"image__dam-img image__dam-img--loading\" height=\"675\" onerror=\"imageLoadError(this)\" onload=\"this.classList.remove('image__dam-img--loading')\" src=\"https://media.cnn.com/api/v1/images/stellar/prod/170331103343-big-little-lies.jpg?c=16x9&amp;q=h_438,w_780,c_fill\" width=\"1200\"/>\n",
      "https://media.cnn.com/api/v1/images/stellar/prod/170331103343-big-little-lies.jpg?c=16x9&q=h_438,w_780,c_fill\n",
      "<img alt=\"220623084729-04-airplane-crew-sleeping-quarters.jpg\" class=\"image__dam-img image__dam-img--loading\" height=\"1065\" onerror=\"imageLoadError(this)\" onload=\"this.classList.remove('image__dam-img--loading')\" src=\"https://media.cnn.com/api/v1/images/stellar/prod/220623084729-04-airplane-crew-sleeping-quarters-20240604152227183.jpg?c=16x9&amp;q=h_438,w_780,c_fill\" width=\"1600\"/>\n",
      "https://media.cnn.com/api/v1/images/stellar/prod/220623084729-04-airplane-crew-sleeping-quarters-20240604152227183.jpg?c=16x9&q=h_438,w_780,c_fill\n",
      "<img alt=\"Fashion designer Virginie Viard walks the runway during the Chanel Cruise 2024-2025 show on May 2, 2024 in Marseille, France.\" class=\"image__dam-img image__dam-img--loading\" height=\"1066\" onerror=\"imageLoadError(this)\" onload=\"this.classList.remove('image__dam-img--loading')\" src=\"https://media.cnn.com/api/v1/images/stellar/prod/gettyimages-2151124713.jpg?c=16x9&amp;q=h_438,w_780,c_fill\" width=\"1600\"/>\n",
      "https://media.cnn.com/api/v1/images/stellar/prod/gettyimages-2151124713.jpg?c=16x9&q=h_438,w_780,c_fill\n",
      "<img alt=\"Black woman putting chewing gum in mouth, fresh flavor, healthy teeth, macro\" class=\"image__dam-img image__dam-img--loading\" height=\"1125\" onerror=\"imageLoadError(this)\" onload=\"this.classList.remove('image__dam-img--loading')\" src=\"https://media.cnn.com/api/v1/images/stellar/prod/gettyimages-1386469121-restricted.jpg?c=16x9&amp;q=h_438,w_780,c_fill\" width=\"2000\"/>\n",
      "https://media.cnn.com/api/v1/images/stellar/prod/gettyimages-1386469121-restricted.jpg?c=16x9&q=h_438,w_780,c_fill\n",
      "<img alt=\"A drone view shows the Institute of Epidemiological Diagnosis and Reference after the World Health Organization said a person's death was caused by the first laboratory-confirmed human case of infection with the A(H5N2) subtype of bird flu reported globally, and the first human infection with the H5 strain of the virus reported in Mexico, in Mexico City, Mexico June 5, 2024. REUTERS/Daniel Becerril\" class=\"image__dam-img image__dam-img--loading\" height=\"1060\" onerror=\"imageLoadError(this)\" onload=\"this.classList.remove('image__dam-img--loading')\" src=\"https://media.cnn.com/api/v1/images/stellar/prod/2024-06-05t231830z-2103007155-rc2258azl424-rtrmadp-3-health-birdflu-mexico.JPG?c=16x9&amp;q=h_438,w_780,c_fill\" width=\"1600\"/>\n",
      "https://media.cnn.com/api/v1/images/stellar/prod/2024-06-05t231830z-2103007155-rc2258azl424-rtrmadp-3-health-birdflu-mexico.JPG?c=16x9&q=h_438,w_780,c_fill\n",
      "<img alt=\"Former President and Republican presidential candidate Donald Trump speaks at a dinner with members of the group Conserve the Culture at his Mar-a-Lago estate, Wednesday, June 5, 2024, in Palm Beach, Fla. (AP Photo/Wilfredo Lee)\" class=\"image__dam-img image__dam-img--loading\" height=\"1067\" onerror=\"imageLoadError(this)\" onload=\"this.classList.remove('image__dam-img--loading')\" src=\"https://media.cnn.com/api/v1/images/stellar/prod/ap24158071989320.jpg?c=16x9&amp;q=h_438,w_780,c_fill\" width=\"1600\"/>\n",
      "https://media.cnn.com/api/v1/images/stellar/prod/ap24158071989320.jpg?c=16x9&q=h_438,w_780,c_fill\n",
      "<img alt=\"Alleged Gilgo serial killer Rex Heuermann appears with his attorney Michael Brown at Suffolk County Court in Riverhead, New York on January 16, 2024.\" class=\"image__dam-img image__dam-img--loading\" height=\"1600\" onerror=\"imageLoadError(this)\" onload=\"this.classList.remove('image__dam-img--loading')\" src=\"https://media.cnn.com/api/v1/images/stellar/prod/gettyimages-1930419437.jpg?c=16x9&amp;q=h_438,w_780,c_fill\" width=\"2413\"/>\n",
      "https://media.cnn.com/api/v1/images/stellar/prod/gettyimages-1930419437.jpg?c=16x9&q=h_438,w_780,c_fill\n",
      "<img alt=\"The Assignment with Audie Cornish\" class=\"image__dam-img image__dam-img--loading\" height=\"900\" onerror=\"imageLoadError(this)\" onload=\"this.classList.remove('image__dam-img--loading')\" src=\"https://media.cnn.com/api/v1/images/stellar/prod/221117142556-the-assignment-with-audie-cornish.jpg?c=16x9&amp;q=h_438,w_780,c_fill\" width=\"1600\"/>\n",
      "https://media.cnn.com/api/v1/images/stellar/prod/221117142556-the-assignment-with-audie-cornish.jpg?c=16x9&q=h_438,w_780,c_fill\n",
      "<img alt=\"AXE Files 22 1600x900\" class=\"image__dam-img image__dam-img--loading\" height=\"900\" onerror=\"imageLoadError(this)\" onload=\"this.classList.remove('image__dam-img--loading')\" src=\"https://media.cnn.com/api/v1/images/stellar/prod/221107094245-axe-files-22-1600x900.jpg?c=16x9&amp;q=h_438,w_780,c_fill\" width=\"1600\"/>\n",
      "https://media.cnn.com/api/v1/images/stellar/prod/221107094245-axe-files-22-1600x900.jpg?c=16x9&q=h_438,w_780,c_fill\n",
      "<img alt=\"Chasing Life\" class=\"image__dam-img image__dam-img--loading\" height=\"900\" onerror=\"imageLoadError(this)\" onload=\"this.classList.remove('image__dam-img--loading')\" src=\"https://media.cnn.com/api/v1/images/stellar/prod/220117114414-chasing-life-season-3-podcast-graphic.jpg?c=16x9&amp;q=h_438,w_780,c_fill\" width=\"1600\"/>\n",
      "https://media.cnn.com/api/v1/images/stellar/prod/220117114414-chasing-life-season-3-podcast-graphic.jpg?c=16x9&q=h_438,w_780,c_fill\n",
      "<img alt=\"Jaylen Brown of the Boston Celtics accepts the The Larry Bird Trophy, earning the Eastern Conference Finals MVP, after winning Game Four of the Eastern Conference Finals at Gainbridge Fieldhouse on May 27, 2024 in Indianapolis, Indiana.\" class=\"image__dam-img image__dam-img--loading\" height=\"1534\" onerror=\"imageLoadError(this)\" onload=\"this.classList.remove('image__dam-img--loading')\" src=\"https://media.cnn.com/api/v1/images/stellar/prod/gettyimages-2154947237.jpg?c=16x9&amp;q=h_438,w_780,c_fill\" width=\"2727\"/>\n",
      "https://media.cnn.com/api/v1/images/stellar/prod/gettyimages-2154947237.jpg?c=16x9&q=h_438,w_780,c_fill\n",
      "<img alt=\"LOS ANGELES, CA - NOVEMBER 22: Kyrie Irving #11 of the Dallas Mavericks and LeBron James #23 of the Los Angeles Lakers look on during the game on November 22, 2023 at Crypto.Com Arena in Los Angeles, California. NOTE TO USER: User expressly acknowledges and agrees that, by downloading and/or using this Photograph, user is consenting to the terms and conditions of the Getty Images License Agreement. Mandatory Copyright Notice: Copyright 2023 NBAE (Photo by Adam Pantozzi/NBAE via Getty Images)\" class=\"image__dam-img image__dam-img--loading\" height=\"1333\" onerror=\"imageLoadError(this)\" onload=\"this.classList.remove('image__dam-img--loading')\" src=\"https://media.cnn.com/api/v1/images/stellar/prod/gettyimages-1813808872-restricted.jpg?c=16x9&amp;q=h_438,w_780,c_fill\" width=\"2000\"/>\n",
      "https://media.cnn.com/api/v1/images/stellar/prod/gettyimages-1813808872-restricted.jpg?c=16x9&q=h_438,w_780,c_fill\n",
      "<img alt=\"LOS ANGELES, CALIFORNIA - NOVEMBER 24: Referee Scott Foster #48 looks on in the game between the Los Angeles Clippers and the New Orleans Pelicans during an NBA In-Season Tournament game at Crypto.com Arena on November 24, 2023 in Los Angeles, California. NOTE TO USER: User expressly acknowledges and agrees that, by downloading and or using this photograph, User is consenting to the terms and conditions of the Getty Images License Agreement.  (Photo by Katelyn Mulcahy/Getty Images)\" class=\"image__dam-img image__dam-img--loading\" height=\"1334\" onerror=\"imageLoadError(this)\" onload=\"this.classList.remove('image__dam-img--loading')\" src=\"https://media.cnn.com/api/v1/images/stellar/prod/gettyimages-1812904679-restricted.jpg?c=16x9&amp;q=h_438,w_780,c_fill\" width=\"2000\"/>\n",
      "https://media.cnn.com/api/v1/images/stellar/prod/gettyimages-1812904679-restricted.jpg?c=16x9&q=h_438,w_780,c_fill\n",
      "<img alt=\"NHL Stanley Cup Final predictions\" class=\"image__dam-img image__dam-img--loading\" height=\"1164\" onerror=\"imageLoadError(this)\" onload=\"this.classList.remove('image__dam-img--loading')\" src=\"https://media.cnn.com/api/v1/images/stellar/bleacherreport/fnlg8m3c5obgfye13gal.jpg?c=16x9&amp;q=h_438,w_780,c_fill\" width=\"1752\"/>\n",
      "https://media.cnn.com/api/v1/images/stellar/bleacherreport/fnlg8m3c5obgfye13gal.jpg?c=16x9&q=h_438,w_780,c_fill\n",
      "<img alt=\"&lt;p&gt;CNN's Nick Watt looks at how a drone made by the company BRINC hopes to become the future of law enforcement by arriving at the scene of emergencies to render help before first responders arrive.&lt;/p&gt;\" class=\"image__dam-img image__dam-img--loading\" height=\"1080\" onerror=\"imageLoadError(this)\" onload=\"this.classList.remove('image__dam-img--loading')\" src=\"https://media.cnn.com/api/v1/images/stellar/videothumbnails/57258669-94373259-generated-thumbnail.jpg?c=16x9&amp;q=h_270,w_480,c_fill\" width=\"1920\"/>\n",
      "https://media.cnn.com/api/v1/images/stellar/videothumbnails/57258669-94373259-generated-thumbnail.jpg?c=16x9&q=h_270,w_480,c_fill\n",
      "<img alt=\"A voice actor points to a TV showing an AI video presentation.\" class=\"image__dam-img image__dam-img--loading\" height=\"1080\" onerror=\"imageLoadError(this)\" onload=\"this.classList.remove('image__dam-img--loading')\" src=\"https://media.cnn.com/api/v1/images/stellar/prod/final-dig-00-03-18-00-still007.jpg?c=16x9&amp;q=h_270,w_480,c_fill\" width=\"1920\"/>\n",
      "https://media.cnn.com/api/v1/images/stellar/prod/final-dig-00-03-18-00-still007.jpg?c=16x9&q=h_270,w_480,c_fill\n",
      "<img alt=\"An inmate at Maryland's Correctional Institution for Women wears a virtual reality headset during job training.\" class=\"image__dam-img image__dam-img--loading\" height=\"958\" onerror=\"imageLoadError(this)\" onload=\"this.classList.remove('image__dam-img--loading')\" src=\"https://media.cnn.com/api/v1/images/stellar/prod/prison-vr-thumb-03.jpg?c=16x9&amp;q=h_270,w_480,c_fill\" width=\"1703\"/>\n",
      "https://media.cnn.com/api/v1/images/stellar/prod/prison-vr-thumb-03.jpg?c=16x9&q=h_270,w_480,c_fill\n",
      "<img alt=\"teen.jpg\" class=\"image__dam-img image__dam-img--loading\" height=\"1080\" onerror=\"imageLoadError(this)\" onload=\"this.classList.remove('image__dam-img--loading')\" src=\"https://media.cnn.com/api/v1/images/stellar/prod/teen.jpg?c=16x9&amp;q=h_270,w_480,c_fill\" width=\"1920\"/>\n",
      "https://media.cnn.com/api/v1/images/stellar/prod/teen.jpg?c=16x9&q=h_270,w_480,c_fill\n",
      "<img alt=\"Mitali, a 25-year-old transgender woman and resident of Garima Greh, photographed in her room on 4th December, 2023. She works at a petrol pump in the neighborhood where she often faces societal obstacles.\" class=\"image__dam-img image__dam-img--loading\" height=\"1678\" onerror=\"imageLoadError(this)\" onload=\"this.classList.remove('image__dam-img--loading')\" src=\"https://media.cnn.com/api/v1/images/stellar/prod/04-03-selects-3.JPG?c=16x9&amp;q=h_438,w_780,c_fill\" width=\"2500\"/>\n",
      "https://media.cnn.com/api/v1/images/stellar/prod/04-03-selects-3.JPG?c=16x9&q=h_438,w_780,c_fill\n",
      "<img alt=\"InfantCare_2.jpg\" class=\"image__dam-img image__dam-img--loading\" height=\"1080\" onerror=\"imageLoadError(this)\" onload=\"this.classList.remove('image__dam-img--loading')\" src=\"https://media.cnn.com/api/v1/images/stellar/prod/infantcare-2.jpg?c=16x9&amp;q=h_438,w_780,c_fill\" width=\"1920\"/>\n",
      "https://media.cnn.com/api/v1/images/stellar/prod/infantcare-2.jpg?c=16x9&q=h_438,w_780,c_fill\n",
      "<img alt=\"Hauwa Ishaya was 17 when she was kidnapped by Boko Haram. She endured three harrowing years in captivity.\" class=\"image__dam-img image__dam-img--loading\" height=\"1080\" onerror=\"imageLoadError(this)\" onload=\"this.classList.remove('image__dam-img--loading')\" src=\"https://media.cnn.com/api/v1/images/stellar/prod/20539548-cln-chibokvignettehauwa-00-00-16-29-still001.jpg?c=16x9&amp;q=h_438,w_780,c_fill\" width=\"1920\"/>\n",
      "https://media.cnn.com/api/v1/images/stellar/prod/20539548-cln-chibokvignettehauwa-00-00-16-29-still001.jpg?c=16x9&q=h_438,w_780,c_fill\n",
      "<img alt=\"GettyImages-626533873.jpg\" class=\"image__dam-img image__dam-img--loading\" height=\"1125\" onerror=\"imageLoadError(this)\" onload=\"this.classList.remove('image__dam-img--loading')\" src=\"https://media.cnn.com/api/v1/images/stellar/prod/gettyimages-626533873.jpg?c=16x9&amp;q=h_438,w_780,c_fill\" width=\"2000\"/>\n",
      "https://media.cnn.com/api/v1/images/stellar/prod/gettyimages-626533873.jpg?c=16x9&q=h_438,w_780,c_fill\n",
      "<img alt=\"BYD electric cars waiting to be loaded onto a ship.\" class=\"image__dam-img image__dam-img--loading\" height=\"1125\" onerror=\"imageLoadError(this)\" onload=\"this.classList.remove('image__dam-img--loading')\" src=\"https://media.cnn.com/api/v1/images/stellar/prod/gettyimages-1987112177.jpg?c=16x9&amp;q=h_438,w_780,c_fill\" width=\"2000\"/>\n",
      "https://media.cnn.com/api/v1/images/stellar/prod/gettyimages-1987112177.jpg?c=16x9&q=h_438,w_780,c_fill\n",
      "<img alt=\"GettyImages-1366754065.jpg\" class=\"image__dam-img image__dam-img--loading\" height=\"1333\" onerror=\"imageLoadError(this)\" onload=\"this.classList.remove('image__dam-img--loading')\" src=\"https://media.cnn.com/api/v1/images/stellar/prod/gettyimages-1366754065-20240529144852256.jpg?c=16x9&amp;q=h_438,w_780,c_fill\" width=\"2000\"/>\n",
      "https://media.cnn.com/api/v1/images/stellar/prod/gettyimages-1366754065-20240529144852256.jpg?c=16x9&q=h_438,w_780,c_fill\n",
      "<img alt=\"Former US President Donald Trump leaves the courthouse after a jury found him guilty of all 34 felony counts in his criminal trial at New York State Supreme Court in New York, New York, USA, 30 May 2024. Trump faced 34 felony counts of falsifying business records related to payments made to adult film star Stormy Daniels during his 2016 presidential campaign.     JUSTIN LANE/Pool via REUTERS\" class=\"image__dam-img image__dam-img--loading\" height=\"1667\" onerror=\"imageLoadError(this)\" onload=\"this.classList.remove('image__dam-img--loading')\" src=\"https://media.cnn.com/api/v1/images/stellar/prod/240530175222-02-trump-hush-money-gallery-verdit-0530.jpg?c=16x9&amp;q=h_438,w_780,c_fill\" width=\"2500\"/>\n",
      "https://media.cnn.com/api/v1/images/stellar/prod/240530175222-02-trump-hush-money-gallery-verdit-0530.jpg?c=16x9&q=h_438,w_780,c_fill\n",
      "<img alt=\"The Allied Forces stromed the beaches of Normandy, france on June 6, 1944.  Here American troops hit the water from one of the landing craft.  Soldiers on shore are lying flat under German machine gun fire. Robert F. Sargent, a Coast Guard photographer, took this view from a landing barge.\" class=\"image__dam-img image__dam-img--loading\" height=\"2137\" onerror=\"imageLoadError(this)\" onload=\"this.classList.remove('image__dam-img--loading')\" src=\"https://media.cnn.com/api/v1/images/stellar/prod/190508114252-01-d-day-crop.jpg?c=16x9&amp;q=h_438,w_780,c_fill\" width=\"3798\"/>\n",
      "https://media.cnn.com/api/v1/images/stellar/prod/190508114252-01-d-day-crop.jpg?c=16x9&q=h_438,w_780,c_fill\n",
      "<img alt='Adrain Hirschmueller of the environment organization Nature And Biodiversity Conservation Union, or NABU, shows the counting of beetles on a flower through a magnifying glass during a meeting with The Associated Press ahead of the start of the Citizen-Science-Projekts \" insect summer\" in central Berlin, Germany, Thursday, May 23, 2024. Set from May 31 to June 9 and Aug. 2 to Aug. 11, the environmental group has invited people to spend an hour counting the insects they see in a 10-meter radius (33-foot) radius and report what they see to NABU. (AP Photo/Markus Schreiber)' class=\"image__dam-img image__dam-img--loading\" height=\"2000\" onerror=\"imageLoadError(this)\" onload=\"this.classList.remove('image__dam-img--loading')\" src=\"https://media.cnn.com/api/v1/images/stellar/prod/240530162941-04-week-in-photos-053024.jpg?c=16x9&amp;q=h_438,w_780,c_fill\" width=\"3000\"/>\n",
      "https://media.cnn.com/api/v1/images/stellar/prod/240530162941-04-week-in-photos-053024.jpg?c=16x9&q=h_438,w_780,c_fill\n",
      "<img alt=\"02_Camo-36.JPG\" class=\"image__dam-img image__dam-img--loading\" height=\"4500\" onerror=\"imageLoadError(this)\" onload=\"this.classList.remove('image__dam-img--loading')\" src=\"https://media.cnn.com/api/v1/images/stellar/prod/02-camo-36.JPG?c=16x9&amp;q=h_438,w_780,c_fill\" width=\"3000\"/>\n",
      "https://media.cnn.com/api/v1/images/stellar/prod/02-camo-36.JPG?c=16x9&q=h_438,w_780,c_fill\n",
      "<img alt=\"The exterior of a Macy's department store is seen at the Landmark Mall on January 5, 2017, in Arlington, Virginia. - Investors hammered retailers early January 5, 2017 as US stocks opened near flat following reports of disappointing holiday sales from department stores Macy's and Kohl's. Macy's slumped 12.8 percent and Kohl's 17.2 after both reported lower sales in the critical November-December period. Macy's also said it plans to cut as many as 10,100 jobs in a response to the decline of shopping in stores due to the rise of e-commerce. (Photo by Andrew CABALLERO-REYNOLDS / AFP)        (Photo credit should read ANDREW CABALLERO-REYNOLDS/AFP/Getty Images)\" class=\"image__dam-img image__dam-img--loading\" height=\"2334\" onerror=\"imageLoadError(this)\" onload=\"this.classList.remove('image__dam-img--loading')\" src=\"https://media.cnn.com/api/v1/images/stellar/prod/190814185502-cnndinero-macys-081419-dinero-only.jpg?c=16x9&amp;q=h_270,w_480,c_fill\" width=\"3808\"/>\n",
      "https://media.cnn.com/api/v1/images/stellar/prod/190814185502-cnndinero-macys-081419-dinero-only.jpg?c=16x9&q=h_270,w_480,c_fill\n",
      "<img alt=\"Photo by: STRF/STAR MAX/IPx 2021 10/9/21 DoorDash delivery bike is seen in Manhattan.\" class=\"image__dam-img image__dam-img--loading\" height=\"2290\" onerror=\"imageLoadError(this)\" onload=\"this.classList.remove('image__dam-img--loading')\" src=\"https://media.cnn.com/api/v1/images/stellar/prod/230706193801-doordash-nyc-file-070623.jpg?c=16x9&amp;q=h_270,w_480,c_fill\" width=\"3000\"/>\n",
      "https://media.cnn.com/api/v1/images/stellar/prod/230706193801-doordash-nyc-file-070623.jpg?c=16x9&q=h_270,w_480,c_fill\n",
      "<img alt=\"The Walmart logo is seen outside a Walmart store in Burbank, California on August 15, 2022. - Walmart, the largest retailer the United States, will report second quarter earnings on August 16, 2022. (Photo by Robyn Beck / AFP) (Photo by ROBYN BECK/AFP via Getty Images)\" class=\"image__dam-img image__dam-img--loading\" height=\"2665\" onerror=\"imageLoadError(this)\" onload=\"this.classList.remove('image__dam-img--loading')\" src=\"https://media.cnn.com/api/v1/images/stellar/prod/220928123002-clix-waltmart-metaverso.jpg?c=16x9&amp;q=h_270,w_480,c_fill\" width=\"4000\"/>\n",
      "https://media.cnn.com/api/v1/images/stellar/prod/220928123002-clix-waltmart-metaverso.jpg?c=16x9&q=h_270,w_480,c_fill\n",
      "<img alt=\"Axon Body Workforce\" class=\"image__dam-img image__dam-img--loading\" height=\"1334\" onerror=\"imageLoadError(this)\" onload=\"this.classList.remove('image__dam-img--loading')\" src=\"https://media.cnn.com/api/v1/images/stellar/prod/axon-body-workforce-launch.jpg?c=16x9&amp;q=h_438,w_780,c_fill\" width=\"2000\"/>\n",
      "https://media.cnn.com/api/v1/images/stellar/prod/axon-body-workforce-launch.jpg?c=16x9&q=h_438,w_780,c_fill\n"
     ]
    }
   ],
   "source": [
    "# Scrape all image tags\n",
    "for link in soup2.find_all('img'):\n",
    "    print(link)\n",
    "    print(link.get('src'))"
   ]
  },
  {
   "cell_type": "markdown",
   "metadata": {},
   "source": []
  }
 ],
 "metadata": {
  "kernelspec": {
   "display_name": "base",
   "language": "python",
   "name": "python3"
  },
  "language_info": {
   "codemirror_mode": {
    "name": "ipython",
    "version": 3
   },
   "file_extension": ".py",
   "mimetype": "text/x-python",
   "name": "python",
   "nbconvert_exporter": "python",
   "pygments_lexer": "ipython3",
   "version": "3.10.9"
  }
 },
 "nbformat": 4,
 "nbformat_minor": 2
}
