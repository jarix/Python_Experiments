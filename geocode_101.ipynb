{
 "cells": [
  {
   "cell_type": "markdown",
   "id": "7f40c78d",
   "metadata": {},
   "source": [
    "# Geocoding 101"
   ]
  },
  {
   "cell_type": "code",
   "execution_count": 3,
   "id": "457db149",
   "metadata": {},
   "outputs": [],
   "source": [
    "# with anaconda: conda install -c conda-forge geopy\n",
    "from geopy.geocoders import ArcGIS\n",
    "nom = ArcGIS()"
   ]
  },
  {
   "cell_type": "code",
   "execution_count": 5,
   "id": "09d782f2",
   "metadata": {},
   "outputs": [
    {
     "data": {
      "text/plain": [
       "Location(6244 185th Ave NE, Redmond, Washington, 98052, (47.66243000871614, -122.0924770283012, 0.0))"
      ]
     },
     "execution_count": 5,
     "metadata": {},
     "output_type": "execute_result"
    }
   ],
   "source": [
    "n = nom.geocode(\"6244 185th Ave NE, Redmond, WA\")\n",
    "n"
   ]
  },
  {
   "cell_type": "code",
   "execution_count": 6,
   "id": "a840b3a2",
   "metadata": {},
   "outputs": [
    {
     "data": {
      "text/plain": [
       "geopy.location.Location"
      ]
     },
     "execution_count": 6,
     "metadata": {},
     "output_type": "execute_result"
    }
   ],
   "source": [
    "type(n)"
   ]
  },
  {
   "cell_type": "code",
   "execution_count": 9,
   "id": "ac78acd5",
   "metadata": {},
   "outputs": [
    {
     "data": {
      "text/plain": [
       "47.66243000871614"
      ]
     },
     "execution_count": 9,
     "metadata": {},
     "output_type": "execute_result"
    }
   ],
   "source": [
    "n.latitude"
   ]
  },
  {
   "cell_type": "code",
   "execution_count": 8,
   "id": "dda2b787",
   "metadata": {},
   "outputs": [
    {
     "data": {
      "text/plain": [
       "-122.0924770283012"
      ]
     },
     "execution_count": 8,
     "metadata": {},
     "output_type": "execute_result"
    }
   ],
   "source": [
    "n.longitude"
   ]
  },
  {
   "cell_type": "code",
   "execution_count": 11,
   "id": "29a93e77",
   "metadata": {},
   "outputs": [
    {
     "data": {
      "text/plain": [
       "'6244 185th Ave NE, Redmond, Washington, 98052'"
      ]
     },
     "execution_count": 11,
     "metadata": {},
     "output_type": "execute_result"
    }
   ],
   "source": [
    "n.address"
   ]
  },
  {
   "cell_type": "code",
   "execution_count": null,
   "id": "18470699",
   "metadata": {},
   "outputs": [],
   "source": []
  }
 ],
 "metadata": {
  "kernelspec": {
   "display_name": "Python 3 (ipykernel)",
   "language": "python",
   "name": "python3"
  },
  "language_info": {
   "codemirror_mode": {
    "name": "ipython",
    "version": 3
   },
   "file_extension": ".py",
   "mimetype": "text/x-python",
   "name": "python",
   "nbconvert_exporter": "python",
   "pygments_lexer": "ipython3",
   "version": "3.8.5"
  }
 },
 "nbformat": 4,
 "nbformat_minor": 5
}
