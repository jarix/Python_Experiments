{
 "metadata": {
  "language_info": {
   "codemirror_mode": {
    "name": "ipython",
    "version": 3
   },
   "file_extension": ".py",
   "mimetype": "text/x-python",
   "name": "python",
   "nbconvert_exporter": "python",
   "pygments_lexer": "ipython3",
   "version": "3.8.3-final"
  },
  "orig_nbformat": 2,
  "kernelspec": {
   "name": "python_defaultSpec_1600359158061",
   "display_name": "Python 3.8.3 64-bit ('opencv': conda)"
  }
 },
 "nbformat": 4,
 "nbformat_minor": 2,
 "cells": [
  {
   "source": [
    "# Python string formatting 101\n",
    "\n",
    "Author: Jari Honkanen"
   ],
   "cell_type": "markdown",
   "metadata": {}
  },
  {
   "source": [
    "## Legacy C-style %-formatting"
   ],
   "cell_type": "markdown",
   "metadata": {}
  },
  {
   "cell_type": "code",
   "execution_count": 21,
   "metadata": {
    "tags": []
   },
   "outputs": [
    {
     "output_type": "stream",
     "name": "stdout",
     "text": "Hello John\nName: John, Age: 21, Points: 15.600000\n"
    }
   ],
   "source": [
    "name = \"John\"\n",
    "age = 21\n",
    "points = 15.6\n",
    "print(\"Hello %s\" % name) \n",
    "\n",
    "# with multiple values\n",
    "print(\"Name: %s, Age: %d, Points: %f\" % (name, age, points))"
   ]
  },
  {
   "source": [
    "## .format() style"
   ],
   "cell_type": "markdown",
   "metadata": {}
  },
  {
   "cell_type": "code",
   "execution_count": 22,
   "metadata": {
    "tags": []
   },
   "outputs": [
    {
     "output_type": "stream",
     "name": "stdout",
     "text": "Name: Jane, Age: 25, Points: 26.6789\nName: Jane, Age: 25, Points: 26.6789\n"
    }
   ],
   "source": [
    "name = \"Jane\"\n",
    "age = 25\n",
    "points = 26.6789\n",
    "\n",
    "print(\"Name: {}, Age: {}, Points: {}\".format(name, age, points))\n",
    "\n",
    "# Explicit reference with indexes (at any order)\n",
    "print(\"Name: {1}, Age: {2}, Points: {0}\".format(points, name, age))\n"
   ]
  },
  {
   "source": [
    "## f-strings in Python 3"
   ],
   "cell_type": "markdown",
   "metadata": {}
  },
  {
   "cell_type": "code",
   "execution_count": 23,
   "metadata": {
    "tags": []
   },
   "outputs": [
    {
     "output_type": "stream",
     "name": "stdout",
     "text": "Name: John, Age: 21, Points: 15.6\n"
    }
   ],
   "source": [
    "name = \"John\"\n",
    "age = 21\n",
    "points = 15.6\n",
    "print(f\"Name: {name}, Age: {age}, Points: {points}\")"
   ]
  },
  {
   "cell_type": "code",
   "execution_count": 24,
   "metadata": {
    "tags": []
   },
   "outputs": [
    {
     "output_type": "stream",
     "name": "stdout",
     "text": "Multiplier: 327.59999999999997\n"
    }
   ],
   "source": [
    "# with expressions\n",
    "print(f\"Multiplier: {age*points}\")"
   ]
  },
  {
   "cell_type": "code",
   "execution_count": 25,
   "metadata": {
    "tags": []
   },
   "outputs": [
    {
     "output_type": "stream",
     "name": "stdout",
     "text": "Lower case name: john\n"
    }
   ],
   "source": [
    "# with functions\n",
    "print(f\"Lower case name: {name.lower()}\")"
   ]
  },
  {
   "cell_type": "code",
   "execution_count": 26,
   "metadata": {
    "tags": []
   },
   "outputs": [
    {
     "output_type": "stream",
     "name": "stdout",
     "text": "Name: John, Age: 21, Points: 15.6\n"
    }
   ],
   "source": [
    "# Multiline\n",
    "msg = (\n",
    "    f\"Name: {name}, \"\n",
    "    f\"Age: {age}, \"\n",
    "    f\"Points: {points}\"\n",
    ")\n",
    "print(msg)"
   ]
  },
  {
   "source": [
    "# f-string text alignment\n",
    "print(f\"{'Left aligned' : <30}\",\".\")\n",
    "print(f\"{'Center aligned' : ^30}\",\".\")\n",
    "print(f\"{'Right aligned' : >30}\",\".\")\n"
   ],
   "cell_type": "code",
   "metadata": {
    "tags": []
   },
   "execution_count": 27,
   "outputs": [
    {
     "output_type": "stream",
     "name": "stdout",
     "text": "Left aligned                   .\n        Center aligned         .\n                 Right aligned .\n"
    }
   ]
  },
  {
   "cell_type": "code",
   "execution_count": null,
   "metadata": {},
   "outputs": [],
   "source": []
  }
 ]
}