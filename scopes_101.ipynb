{
 "cells": [
  {
   "cell_type": "markdown",
   "metadata": {},
   "source": [
    "# Python Scopes 101"
   ]
  },
  {
   "cell_type": "markdown",
   "metadata": {},
   "source": [
    "## Local Scope"
   ]
  },
  {
   "cell_type": "code",
   "execution_count": 1,
   "metadata": {},
   "outputs": [
    {
     "name": "stdout",
     "output_type": "stream",
     "text": [
      "inside foo(): i = 3\n",
      "i not accessible outside foo()\n"
     ]
    }
   ],
   "source": [
    "# Variable created inside a function is only accessible within the function\n",
    "\n",
    "def foo():\n",
    "    i = 3\n",
    "    print(f\"inside foo(): i = {i}\")\n",
    "\n",
    "foo()\n",
    "try:\n",
    "    print(i)\n",
    "except:\n",
    "    print(\"i not accessible outside foo()\")"
   ]
  },
  {
   "cell_type": "markdown",
   "metadata": {},
   "source": [
    "## Function inside function (Enclosing Scope)"
   ]
  },
  {
   "cell_type": "code",
   "execution_count": 2,
   "metadata": {},
   "outputs": [
    {
     "name": "stdout",
     "output_type": "stream",
     "text": [
      "inside foobar(): i = 3\n"
     ]
    }
   ],
   "source": [
    "# A local variable can be accessed from a function within a function\n",
    "def foo():\n",
    "    i = 3\n",
    "    def foobar():\n",
    "        print(f\"inside foobar(): i = {i}\")\n",
    "    foobar()\n",
    "\n",
    "foo()"
   ]
  },
  {
   "cell_type": "markdown",
   "metadata": {},
   "source": [
    "## Global scope"
   ]
  },
  {
   "cell_type": "code",
   "execution_count": 3,
   "metadata": {},
   "outputs": [
    {
     "name": "stdout",
     "output_type": "stream",
     "text": [
      "inside foo(): i = 4\n",
      "in global scope: i = 4\n"
     ]
    }
   ],
   "source": [
    "# Variables outside functions are global and can be used anywhere\n",
    "\n",
    "i = 4\n",
    "def foo():\n",
    "    print(f\"inside foo(): i = {i}\")\n",
    "\n",
    "foo()\n",
    "print(f\"in global scope: i = {i}\")\n"
   ]
  },
  {
   "cell_type": "markdown",
   "metadata": {},
   "source": [
    "## global keword"
   ]
  },
  {
   "cell_type": "code",
   "execution_count": 4,
   "metadata": {},
   "outputs": [
    {
     "name": "stdout",
     "output_type": "stream",
     "text": [
      "inside foo(): i = 5\n",
      "in global scope: i = 5\n"
     ]
    }
   ],
   "source": [
    "# global keyword inside function promotes the variable to global scope\n",
    "def foo():\n",
    "    global i\n",
    "    i = 5\n",
    "    print(f\"inside foo(): i = {i}\")\n",
    "\n",
    "foo()\n",
    "print(f\"in global scope: i = {i}\")"
   ]
  },
  {
   "cell_type": "code",
   "execution_count": 5,
   "metadata": {},
   "outputs": [
    {
     "name": "stdout",
     "output_type": "stream",
     "text": [
      "inside foo(): i = 101\n",
      "in global scope: i = 100\n"
     ]
    }
   ],
   "source": [
    "# Local variable with the same name inside function will be different than global variable\n",
    "i = 100\n",
    "\n",
    "def foo():\n",
    "    i = 101\n",
    "    print(f\"inside foo(): i = {i}\")\n",
    "\n",
    "foo()\n",
    "print(f\"in global scope: i = {i}\")"
   ]
  },
  {
   "cell_type": "code",
   "execution_count": 6,
   "metadata": {},
   "outputs": [
    {
     "name": "stdout",
     "output_type": "stream",
     "text": [
      "inside foo(): i = 101\n",
      "in global scope: i = 101\n"
     ]
    }
   ],
   "source": [
    "# to change global variable inside function, use global keyword\n",
    "i = 100\n",
    "\n",
    "def foo():\n",
    "    global i\n",
    "    i = 101\n",
    "    print(f\"inside foo(): i = {i}\")\n",
    "\n",
    "foo()\n",
    "print(f\"in global scope: i = {i}\")"
   ]
  },
  {
   "cell_type": "markdown",
   "metadata": {},
   "source": [
    "## global vs. nonlocal (enclosing function scope)"
   ]
  },
  {
   "cell_type": "code",
   "execution_count": 9,
   "metadata": {},
   "outputs": [
    {
     "name": "stdout",
     "output_type": "stream",
     "text": [
      "From local scope:  Hello, local!\n",
      "After local: Hello, world!\n",
      "After promoting to nonlocal: Hello, non local!\n",
      "After promoting to global: Hello, non local!\n",
      "From global scope: Hello, global!\n"
     ]
    }
   ],
   "source": [
    "\n",
    "def print_msg_in_scope():\n",
    "\n",
    "    def local_scope():\n",
    "        msg = \"Hello, local!\"\n",
    "        print(\"From local scope: \", msg)\n",
    "\n",
    "    def nonlocal_scope():\n",
    "        nonlocal msg\n",
    "        msg = \"Hello, non local!\"\n",
    "\n",
    "    def global_scope():\n",
    "        global msg\n",
    "        msg = \"Hello, global!\"\n",
    "\n",
    "\n",
    "    msg = \"Hello, world!\"\n",
    "\n",
    "    local_scope()\n",
    "    print(\"After local:\", msg)\n",
    "    \n",
    "    nonlocal_scope()\n",
    "    print(\"After promoting to nonlocal:\", msg)\n",
    "\n",
    "    global_scope()\n",
    "    print(\"After promoting to global:\", msg)\n",
    "\n",
    "\n",
    "print_msg_in_scope()\n",
    "print(\"From global scope:\", msg)"
   ]
  },
  {
   "cell_type": "code",
   "execution_count": null,
   "metadata": {},
   "outputs": [],
   "source": []
  }
 ],
 "metadata": {
  "kernelspec": {
   "display_name": "Python 3.8.3 64-bit ('opencv': conda)",
   "metadata": {
    "interpreter": {
     "hash": "de19c28a912f6af4a379899c5cfabe7b0c19dafff53afcaae277343cca151e26"
    }
   },
   "name": "python3"
  },
  "language_info": {
   "codemirror_mode": {
    "name": "ipython",
    "version": 3
   },
   "file_extension": ".py",
   "mimetype": "text/x-python",
   "name": "python",
   "nbconvert_exporter": "python",
   "pygments_lexer": "ipython3",
   "version": "3.11.9"
  },
  "orig_nbformat": 2
 },
 "nbformat": 4,
 "nbformat_minor": 2
}
