{
 "metadata": {
  "language_info": {
   "codemirror_mode": {
    "name": "ipython",
    "version": 3
   },
   "file_extension": ".py",
   "mimetype": "text/x-python",
   "name": "python",
   "nbconvert_exporter": "python",
   "pygments_lexer": "ipython3",
   "version": "3.8.3-final"
  },
  "orig_nbformat": 2,
  "kernelspec": {
   "name": "Python 3.8.3 64-bit",
   "display_name": "Python 3.8.3 64-bit",
   "metadata": {
    "interpreter": {
     "hash": "de19c28a912f6af4a379899c5cfabe7b0c19dafff53afcaae277343cca151e26"
    }
   }
  }
 },
 "nbformat": 4,
 "nbformat_minor": 2,
 "cells": [
  {
   "source": [
    "# Python Scoping 101"
   ],
   "cell_type": "markdown",
   "metadata": {}
  },
  {
   "cell_type": "code",
   "execution_count": 5,
   "metadata": {},
   "outputs": [
    {
     "output_type": "stream",
     "name": "stdout",
     "text": [
      "From local scope:  Hello, local!\nAfter local: Hello, world!\nAfter promoting to nonlocal: Hello, non local!\nAfter promoting to global: Hello, non local!\nFrom global scope: Hello, global!\n"
     ]
    }
   ],
   "source": [
    "def print_msg_in_scope():\n",
    "\n",
    "    def local_scope():\n",
    "        msg = \"Hello, local!\"\n",
    "        print(\"From local scope: \", msg)\n",
    "\n",
    "    def nonlocal_scope():\n",
    "        nonlocal msg\n",
    "        msg = \"Hello, non local!\"\n",
    "\n",
    "    def global_scope():\n",
    "        global msg\n",
    "        msg = \"Hello, global!\"\n",
    "\n",
    "    msg = \"Hello, world!\"\n",
    "\n",
    "    local_scope()\n",
    "    print(\"After local:\", msg)\n",
    "    \n",
    "    nonlocal_scope()\n",
    "    print(\"After promoting to nonlocal:\", msg)\n",
    "\n",
    "    global_scope()\n",
    "    print(\"After promoting to global:\", msg)\n",
    "\n",
    "\n",
    "print_msg_in_scope()\n",
    "print(\"From global scope:\", msg)"
   ]
  },
  {
   "cell_type": "code",
   "execution_count": null,
   "metadata": {},
   "outputs": [],
   "source": []
  }
 ]
}