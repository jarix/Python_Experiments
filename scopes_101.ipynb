{
 "metadata": {
  "language_info": {
   "codemirror_mode": {
    "name": "ipython",
    "version": 3
   },
   "file_extension": ".py",
   "mimetype": "text/x-python",
   "name": "python",
   "nbconvert_exporter": "python",
   "pygments_lexer": "ipython3",
   "version": "3.8.3-final"
  },
  "orig_nbformat": 2,
  "kernelspec": {
   "name": "python3",
   "display_name": "Python 3.8.3 64-bit ('opencv': conda)",
   "metadata": {
    "interpreter": {
     "hash": "de19c28a912f6af4a379899c5cfabe7b0c19dafff53afcaae277343cca151e26"
    }
   }
  }
 },
 "nbformat": 4,
 "nbformat_minor": 2,
 "cells": [
  {
   "source": [
    "# Python Scopes 101"
   ],
   "cell_type": "markdown",
   "metadata": {}
  },
  {
   "source": [
    "## Local Scope"
   ],
   "cell_type": "markdown",
   "metadata": {}
  },
  {
   "cell_type": "code",
   "execution_count": 17,
   "metadata": {},
   "outputs": [
    {
     "output_type": "stream",
     "name": "stdout",
     "text": [
      "inside foo(): i = 3\n101\n"
     ]
    }
   ],
   "source": [
    "# Variable created inside a function is only accessible within the function\n",
    "\n",
    "def foo():\n",
    "    i = 3\n",
    "    print(f\"inside foo(): i = {i}\")\n",
    "\n",
    "foo()\n",
    "try:\n",
    "    print(i)\n",
    "except:\n",
    "    print(\"i not accessible outside foo()\")"
   ]
  },
  {
   "source": [
    "## Function inside function"
   ],
   "cell_type": "markdown",
   "metadata": {}
  },
  {
   "cell_type": "code",
   "execution_count": 18,
   "metadata": {},
   "outputs": [
    {
     "output_type": "stream",
     "name": "stdout",
     "text": [
      "inside foobar(): i = 3\n"
     ]
    }
   ],
   "source": [
    "# A local variable can be accessed from a function within a function\n",
    "def foo():\n",
    "    i = 3\n",
    "    def foobar():\n",
    "        print(f\"inside foobar(): i = {i}\")\n",
    "    foobar()\n",
    "\n",
    "foo()"
   ]
  },
  {
   "source": [
    "## Global scope"
   ],
   "cell_type": "markdown",
   "metadata": {}
  },
  {
   "cell_type": "code",
   "execution_count": 11,
   "metadata": {},
   "outputs": [
    {
     "output_type": "stream",
     "name": "stdout",
     "text": [
      "inside foo(): i = 4\nin global scope: i = 4\n"
     ]
    }
   ],
   "source": [
    "# Variables outside functions are global and can be used anywhere\n",
    "\n",
    "i = 4\n",
    "def foo():\n",
    "    print(f\"inside foo(): i = {i}\")\n",
    "\n",
    "foo()\n",
    "print(f\"in global scope: i = {i}\")\n"
   ]
  },
  {
   "source": [
    "## global keword"
   ],
   "cell_type": "markdown",
   "metadata": {}
  },
  {
   "cell_type": "code",
   "execution_count": 13,
   "metadata": {},
   "outputs": [
    {
     "output_type": "stream",
     "name": "stdout",
     "text": [
      "inside foo(): i = 5\nin global scope: i = 5\n"
     ]
    }
   ],
   "source": [
    "# global keyword inside function promotes the variable to global scope\n",
    "def foo():\n",
    "    global i\n",
    "    i = 5\n",
    "    print(f\"inside foo(): i = {i}\")\n",
    "\n",
    "foo()\n",
    "print(f\"in global scope: i = {i}\")"
   ]
  },
  {
   "cell_type": "code",
   "execution_count": 15,
   "metadata": {},
   "outputs": [
    {
     "output_type": "stream",
     "name": "stdout",
     "text": [
      "inside foo(): i = 101\nin global scope: i = 100\n"
     ]
    }
   ],
   "source": [
    "# Local variable with the same name inside function will be different than global variable\n",
    "i = 100\n",
    "\n",
    "def foo():\n",
    "    i = 101\n",
    "    print(f\"inside foo(): i = {i}\")\n",
    "\n",
    "foo()\n",
    "print(f\"in global scope: i = {i}\")"
   ]
  },
  {
   "cell_type": "code",
   "execution_count": 16,
   "metadata": {},
   "outputs": [
    {
     "output_type": "stream",
     "name": "stdout",
     "text": [
      "inside foo(): i = 101\nin global scope: i = 101\n"
     ]
    }
   ],
   "source": [
    "# to change global variable inside function, use global keyword\n",
    "i = 100\n",
    "\n",
    "def foo():\n",
    "    global i\n",
    "    i = 101\n",
    "    print(f\"inside foo(): i = {i}\")\n",
    "\n",
    "foo()\n",
    "print(f\"in global scope: i = {i}\")"
   ]
  },
  {
   "source": [
    "## global vs. nonlocal"
   ],
   "cell_type": "markdown",
   "metadata": {}
  },
  {
   "cell_type": "code",
   "execution_count": 5,
   "metadata": {},
   "outputs": [
    {
     "output_type": "stream",
     "name": "stdout",
     "text": [
      "From local scope:  Hello, local!\nAfter local: Hello, world!\nAfter promoting to nonlocal: Hello, non local!\nAfter promoting to global: Hello, non local!\nFrom global scope: Hello, global!\n"
     ]
    }
   ],
   "source": [
    "def print_msg_in_scope():\n",
    "\n",
    "    def local_scope():\n",
    "        msg = \"Hello, local!\"\n",
    "        print(\"From local scope: \", msg)\n",
    "\n",
    "    def nonlocal_scope():\n",
    "        nonlocal msg\n",
    "        msg = \"Hello, non local!\"\n",
    "\n",
    "    def global_scope():\n",
    "        global msg\n",
    "        msg = \"Hello, global!\"\n",
    "\n",
    "    msg = \"Hello, world!\"\n",
    "\n",
    "    local_scope()\n",
    "    print(\"After local:\", msg)\n",
    "    \n",
    "    nonlocal_scope()\n",
    "    print(\"After promoting to nonlocal:\", msg)\n",
    "\n",
    "    global_scope()\n",
    "    print(\"After promoting to global:\", msg)\n",
    "\n",
    "\n",
    "print_msg_in_scope()\n",
    "print(\"From global scope:\", msg)"
   ]
  },
  {
   "cell_type": "code",
   "execution_count": null,
   "metadata": {},
   "outputs": [],
   "source": []
  }
 ]
}