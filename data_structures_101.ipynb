{
 "cells": [
  {
   "cell_type": "markdown",
   "metadata": {},
   "source": [
    "# Data Structures 101\n"
   ]
  },
  {
   "cell_type": "markdown",
   "metadata": {},
   "source": []
  },
  {
   "cell_type": "code",
   "execution_count": 34,
   "metadata": {},
   "outputs": [
    {
     "name": "stdout",
     "output_type": "stream",
     "text": [
      "List:  ['Dallas Stars', 'Florida Panthers', 'Seattle Kraken', 3.14, 100]\n",
      "The same element w/ positive 0 and negative -5 index:\n",
      " Index 0: Dallas Stars \n",
      " Index -5: Dallas Stars\n",
      "The same element w/ positive 4 and negative -1 index:\n",
      " Index 4: 100 \n",
      " Index -1: 100\n",
      "List type: <class 'list'>\n",
      "List length: 5\n",
      "Tuple:  ('Dallas Stars', 'Florida Panthers', 'Seattle Kraken', 3.14, 100)\n",
      "Tuple type: <class 'tuple'>\n",
      "Tuple length: 5\n"
     ]
    }
   ],
   "source": [
    "# Create a list\n",
    "L = [\"Dallas Stars\", \"Florida Panthers\", \"Seattle Kraken\", 3.14, 100]\n",
    "print(\"List: \", L)\n",
    "print('The same element w/ positive 0 and negative -5 index:\\n Index 0:',L[0],\n",
    "'\\n Index -5:' , L[-5])\n",
    "print('The same element w/ positive 4 and negative -1 index:\\n Index 4:',L[4],\n",
    "'\\n Index -1:' , L[-1]  )\n",
    "print(\"List type:\" , type(L))\n",
    "print(\"List length:\" , len(L))\n",
    "\n",
    "# Create a tuple\n",
    "T = (\"Dallas Stars\", \"Florida Panthers\", \"Seattle Kraken\", 3.14, 100)\n",
    "print(\"Tuple: \", T)\n",
    "print(\"Tuple type:\" , type(T))\n",
    "print(\"Tuple length:\" , len(T))\n"
   ]
  },
  {
   "cell_type": "markdown",
   "metadata": {},
   "source": [
    "### Nesting"
   ]
  },
  {
   "cell_type": "code",
   "execution_count": 29,
   "metadata": {},
   "outputs": [
    {
     "data": {
      "text/plain": [
       "['Dallas Stars',\n",
       " 'Florida Panthers',\n",
       " 'Seattle Kraken',\n",
       " 3.14,\n",
       " 100,\n",
       " [1, 2, 3],\n",
       " (1, 2, 3)]"
      ]
     },
     "execution_count": 29,
     "metadata": {},
     "output_type": "execute_result"
    }
   ],
   "source": [
    "# List can contain other lists, tuples, etc.\n",
    "L = [\"Dallas Stars\", \"Florida Panthers\", \"Seattle Kraken\", 3.14, 100, [1, 2, 3], (1, 2, 3)]\n",
    "L"
   ]
  },
  {
   "cell_type": "markdown",
   "metadata": {},
   "source": [
    "### Slicing"
   ]
  },
  {
   "cell_type": "code",
   "execution_count": 8,
   "metadata": {},
   "outputs": [
    {
     "data": {
      "text/plain": [
       "['Dallas Stars', 'Florida Panthers', 'Seattle Kraken']"
      ]
     },
     "execution_count": 8,
     "metadata": {},
     "output_type": "execute_result"
    }
   ],
   "source": [
    "L = [\"Dallas Stars\", \"Florida Panthers\", \"Seattle Kraken\", 3.14, 100, [1, 2, 3], (1, 2, 3)]\n",
    "L[0:3]"
   ]
  },
  {
   "cell_type": "markdown",
   "metadata": {},
   "source": [
    "### Extend, Append, Delete"
   ]
  },
  {
   "cell_type": "code",
   "execution_count": 17,
   "metadata": {},
   "outputs": [
    {
     "name": "stdout",
     "output_type": "stream",
     "text": [
      "Extend:  ['Dallas Stars', 'Florida Panthers', 'Seattle Kraken', 'New York Rangers', 'Carolina Hurricanes']\n",
      "Append:  ['Dallas Stars', 'Florida Panthers', 'Seattle Kraken', 'New York Rangers', 'Carolina Hurricanes', ['Las Vegas Golden Knights', 'Chicago Blackhawks']]\n",
      "Delete:  ['Florida Panthers', 'Seattle Kraken', 'New York Rangers', 'Carolina Hurricanes', ['Las Vegas Golden Knights', 'Chicago Blackhawks']]\n"
     ]
    }
   ],
   "source": [
    "L = [\"Dallas Stars\", \"Florida Panthers\", \"Seattle Kraken\"]\n",
    "\n",
    "# Extend can add multiple elements\n",
    "L.extend([\"New York Rangers\", \"Carolina Hurricanes\"])\n",
    "print(\"Extend: \", L)\n",
    "\n",
    "# Append adds one element\n",
    "L.append([\"Las Vegas Golden Knights\",\"Chicago Blackhawks\"])\n",
    "print(\"Append: \", L)\n",
    "\n",
    "# Delete \n",
    "del(L[0])\n",
    "print(\"Delete: \", L)"
   ]
  },
  {
   "cell_type": "markdown",
   "metadata": {},
   "source": [
    "### Split String"
   ]
  },
  {
   "cell_type": "code",
   "execution_count": 23,
   "metadata": {},
   "outputs": [
    {
     "name": "stdout",
     "output_type": "stream",
     "text": [
      "Split:  ['Lorem', 'ipsum', 'dolor', 'sit', 'amet,', 'consectetur', 'adipiscing', 'elit,', 'sed', 'do', 'eiusmod', 'tempor', 'incididunt', 'ut', 'labore', 'et', 'dolore', 'magna', 'aliqua.']\n",
      "19\n",
      "Split by comma:  ['Lorem ipsum dolor sit amet', ' consectetur adipiscing elit', ' sed do eiusmod tempor incididunt ut labore et dolore magna aliqua.']\n",
      "3\n"
     ]
    }
   ],
   "source": [
    "str = \"Lorem ipsum dolor sit amet, consectetur adipiscing elit, sed do eiusmod tempor incididunt ut labore et dolore magna aliqua.\"\n",
    "# Split string, default split is white space\n",
    "Ls = str.split()\n",
    "print(\"Split: \", Ls)\n",
    "print(len(Ls))\n",
    "# Split by comma\n",
    "Ls = str.split(',')\n",
    "print(\"Split by comma: \", Ls)\n",
    "print(len(Ls))"
   ]
  },
  {
   "cell_type": "markdown",
   "metadata": {},
   "source": [
    "### Copy and Clone"
   ]
  },
  {
   "cell_type": "code",
   "execution_count": 28,
   "metadata": {},
   "outputs": [
    {
     "name": "stdout",
     "output_type": "stream",
     "text": [
      "L1:  ['Dallas Stars', 'Florida Panthers', 'Seattle Kraken', 3.14, 100]\n",
      "L2:  ['Dallas Stars', 'Florida Panthers', 'Seattle Kraken', 3.14, 100]\n",
      "L2[0]:  Dallas Stars\n",
      "L2[0]:  Edited\n",
      "['Dallas Stars', 'Florida Panthers', 'Seattle Kraken', 3.14, 100]\n",
      "L2[0]:  Dallas Stars\n",
      "L2[0]:  Dallas Stars\n"
     ]
    }
   ],
   "source": [
    "# Copy by Reference, copy points to same object\n",
    "L1 = [\"Dallas Stars\", \"Florida Panthers\", \"Seattle Kraken\", 3.14, 100]\n",
    "L2 = L1\n",
    "print(\"L1: \", L2)\n",
    "print(\"L2: \", L2)\n",
    "\n",
    "# Mutable\n",
    "print(\"L2[0]: \", L2[0])\n",
    "L1[0] = \"Edited\"\n",
    "print(\"L2[0]: \", L2[0])\n",
    "\n",
    "# Clone a List\n",
    "L1 = [\"Dallas Stars\", \"Florida Panthers\", \"Seattle Kraken\", 3.14, 100]\n",
    "L2 = L1[:]\n",
    "print(L2)\n",
    "print(\"L2[0]: \", L2[0])\n",
    "L1[0] = \"Edited\"\n",
    "print(\"L2[0]: \", L2[0])"
   ]
  },
  {
   "cell_type": "markdown",
   "metadata": {},
   "source": [
    "### Sorting"
   ]
  },
  {
   "cell_type": "code",
   "execution_count": 36,
   "metadata": {},
   "outputs": [
    {
     "name": "stdout",
     "output_type": "stream",
     "text": [
      "Tuple sorted to a list:  [1, 2, 4, 6, 7, 8, 10]\n",
      "<class 'list'>\n"
     ]
    }
   ],
   "source": [
    "T = (2, 8, 10, 6, 1, 7, 4)\n",
    "Tsorted = sorted(T)\n",
    "print(\"Tuple sorted to a list: \", Tsorted)\n",
    "print(type(Tsorted))"
   ]
  },
  {
   "cell_type": "markdown",
   "metadata": {},
   "source": [
    "### Nesting"
   ]
  },
  {
   "cell_type": "code",
   "execution_count": 42,
   "metadata": {},
   "outputs": [
    {
     "name": "stdout",
     "output_type": "stream",
     "text": [
      "Element 4: (6, 7, 8)\n",
      "Middle Element of Element 4:  7\n"
     ]
    }
   ],
   "source": [
    "T = (\"Dallas Stars\", \"Florida Panthers\", \"Seattle Kraken\", (1, 3), (6, 7, 8))\n",
    "print(\"Element 4:\" , T[4])\n",
    "print(\"Middle Element of Element 4: \", T[4][1])"
   ]
  },
  {
   "cell_type": "markdown",
   "metadata": {},
   "source": [
    "## Dictionaries"
   ]
  },
  {
   "cell_type": "code",
   "execution_count": 2,
   "metadata": {},
   "outputs": [],
   "source": [
    "nightwish_albums = {\"Angels Fall\":1997, \"Oceanborn\":1998, \"Wishmaster\":2000, \"Century Child\":2002, \"Once\":2004, \"Dark Passion Play\": 2007, \n",
    "                    \"Imaginaerum\": 2011, \"Endless Forms Most Beautiful\":2015, \"Human :II: Nature\":2020, \"Yesterwynde\":2024 }"
   ]
  },
  {
   "cell_type": "code",
   "execution_count": 3,
   "metadata": {},
   "outputs": [
    {
     "data": {
      "text/plain": [
       "dict_keys(['Angels Fall', 'Oceanborn', 'Wishmaster', 'Century Child', 'Once', 'Dark Passion Play', 'Imaginaerum', 'Endless Forms Most Beautiful', 'Human :II: Nature', 'Yesterwynde'])"
      ]
     },
     "execution_count": 3,
     "metadata": {},
     "output_type": "execute_result"
    }
   ],
   "source": [
    "# Keys\n",
    "nightwish_albums.keys()"
   ]
  },
  {
   "cell_type": "code",
   "execution_count": 4,
   "metadata": {},
   "outputs": [
    {
     "data": {
      "text/plain": [
       "dict_values([1997, 1998, 2000, 2002, 2004, 2007, 2011, 2015, 2020, 2024])"
      ]
     },
     "execution_count": 4,
     "metadata": {},
     "output_type": "execute_result"
    }
   ],
   "source": [
    "# Values\n",
    "nightwish_albums.values()"
   ]
  },
  {
   "cell_type": "code",
   "execution_count": 5,
   "metadata": {},
   "outputs": [
    {
     "name": "stdout",
     "output_type": "stream",
     "text": [
      "{'Angels Fall': 1997, 'Oceanborn': 1998, 'Wishmaster': 2000, 'Century Child': 2002, 'Once': 2004, 'Dark Passion Play': 2007, 'Imaginaerum': 2011, 'Endless Forms Most Beautiful': 2015, 'Human :II: Nature': 2020, 'Yesterwynde': 2024}\n"
     ]
    }
   ],
   "source": [
    "# Display dictionary\n",
    "print(nightwish_albums)"
   ]
  },
  {
   "cell_type": "code",
   "execution_count": 6,
   "metadata": {},
   "outputs": [
    {
     "data": {
      "text/plain": [
       "True"
      ]
     },
     "execution_count": 6,
     "metadata": {},
     "output_type": "execute_result"
    }
   ],
   "source": [
    "# Is \"Once\" an album\n",
    "\"Once\" in nightwish_albums"
   ]
  },
  {
   "cell_type": "code",
   "execution_count": 8,
   "metadata": {},
   "outputs": [
    {
     "data": {
      "text/plain": [
       "2000"
      ]
     },
     "execution_count": 8,
     "metadata": {},
     "output_type": "execute_result"
    }
   ],
   "source": [
    "# Access values \n",
    "nightwish_albums[\"Wishmaster\"]"
   ]
  },
  {
   "cell_type": "code",
   "execution_count": 9,
   "metadata": {},
   "outputs": [
    {
     "data": {
      "text/plain": [
       "['Angels Fall',\n",
       " 'Oceanborn',\n",
       " 'Wishmaster',\n",
       " 'Century Child',\n",
       " 'Once',\n",
       " 'Dark Passion Play',\n",
       " 'Imaginaerum',\n",
       " 'Endless Forms Most Beautiful',\n",
       " 'Human :II: Nature',\n",
       " 'Yesterwynde']"
      ]
     },
     "execution_count": 9,
     "metadata": {},
     "output_type": "execute_result"
    }
   ],
   "source": [
    "# Keys as list\n",
    "list(nightwish_albums.keys())"
   ]
  },
  {
   "cell_type": "markdown",
   "metadata": {},
   "source": [
    "## Sets"
   ]
  },
  {
   "cell_type": "code",
   "execution_count": 16,
   "metadata": {},
   "outputs": [
    {
     "name": "stdout",
     "output_type": "stream",
     "text": [
      "{'Wishmaster', 'Once', 'Dark Passion Play', 'Imaginaerum', 'Oceanborn', 'Endless Forms Most Beautiful', 'Century Child', 'Human :II: Nature', 'Angels Fall'}\n",
      "9\n"
     ]
    }
   ],
   "source": [
    "nightwish_albums = {\"Angels Fall\", \"Oceanborn\", \"Wishmaster\", \"Century Child\", \"Once\", \"Dark Passion Play\", \n",
    "                    \"Imaginaerum\", \"Endless Forms Most Beautiful\", \"Human :II: Nature\" }\n",
    "print(nightwish_albums)\n",
    "print(len(nightwish_albums))"
   ]
  },
  {
   "cell_type": "code",
   "execution_count": 17,
   "metadata": {},
   "outputs": [
    {
     "name": "stdout",
     "output_type": "stream",
     "text": [
      "{'Wishmaster', 'Once', 'Dark Passion Play', 'Imaginaerum', 'Oceanborn', 'Endless Forms Most Beautiful', 'Century Child', 'Human :II: Nature', 'Yesterwynde', 'Angels Fall'}\n",
      "10\n"
     ]
    }
   ],
   "source": [
    "## Add to set\n",
    "nightwish_albums.add(\"Yesterwynde\")\n",
    "print(nightwish_albums)\n",
    "print(len(nightwish_albums))"
   ]
  },
  {
   "cell_type": "code",
   "execution_count": 18,
   "metadata": {},
   "outputs": [
    {
     "name": "stdout",
     "output_type": "stream",
     "text": [
      "{'Once', 'Dark Passion Play', 'Imaginaerum', 'Oceanborn', 'Endless Forms Most Beautiful', 'Century Child', 'Human :II: Nature', 'Yesterwynde', 'Angels Fall'}\n",
      "9\n"
     ]
    }
   ],
   "source": [
    "## Remove from set\n",
    "nightwish_albums.remove(\"Wishmaster\")\n",
    "print(nightwish_albums)\n",
    "print(len(nightwish_albums))"
   ]
  },
  {
   "cell_type": "code",
   "execution_count": 19,
   "metadata": {},
   "outputs": [
    {
     "data": {
      "text/plain": [
       "True"
      ]
     },
     "execution_count": 19,
     "metadata": {},
     "output_type": "execute_result"
    }
   ],
   "source": [
    "# Is \"Once\" in the set\n",
    "\"Once\" in nightwish_albums"
   ]
  },
  {
   "cell_type": "code",
   "execution_count": 22,
   "metadata": {},
   "outputs": [],
   "source": [
    "battle_beast_albums = {\"Once\", \"Steel\", \"Battle Beast\", \"Unholy Savior\", \"Bringer of Pain\", \"No More Hollywood Endings\", \"Circus of Doom\"}"
   ]
  },
  {
   "cell_type": "markdown",
   "metadata": {},
   "source": [
    "### Sets Mathematical Operations"
   ]
  },
  {
   "cell_type": "code",
   "execution_count": 23,
   "metadata": {},
   "outputs": [
    {
     "name": "stdout",
     "output_type": "stream",
     "text": [
      "{'Once'}\n"
     ]
    }
   ],
   "source": [
    "# Overlap\n",
    "albums_commom = nightwish_albums & battle_beast_albums\n",
    "print(albums_commom)"
   ]
  },
  {
   "cell_type": "code",
   "execution_count": 24,
   "metadata": {},
   "outputs": [
    {
     "name": "stdout",
     "output_type": "stream",
     "text": [
      "{'Once', 'No More Hollywood Endings', 'Battle Beast', 'Dark Passion Play', 'Bringer of Pain', 'Imaginaerum', 'Circus of Doom', 'Oceanborn', 'Endless Forms Most Beautiful', 'Unholy Savior', 'Century Child', 'Human :II: Nature', 'Yesterwynde', 'Angels Fall', 'Steel'}\n"
     ]
    }
   ],
   "source": [
    "# Union\n",
    "albums_union = nightwish_albums.union(battle_beast_albums)\n",
    "print(albums_union)"
   ]
  },
  {
   "cell_type": "code",
   "execution_count": 25,
   "metadata": {},
   "outputs": [
    {
     "name": "stdout",
     "output_type": "stream",
     "text": [
      "False\n"
     ]
    }
   ],
   "source": [
    "# Subset\n",
    "albums_subset = nightwish_albums.issubset(battle_beast_albums)\n",
    "print(albums_subset)"
   ]
  },
  {
   "cell_type": "code",
   "execution_count": 26,
   "metadata": {},
   "outputs": [
    {
     "name": "stdout",
     "output_type": "stream",
     "text": [
      "the sum of a List is: 7\n",
      "the sum of a Set  is: 3\n"
     ]
    }
   ],
   "source": [
    "# List vs. Set\n",
    "L = [1, 2, 2, 2]  \n",
    "S = set([1, 2, 2, 2])\n",
    "print(\"the sum of a List is:\", sum(L))\n",
    "print(\"the sum of a Set  is:\", sum(S))"
   ]
  },
  {
   "cell_type": "code",
   "execution_count": null,
   "metadata": {},
   "outputs": [],
   "source": []
  }
 ],
 "metadata": {
  "kernelspec": {
   "display_name": "Python 3",
   "language": "python",
   "name": "python3"
  },
  "language_info": {
   "codemirror_mode": {
    "name": "ipython",
    "version": 3
   },
   "file_extension": ".py",
   "mimetype": "text/x-python",
   "name": "python",
   "nbconvert_exporter": "python",
   "pygments_lexer": "ipython3",
   "version": "3.10.9"
  }
 },
 "nbformat": 4,
 "nbformat_minor": 2
}
