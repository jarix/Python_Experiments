{
 "cells": [
  {
   "cell_type": "markdown",
   "metadata": {},
   "source": [
    "# Data Structures 101\n"
   ]
  },
  {
   "cell_type": "markdown",
   "metadata": {},
   "source": []
  },
  {
   "cell_type": "code",
   "execution_count": 4,
   "metadata": {},
   "outputs": [
    {
     "name": "stdout",
     "output_type": "stream",
     "text": [
      "The same element w/ positive and negative index:\n",
      " Pos Index: Dallas Stars \n",
      " Neg Index: Dallas Stars\n",
      "The same element w/ positive and negative index:\n",
      " Pos Index: 100 \n",
      " Neg Index: 100\n"
     ]
    }
   ],
   "source": [
    "# Create a list\n",
    "L = [\"Dallas Stars\", \"Florida Panthers\", \"Seattle Kraken\", 3.14, 100]\n",
    "print('The same element w/ positive and negative index:\\n Pos Index:',L[0],\n",
    "'\\n Neg Index:' , L[-5])\n",
    "print('The same element w/ positive and negative index:\\n Pos Index:',L[4],\n",
    "'\\n Neg Index:' , L[-1]  )\n"
   ]
  },
  {
   "cell_type": "markdown",
   "metadata": {},
   "source": [
    "### Nesting"
   ]
  },
  {
   "cell_type": "code",
   "execution_count": 7,
   "metadata": {},
   "outputs": [
    {
     "data": {
      "text/plain": [
       "['Dallas Stars',\n",
       " 'Florida Panthers',\n",
       " 'Seattle Kraken',\n",
       " 3.14,\n",
       " 100,\n",
       " [1, 2, 3],\n",
       " (1, 2, 3)]"
      ]
     },
     "execution_count": 7,
     "metadata": {},
     "output_type": "execute_result"
    }
   ],
   "source": [
    "# List can contain other lists, tuples, etc.\n",
    "L = [\"Dallas Stars\", \"Florida Panthers\", \"Seattle Kraken\", 3.14, 100, [1, 2, 3], (1, 2, 3)]\n",
    "L"
   ]
  },
  {
   "cell_type": "markdown",
   "metadata": {},
   "source": [
    "### Slicing"
   ]
  },
  {
   "cell_type": "code",
   "execution_count": 8,
   "metadata": {},
   "outputs": [
    {
     "data": {
      "text/plain": [
       "['Dallas Stars', 'Florida Panthers', 'Seattle Kraken']"
      ]
     },
     "execution_count": 8,
     "metadata": {},
     "output_type": "execute_result"
    }
   ],
   "source": [
    "L = [\"Dallas Stars\", \"Florida Panthers\", \"Seattle Kraken\", 3.14, 100, [1, 2, 3], (1, 2, 3)]\n",
    "L[0:3]"
   ]
  },
  {
   "cell_type": "markdown",
   "metadata": {},
   "source": [
    "### Extend, Append, Delete"
   ]
  },
  {
   "cell_type": "code",
   "execution_count": 17,
   "metadata": {},
   "outputs": [
    {
     "name": "stdout",
     "output_type": "stream",
     "text": [
      "Extend:  ['Dallas Stars', 'Florida Panthers', 'Seattle Kraken', 'New York Rangers', 'Carolina Hurricanes']\n",
      "Append:  ['Dallas Stars', 'Florida Panthers', 'Seattle Kraken', 'New York Rangers', 'Carolina Hurricanes', ['Las Vegas Golden Knights', 'Chicago Blackhawks']]\n",
      "Delete:  ['Florida Panthers', 'Seattle Kraken', 'New York Rangers', 'Carolina Hurricanes', ['Las Vegas Golden Knights', 'Chicago Blackhawks']]\n"
     ]
    }
   ],
   "source": [
    "L = [\"Dallas Stars\", \"Florida Panthers\", \"Seattle Kraken\"]\n",
    "\n",
    "# Extend can add multiple elements\n",
    "L.extend([\"New York Rangers\", \"Carolina Hurricanes\"])\n",
    "print(\"Extend: \", L)\n",
    "\n",
    "# Append adds one element\n",
    "L.append([\"Las Vegas Golden Knights\",\"Chicago Blackhawks\"])\n",
    "print(\"Append: \", L)\n",
    "\n",
    "# Delete \n",
    "del(L[0])\n",
    "print(\"Delete: \", L)"
   ]
  },
  {
   "cell_type": "markdown",
   "metadata": {},
   "source": [
    "### Split String"
   ]
  },
  {
   "cell_type": "code",
   "execution_count": 19,
   "metadata": {},
   "outputs": [
    {
     "name": "stdout",
     "output_type": "stream",
     "text": [
      "Split:  ['Lorem', 'ipsum', 'dolor', 'sit', 'amet,', 'consectetur', 'adipiscing', 'elit,', 'sed', 'do', 'eiusmod', 'tempor', 'incididunt', 'ut', 'labore', 'et', 'dolore', 'magna', 'aliqua.']\n"
     ]
    }
   ],
   "source": [
    "str = \"Lorem ipsum dolor sit amet, consectetur adipiscing elit, sed do eiusmod tempor incididunt ut labore et dolore magna aliqua.\"\n",
    "# Split string, default split is white space\n",
    "Ls = str.split()\n",
    "print(\"Split: \", Ls)"
   ]
  },
  {
   "cell_type": "code",
   "execution_count": null,
   "metadata": {},
   "outputs": [],
   "source": []
  }
 ],
 "metadata": {
  "kernelspec": {
   "display_name": "Python 3",
   "language": "python",
   "name": "python3"
  },
  "language_info": {
   "codemirror_mode": {
    "name": "ipython",
    "version": 3
   },
   "file_extension": ".py",
   "mimetype": "text/x-python",
   "name": "python",
   "nbconvert_exporter": "python",
   "pygments_lexer": "ipython3",
   "version": "3.10.9"
  }
 },
 "nbformat": 4,
 "nbformat_minor": 2
}
