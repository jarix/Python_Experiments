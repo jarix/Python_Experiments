{
 "cells": [
  {
   "cell_type": "markdown",
   "metadata": {},
   "source": [
    "# Numpy 101"
   ]
  },
  {
   "cell_type": "code",
   "execution_count": 1,
   "metadata": {},
   "outputs": [],
   "source": [
    "# Prerequisites\n",
    "import numpy as np"
   ]
  },
  {
   "source": [
    "## Initializing Array"
   ],
   "cell_type": "markdown",
   "metadata": {}
  },
  {
   "cell_type": "code",
   "execution_count": 2,
   "metadata": {},
   "outputs": [
    {
     "output_type": "stream",
     "name": "stdout",
     "text": [
      "[7, 7, 7, 7, 7, 7, 7, 7, 7, 7]\n"
     ]
    }
   ],
   "source": [
    "# Initialize with loop and range()\n",
    "array = []\n",
    "array = [7 for i in range(10)]\n",
    "print(array)\n"
   ]
  },
  {
   "cell_type": "code",
   "execution_count": 3,
   "metadata": {},
   "outputs": [
    {
     "output_type": "stream",
     "name": "stdout",
     "text": [
      "[None None None None None None None None None None]\n"
     ]
    }
   ],
   "source": [
    "# Initialize as numpy array\n",
    "import numpy as np \n",
    "array = np.empty(10, dtype=object)\n",
    "print(array) "
   ]
  },
  {
   "cell_type": "code",
   "execution_count": 4,
   "metadata": {},
   "outputs": [
    {
     "output_type": "stream",
     "name": "stdout",
     "text": [
      "[7, 7, 7, 7, 7, 7, 7, 7, 7, 7]\n['Hello', 'Hello', 'Hello', 'Hello', 'Hello', 'Hello', 'Hello', 'Hello', 'Hello', 'Hello']\n"
     ]
    }
   ],
   "source": [
    "# Direct initialization as Python \n",
    "array_int = [7] * 10\n",
    "print(array_int)\n",
    "array_str = [\"Hello\"] * 10\n",
    "print(array_str)"
   ]
  },
  {
   "cell_type": "code",
   "execution_count": 5,
   "metadata": {},
   "outputs": [
    {
     "output_type": "stream",
     "name": "stdout",
     "text": [
      "[[255, 127, 36], [255, 127, 36], [255, 127, 36], [255, 127, 36], [255, 127, 36], [255, 127, 36], [255, 127, 36], [255, 127, 36], [255, 127, 36], [255, 127, 36]]\n"
     ]
    }
   ],
   "source": [
    "# Initialize multi-dimensional RGB color array\n",
    "array_rgb = [[255, 127, 36]] * 10\n",
    "print(array_rgb)"
   ]
  },
  {
   "cell_type": "markdown",
   "metadata": {},
   "source": [
    "## Using Numpy Arrays for point clouds"
   ]
  },
  {
   "cell_type": "code",
   "execution_count": 2,
   "metadata": {
    "tags": []
   },
   "outputs": [
    {
     "name": "stdout",
     "output_type": "stream",
     "text": [
      "<class 'numpy.ndarray'>\n",
      "[[0 0 0]\n",
      " [1 1 1]\n",
      " [2 2 2]]\n"
     ]
    }
   ],
   "source": [
    "array1 = np.array([[0,0,0],[1,1,1],[2,2,2]]) \n",
    "print(type(array1))\n",
    "print(array1)"
   ]
  },
  {
   "cell_type": "code",
   "execution_count": 3,
   "metadata": {
    "tags": []
   },
   "outputs": [
    {
     "name": "stdout",
     "output_type": "stream",
     "text": [
      "<class 'numpy.ndarray'>\n",
      "[[3 3 3]\n",
      " [4 4 4]\n",
      " [5 5 5]]\n"
     ]
    }
   ],
   "source": [
    "array2 = np.array([[3,3,3],[4,4,4],[5,5,5]]) \n",
    "print(type(array2))\n",
    "print(array2)"
   ]
  },
  {
   "cell_type": "code",
   "execution_count": 4,
   "metadata": {
    "tags": []
   },
   "outputs": [
    {
     "name": "stdout",
     "output_type": "stream",
     "text": [
      "<class 'numpy.ndarray'>\n",
      "[[3 3 3]\n",
      " [5 5 5]\n",
      " [7 7 7]]\n",
      "(3, 3)\n"
     ]
    }
   ],
   "source": [
    "# Adding 2 Arrays performs a matrix addition\n",
    "array = array1 + array2\n",
    "print(type(array))\n",
    "print(array)\n",
    "print(array.shape)"
   ]
  },
  {
   "cell_type": "markdown",
   "metadata": {},
   "source": [
    "## Concatenate arrays (merging 2 point clouds together)\n"
   ]
  },
  {
   "cell_type": "code",
   "execution_count": 6,
   "metadata": {
    "tags": []
   },
   "outputs": [
    {
     "name": "stdout",
     "output_type": "stream",
     "text": [
      "Array type: <class 'numpy.ndarray'>\n",
      "Array shape: (6, 3)\n",
      "[[0 0 0]\n",
      " [1 1 1]\n",
      " [2 2 2]\n",
      " [3 3 3]\n",
      " [4 4 4]\n",
      " [5 5 5]]\n"
     ]
    }
   ],
   "source": [
    "array = np.concatenate((array1, array2), axis=0)\n",
    "print(f\"Array type: {type(array)}\")\n",
    "print(f\"Array shape: {array.shape}\")\n",
    "print(array)\n"
   ]
  },
  {
   "source": [
    "## Delete Rows or Columns"
   ],
   "cell_type": "markdown",
   "metadata": {}
  },
  {
   "cell_type": "code",
   "execution_count": 9,
   "metadata": {},
   "outputs": [
    {
     "output_type": "stream",
     "name": "stdout",
     "text": [
      "array:\n[[ 0  1  2  3]\n [ 4  5  6  7]\n [ 8  9 10 11]]\nshape:\n(3, 4)\n"
     ]
    }
   ],
   "source": [
    "    array = np.arange(12).reshape(3, 4)\n",
    "    print(\"array:\")\n",
    "    print(array)\n",
    "    # [[ 0  1  2  3]\n",
    "    #  [ 4  5  6  7]\n",
    "    #  [ 8  9 10 11]]\n",
    "    print(\"shape:\")\n",
    "    print(array.shape)"
   ]
  },
  {
   "cell_type": "code",
   "execution_count": 10,
   "metadata": {},
   "outputs": [
    {
     "output_type": "stream",
     "name": "stdout",
     "text": [
      "[[0 1 2 3]\n [4 5 6 7]]\nshape:\n(2, 4)\n"
     ]
    }
   ],
   "source": [
    "# Delete last row\n",
    "row_del = np.delete(array, 2, 0)\n",
    "print(row_del)\n",
    "# [[ 0  1  2  3]\n",
    "#  [ 4  5 6 7]]\n",
    "print(\"shape:\")\n",
    "print(row_del.shape)"
   ]
  },
  {
   "cell_type": "code",
   "execution_count": 11,
   "metadata": {},
   "outputs": [
    {
     "output_type": "stream",
     "name": "stdout",
     "text": [
      "[[ 0  1  2]\n [ 4  5  6]\n [ 8  9 10]]\nshape:\n(3, 3)\n"
     ]
    }
   ],
   "source": [
    "# Delete last column\n",
    "col_del = np.delete(array, 3, axis=1)\n",
    "print(col_del)\n",
    "# [[ 0  1  2]\n",
    "#  [ 4  5  6]\n",
    "#  [ 8  9 10]]\n",
    "print(\"shape:\")\n",
    "print(col_del.shape)"
   ]
  },
  {
   "source": [
    "## Splitting Array"
   ],
   "cell_type": "markdown",
   "metadata": {}
  },
  {
   "cell_type": "code",
   "execution_count": 5,
   "metadata": {},
   "outputs": [
    {
     "output_type": "stream",
     "name": "stdout",
     "text": [
      "[0 1 2 3 4 5 6 7 8 9]\n[array([0, 1]), array([2, 3]), array([4, 5]), array([6, 7]), array([8, 9])]\n"
     ]
    }
   ],
   "source": [
    "# Split 1D Array\n",
    "import numpy as np \n",
    "array = np.arange(10)\n",
    "print(array)\n",
    "new_array = np.split(array, 5)\n",
    "print(new_array)"
   ]
  },
  {
   "cell_type": "code",
   "execution_count": 7,
   "metadata": {},
   "outputs": [
    {
     "output_type": "stream",
     "name": "stdout",
     "text": [
      "[[ 0  1  2  3]\n [ 4  5  6  7]\n [ 8  9 10 11]\n [12 13 14 15]]\n[array([[0, 1, 2, 3],\n       [4, 5, 6, 7]]), array([[ 8,  9, 10, 11]]), array([[12, 13, 14, 15]])]\n"
     ]
    }
   ],
   "source": [
    "# Split 2D Array\n",
    "array = np.arange(16).reshape(4, 4)\n",
    "print(array)\n",
    "new_array = np.array_split(array,3)\n",
    "print(new_array)"
   ]
  },
  {
   "cell_type": "code",
   "execution_count": 13,
   "metadata": {},
   "outputs": [
    {
     "output_type": "stream",
     "name": "stdout",
     "text": [
      "[[ 0  1  2  3]\n [ 4  5  6  7]\n [ 8  9 10 11]\n [12 13 14 15]]\n[[ 0  1]\n [ 4  5]\n [ 8  9]\n [12 13]]\n(4, 2)\n"
     ]
    }
   ],
   "source": [
    "# Split array by columns with hsplit\n",
    "array = np.arange(16).reshape(4, 4)\n",
    "print(array)\n",
    "# Split the array at column index 2\n",
    "(array1, array2) = np.hsplit(array, 2)\n",
    "print(array1)\n",
    "print(array1.shape)"
   ]
  },
  {
   "cell_type": "code",
   "execution_count": 16,
   "metadata": {},
   "outputs": [
    {
     "output_type": "stream",
     "name": "stdout",
     "text": [
      "[[ 0  1  2  3]\n [ 4  5  6  7]\n [ 8  9 10 11]\n [12 13 14 15]]\narray1:\n[[ 0  1  2]\n [ 4  5  6]\n [ 8  9 10]\n [12 13 14]]\n(4, 3)\narray2:\n<class 'numpy.ndarray'>\n[[ 3]\n [ 7]\n [11]\n [15]]\n(4, 1)\n"
     ]
    }
   ],
   "source": [
    "# Split array by columns with hsplit\n",
    "array = np.arange(16).reshape(4, 4)\n",
    "print(array)\n",
    "# Split column index 3 to separate array\n",
    "(array1, array2) = np.hsplit(array, [3])\n",
    "print(\"array1:\")\n",
    "print(array1)\n",
    "print(array1.shape)\n",
    "print(\"array2:\")\n",
    "print(type(array2))\n",
    "print(array2)\n",
    "print(array2.shape)"
   ]
  },
  {
   "cell_type": "code",
   "execution_count": null,
   "metadata": {},
   "outputs": [],
   "source": []
  }
 ],
 "metadata": {
  "kernelspec": {
   "display_name": "Python 3",
   "language": "python",
   "name": "python3"
  },
  "language_info": {
   "codemirror_mode": {
    "name": "ipython",
    "version": 3
   },
   "file_extension": ".py",
   "mimetype": "text/x-python",
   "name": "python",
   "nbconvert_exporter": "python",
   "pygments_lexer": "ipython3",
   "version": "3.8.3-final"
  }
 },
 "nbformat": 4,
 "nbformat_minor": 2
}