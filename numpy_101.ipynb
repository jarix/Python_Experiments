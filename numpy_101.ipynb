{
 "cells": [
  {
   "cell_type": "markdown",
   "metadata": {},
   "source": [
    "# Numpy 101"
   ]
  },
  {
   "cell_type": "code",
   "execution_count": 1,
   "metadata": {},
   "outputs": [],
   "source": [
    "# Prerequisites\n",
    "import numpy as np"
   ]
  },
  {
   "cell_type": "markdown",
   "metadata": {},
   "source": [
    "## Initializing Array"
   ]
  },
  {
   "cell_type": "code",
   "execution_count": 2,
   "metadata": {},
   "outputs": [
    {
     "name": "stdout",
     "output_type": "stream",
     "text": [
      "[0, 1, 2, 3, 4, 5, 6, 7, 8, 9]\n"
     ]
    }
   ],
   "source": [
    "# Initialize with list comprehension and range()\n",
    "array = []\n",
    "array = [i for i in range(10)]\n",
    "print(array)\n",
    "\n"
   ]
  },
  {
   "cell_type": "code",
   "execution_count": 3,
   "metadata": {},
   "outputs": [
    {
     "name": "stdout",
     "output_type": "stream",
     "text": [
      "[ 0  1  2  3  4  5  6  7  8  9 10 11]\n",
      "Shape:  (12,)\n",
      "Min value:  0\n",
      "Max value:  11\n"
     ]
    }
   ],
   "source": [
    "# Min and Max values\n",
    "array = np.array([i for i in range(12)])\n",
    "print(array)\n",
    "print(\"Shape: \", array.shape)\n",
    "print(\"Min value: \", array.min())\n",
    "print(\"Max value: \", array.max())"
   ]
  },
  {
   "cell_type": "code",
   "execution_count": 5,
   "metadata": {},
   "outputs": [
    {
     "name": "stdout",
     "output_type": "stream",
     "text": [
      "[ 0  1  2  3  4  5  6  7  8  9 10 11]\n"
     ]
    }
   ],
   "source": [
    "# initialize array with arange\n",
    "array2 = np.arange(12)\n",
    "print(array2)"
   ]
  },
  {
   "cell_type": "code",
   "execution_count": 13,
   "metadata": {},
   "outputs": [
    {
     "data": {
      "text/plain": [
       "array([[ 0,  1,  2,  3],\n",
       "       [ 4,  5,  6,  7],\n",
       "       [ 8,  9, 10, 11]])"
      ]
     },
     "execution_count": 13,
     "metadata": {},
     "output_type": "execute_result"
    }
   ],
   "source": [
    "# change to 2-dimensional array\n",
    "#array2d = np.reshape(array2, (3,4))\n",
    "array2d = array2.reshape((3,4))\n",
    "array2d"
   ]
  },
  {
   "cell_type": "code",
   "execution_count": 15,
   "metadata": {},
   "outputs": [
    {
     "data": {
      "text/plain": [
       "array([[[ 0,  1,  2],\n",
       "        [ 3,  4,  5]],\n",
       "\n",
       "       [[ 6,  7,  8],\n",
       "        [ 9, 10, 11]]])"
      ]
     },
     "execution_count": 15,
     "metadata": {},
     "output_type": "execute_result"
    }
   ],
   "source": [
    "# change to 3-dimensional array\n",
    "array3d = array2.reshape((2,2,3))\n",
    "array3d"
   ]
  },
  {
   "cell_type": "code",
   "execution_count": 20,
   "metadata": {},
   "outputs": [
    {
     "data": {
      "text/plain": [
       "list"
      ]
     },
     "execution_count": 20,
     "metadata": {},
     "output_type": "execute_result"
    }
   ],
   "source": [
    "# Create a numpy array from a Python List\n",
    "list = [5,4,3,2,1,0]\n",
    "type(list)"
   ]
  },
  {
   "cell_type": "code",
   "execution_count": 21,
   "metadata": {},
   "outputs": [
    {
     "data": {
      "text/plain": [
       "array([5, 4, 3, 2, 1, 0], dtype=object)"
      ]
     },
     "execution_count": 21,
     "metadata": {},
     "output_type": "execute_result"
    }
   ],
   "source": [
    "array3 = np.asarray(list, dtype=object)\n",
    "array3"
   ]
  },
  {
   "cell_type": "code",
   "execution_count": 22,
   "metadata": {},
   "outputs": [
    {
     "data": {
      "text/plain": [
       "numpy.ndarray"
      ]
     },
     "execution_count": 22,
     "metadata": {},
     "output_type": "execute_result"
    }
   ],
   "source": [
    "type(array3)"
   ]
  },
  {
   "cell_type": "markdown",
   "metadata": {},
   "source": [
    "# Min and Max values\n",
    "print(:)"
   ]
  },
  {
   "cell_type": "code",
   "execution_count": 3,
   "metadata": {},
   "outputs": [
    {
     "name": "stdout",
     "output_type": "stream",
     "text": [
      "[None None None None None None None None None None]\n"
     ]
    }
   ],
   "source": [
    "# Initialize as numpy array\n",
    "import numpy as np \n",
    "array = np.empty(10, dtype=object)\n",
    "print(array) "
   ]
  },
  {
   "cell_type": "code",
   "execution_count": 4,
   "metadata": {},
   "outputs": [
    {
     "name": "stdout",
     "output_type": "stream",
     "text": [
      "[7, 7, 7, 7, 7, 7, 7, 7, 7, 7]\n",
      "['Hello', 'Hello', 'Hello', 'Hello', 'Hello', 'Hello', 'Hello', 'Hello', 'Hello', 'Hello']\n"
     ]
    }
   ],
   "source": [
    "# Direct initialization as Python \n",
    "array_int = [7] * 10\n",
    "print(array_int)\n",
    "array_str = [\"Hello\"] * 10\n",
    "print(array_str)"
   ]
  },
  {
   "cell_type": "code",
   "execution_count": 5,
   "metadata": {},
   "outputs": [
    {
     "name": "stdout",
     "output_type": "stream",
     "text": [
      "[[255, 127, 36], [255, 127, 36], [255, 127, 36], [255, 127, 36], [255, 127, 36], [255, 127, 36], [255, 127, 36], [255, 127, 36], [255, 127, 36], [255, 127, 36]]\n"
     ]
    }
   ],
   "source": [
    "# Initialize multi-dimensional RGB color array\n",
    "array_rgb = [[255, 127, 36]] * 10\n",
    "print(array_rgb)"
   ]
  },
  {
   "cell_type": "markdown",
   "metadata": {},
   "source": [
    "## Using Numpy Arrays for point clouds"
   ]
  },
  {
   "cell_type": "code",
   "execution_count": 2,
   "metadata": {
    "tags": []
   },
   "outputs": [
    {
     "name": "stdout",
     "output_type": "stream",
     "text": [
      "<class 'numpy.ndarray'>\n",
      "[[0 0 0]\n",
      " [1 1 1]\n",
      " [2 2 2]]\n"
     ]
    }
   ],
   "source": [
    "array1 = np.array([[0,0,0],[1,1,1],[2,2,2]]) \n",
    "print(type(array1))\n",
    "print(array1)"
   ]
  },
  {
   "cell_type": "code",
   "execution_count": 3,
   "metadata": {
    "tags": []
   },
   "outputs": [
    {
     "name": "stdout",
     "output_type": "stream",
     "text": [
      "<class 'numpy.ndarray'>\n",
      "[[3 3 3]\n",
      " [4 4 4]\n",
      " [5 5 5]]\n"
     ]
    }
   ],
   "source": [
    "array2 = np.array([[3,3,3],[4,4,4],[5,5,5]]) \n",
    "print(type(array2))\n",
    "print(array2)"
   ]
  },
  {
   "cell_type": "code",
   "execution_count": 4,
   "metadata": {
    "tags": []
   },
   "outputs": [
    {
     "name": "stdout",
     "output_type": "stream",
     "text": [
      "<class 'numpy.ndarray'>\n",
      "[[3 3 3]\n",
      " [5 5 5]\n",
      " [7 7 7]]\n",
      "(3, 3)\n"
     ]
    }
   ],
   "source": [
    "# Adding 2 Arrays performs a matrix addition\n",
    "array = array1 + array2\n",
    "print(type(array))\n",
    "print(array)\n",
    "print(array.shape)"
   ]
  },
  {
   "cell_type": "markdown",
   "metadata": {},
   "source": [
    "## Concatenate arrays (merging 2 point clouds together)\n"
   ]
  },
  {
   "cell_type": "code",
   "execution_count": 6,
   "metadata": {
    "tags": []
   },
   "outputs": [
    {
     "name": "stdout",
     "output_type": "stream",
     "text": [
      "Array type: <class 'numpy.ndarray'>\n",
      "Array shape: (6, 3)\n",
      "[[0 0 0]\n",
      " [1 1 1]\n",
      " [2 2 2]\n",
      " [3 3 3]\n",
      " [4 4 4]\n",
      " [5 5 5]]\n"
     ]
    }
   ],
   "source": [
    "array = np.concatenate((array1, array2), axis=0)\n",
    "print(f\"Array type: {type(array)}\")\n",
    "print(f\"Array shape: {array.shape}\")\n",
    "print(array)\n"
   ]
  },
  {
   "cell_type": "markdown",
   "metadata": {},
   "source": [
    "## Delete Rows or Columns"
   ]
  },
  {
   "cell_type": "code",
   "execution_count": 9,
   "metadata": {},
   "outputs": [
    {
     "name": "stdout",
     "output_type": "stream",
     "text": [
      "array:\n",
      "[[ 0  1  2  3]\n",
      " [ 4  5  6  7]\n",
      " [ 8  9 10 11]]\n",
      "shape:\n",
      "(3, 4)\n"
     ]
    }
   ],
   "source": [
    "    array = np.arange(12).reshape(3, 4)\n",
    "    print(\"array:\")\n",
    "    print(array)\n",
    "    # [[ 0  1  2  3]\n",
    "    #  [ 4  5  6  7]\n",
    "    #  [ 8  9 10 11]]\n",
    "    print(\"shape:\")\n",
    "    print(array.shape)"
   ]
  },
  {
   "cell_type": "code",
   "execution_count": 10,
   "metadata": {},
   "outputs": [
    {
     "name": "stdout",
     "output_type": "stream",
     "text": [
      "[[0 1 2 3]\n",
      " [4 5 6 7]]\n",
      "shape:\n",
      "(2, 4)\n"
     ]
    }
   ],
   "source": [
    "# Delete last row\n",
    "row_del = np.delete(array, 2, 0)\n",
    "print(row_del)\n",
    "# [[ 0  1  2  3]\n",
    "#  [ 4  5 6 7]]\n",
    "print(\"shape:\")\n",
    "print(row_del.shape)"
   ]
  },
  {
   "cell_type": "code",
   "execution_count": 11,
   "metadata": {},
   "outputs": [
    {
     "name": "stdout",
     "output_type": "stream",
     "text": [
      "[[ 0  1  2]\n",
      " [ 4  5  6]\n",
      " [ 8  9 10]]\n",
      "shape:\n",
      "(3, 3)\n"
     ]
    }
   ],
   "source": [
    "# Delete last column\n",
    "col_del = np.delete(array, 3, axis=1)\n",
    "print(col_del)\n",
    "# [[ 0  1  2]\n",
    "#  [ 4  5  6]\n",
    "#  [ 8  9 10]]\n",
    "print(\"shape:\")\n",
    "print(col_del.shape)"
   ]
  },
  {
   "cell_type": "markdown",
   "metadata": {},
   "source": [
    "## Splitting Array"
   ]
  },
  {
   "cell_type": "code",
   "execution_count": 5,
   "metadata": {},
   "outputs": [
    {
     "name": "stdout",
     "output_type": "stream",
     "text": [
      "[0 1 2 3 4 5 6 7 8 9]\n",
      "[array([0, 1]), array([2, 3]), array([4, 5]), array([6, 7]), array([8, 9])]\n"
     ]
    }
   ],
   "source": [
    "# Split 1D Array\n",
    "import numpy as np \n",
    "array = np.arange(10)\n",
    "print(array)\n",
    "new_array = np.split(array, 5)\n",
    "print(new_array)"
   ]
  },
  {
   "cell_type": "code",
   "execution_count": 7,
   "metadata": {},
   "outputs": [
    {
     "name": "stdout",
     "output_type": "stream",
     "text": [
      "[[ 0  1  2  3]\n",
      " [ 4  5  6  7]\n",
      " [ 8  9 10 11]\n",
      " [12 13 14 15]]\n",
      "[array([[0, 1, 2, 3],\n",
      "       [4, 5, 6, 7]]), array([[ 8,  9, 10, 11]]), array([[12, 13, 14, 15]])]\n"
     ]
    }
   ],
   "source": [
    "# Split 2D Array\n",
    "array = np.arange(16).reshape(4, 4)\n",
    "print(array)\n",
    "new_array = np.array_split(array,3)\n",
    "print(new_array)"
   ]
  },
  {
   "cell_type": "code",
   "execution_count": 13,
   "metadata": {},
   "outputs": [
    {
     "name": "stdout",
     "output_type": "stream",
     "text": [
      "[[ 0  1  2  3]\n",
      " [ 4  5  6  7]\n",
      " [ 8  9 10 11]\n",
      " [12 13 14 15]]\n",
      "[[ 0  1]\n",
      " [ 4  5]\n",
      " [ 8  9]\n",
      " [12 13]]\n",
      "(4, 2)\n"
     ]
    }
   ],
   "source": [
    "# Split array by columns with hsplit\n",
    "array = np.arange(16).reshape(4, 4)\n",
    "print(array)\n",
    "# Split the array at column index 2\n",
    "(array1, array2) = np.hsplit(array, 2)\n",
    "print(array1)\n",
    "print(array1.shape)"
   ]
  },
  {
   "cell_type": "code",
   "execution_count": 16,
   "metadata": {},
   "outputs": [
    {
     "name": "stdout",
     "output_type": "stream",
     "text": [
      "[[ 0  1  2  3]\n",
      " [ 4  5  6  7]\n",
      " [ 8  9 10 11]\n",
      " [12 13 14 15]]\n",
      "array1:\n",
      "[[ 0  1  2]\n",
      " [ 4  5  6]\n",
      " [ 8  9 10]\n",
      " [12 13 14]]\n",
      "(4, 3)\n",
      "array2:\n",
      "<class 'numpy.ndarray'>\n",
      "[[ 3]\n",
      " [ 7]\n",
      " [11]\n",
      " [15]]\n",
      "(4, 1)\n"
     ]
    }
   ],
   "source": [
    "# Split array by columns with hsplit\n",
    "array = np.arange(16).reshape(4, 4)\n",
    "print(array)\n",
    "# Split column index 3 to separate array\n",
    "(array1, array2) = np.hsplit(array, [3])\n",
    "print(\"array1:\")\n",
    "print(array1)\n",
    "print(array1.shape)\n",
    "print(\"array2:\")\n",
    "print(type(array2))\n",
    "print(array2)\n",
    "print(array2.shape)"
   ]
  },
  {
   "cell_type": "markdown",
   "metadata": {},
   "source": [
    "## Squeeze, remove redundant dimensions of array"
   ]
  },
  {
   "cell_type": "code",
   "execution_count": 11,
   "metadata": {},
   "outputs": [
    {
     "name": "stdout",
     "output_type": "stream",
     "text": [
      "[[ 0  1  2  3]\n",
      " [ 4  5  6  7]\n",
      " [ 8  9 10 11]\n",
      " [12 13 14 15]]\n",
      "array1:\n",
      "[[ 0]\n",
      " [ 4]\n",
      " [ 8]\n",
      " [12]]\n",
      "array1 shape:  (4, 1)\n",
      "list1:\n",
      "[ 0  4  8 12]\n",
      "list1 shape:  (4,)\n"
     ]
    }
   ],
   "source": [
    "# Split array by columns with hsplit\n",
    "array = np.arange(16).reshape(4, 4)\n",
    "print(array)\n",
    "# Split column index 3 to separate array\n",
    "(array1, _) = np.hsplit(array, [1])\n",
    "print(\"array1:\")\n",
    "print(array1)\n",
    "print(\"array1 shape: \", array1.shape)\n",
    "list1 = np.squeeze(array1)\n",
    "print(\"list1:\")\n",
    "print(list1)\n",
    "print(\"list1 shape: \", list1.shape)\n",
    "\n"
   ]
  },
  {
   "cell_type": "markdown",
   "metadata": {},
   "source": [
    "## Stacking Arrays"
   ]
  },
  {
   "cell_type": "code",
   "execution_count": 23,
   "metadata": {},
   "outputs": [
    {
     "name": "stdout",
     "output_type": "stream",
     "text": [
      "a:  [0 1 2 3 4 5]\n",
      "b:  [ 6  7  8  9 10 11]\n",
      "c:  [12 13 14 15 16 17]\n",
      "Stack 1:\n",
      " [[ 0  1  2  3  4  5]\n",
      " [ 6  7  8  9 10 11]\n",
      " [12 13 14 15 16 17]]\n",
      "Stack 2:\n",
      " [[ 0  6 12]\n",
      " [ 1  7 13]\n",
      " [ 2  8 14]\n",
      " [ 3  9 15]\n",
      " [ 4 10 16]\n",
      " [ 5 11 17]]\n"
     ]
    }
   ],
   "source": [
    "import numpy as np \n",
    "\n",
    "a = np.arange(6)\n",
    "print(\"a: \", a)\n",
    "b = np.arange(start=6, stop=12, step=1)\n",
    "print(\"b: \", b)\n",
    "c = np.arange(start=12, stop=18, step=1)\n",
    "print(\"c: \", c)\n",
    "\n",
    "# Stack Normally\n",
    "stack_1 = np.stack((a, b, c))\n",
    "print(\"Stack 1:\\n\", stack_1)\n",
    "\n",
    "# Stack \"Vertically\"\n",
    "stack_2 = np.stack((a, b, c), axis=-1)\n",
    "print(\"Stack 2:\\n\", stack_2)"
   ]
  },
  {
   "cell_type": "code",
   "execution_count": null,
   "metadata": {},
   "outputs": [],
   "source": []
  }
 ],
 "metadata": {
  "kernelspec": {
   "display_name": "Python 3 (ipykernel)",
   "language": "python",
   "name": "python3"
  },
  "language_info": {
   "codemirror_mode": {
    "name": "ipython",
    "version": 3
   },
   "file_extension": ".py",
   "mimetype": "text/x-python",
   "name": "python",
   "nbconvert_exporter": "python",
   "pygments_lexer": "ipython3",
   "version": "3.8.5"
  }
 },
 "nbformat": 4,
 "nbformat_minor": 2
}
