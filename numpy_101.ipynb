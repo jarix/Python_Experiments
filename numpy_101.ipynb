{
 "cells": [
  {
   "cell_type": "markdown",
   "metadata": {},
   "source": [
    "# Numpy 101"
   ]
  },
  {
   "cell_type": "code",
   "execution_count": 3,
   "metadata": {},
   "outputs": [],
   "source": [
    "# Prerequisites\n",
    "import numpy as np"
   ]
  },
  {
   "cell_type": "markdown",
   "metadata": {},
   "source": [
    "## Using Numpy Arrays for point clouds"
   ]
  },
  {
   "cell_type": "code",
   "execution_count": 2,
   "metadata": {
    "tags": []
   },
   "outputs": [
    {
     "name": "stdout",
     "output_type": "stream",
     "text": [
      "<class 'numpy.ndarray'>\n",
      "[[0 0 0]\n",
      " [1 1 1]\n",
      " [2 2 2]]\n"
     ]
    }
   ],
   "source": [
    "array1 = np.array([[0,0,0],[1,1,1],[2,2,2]]) \n",
    "print(type(array1))\n",
    "print(array1)"
   ]
  },
  {
   "cell_type": "code",
   "execution_count": 3,
   "metadata": {
    "tags": []
   },
   "outputs": [
    {
     "name": "stdout",
     "output_type": "stream",
     "text": [
      "<class 'numpy.ndarray'>\n",
      "[[3 3 3]\n",
      " [4 4 4]\n",
      " [5 5 5]]\n"
     ]
    }
   ],
   "source": [
    "array2 = np.array([[3,3,3],[4,4,4],[5,5,5]]) \n",
    "print(type(array2))\n",
    "print(array2)"
   ]
  },
  {
   "cell_type": "code",
   "execution_count": 4,
   "metadata": {
    "tags": []
   },
   "outputs": [
    {
     "name": "stdout",
     "output_type": "stream",
     "text": [
      "<class 'numpy.ndarray'>\n",
      "[[3 3 3]\n",
      " [5 5 5]\n",
      " [7 7 7]]\n",
      "(3, 3)\n"
     ]
    }
   ],
   "source": [
    "# Adding Arrays does a matrix addition\n",
    "array = array1 + array2\n",
    "print(type(array))\n",
    "print(array)\n",
    "print(array.shape)"
   ]
  },
  {
   "cell_type": "markdown",
   "metadata": {},
   "source": [
    "## Concatenate arrays (merging 2 point clouds together)\n"
   ]
  },
  {
   "cell_type": "code",
   "execution_count": 6,
   "metadata": {
    "tags": []
   },
   "outputs": [
    {
     "name": "stdout",
     "output_type": "stream",
     "text": [
      "Array type: <class 'numpy.ndarray'>\n",
      "Array shape: (6, 3)\n",
      "[[0 0 0]\n",
      " [1 1 1]\n",
      " [2 2 2]\n",
      " [3 3 3]\n",
      " [4 4 4]\n",
      " [5 5 5]]\n"
     ]
    }
   ],
   "source": [
    "array = np.concatenate((array1, array2), axis=0)\n",
    "print(f\"Array type: {type(array)}\")\n",
    "print(f\"Array shape: {array.shape}\")\n",
    "print(array)\n"
   ]
  },
  {
   "source": [
    "## Delete Rows or Columns"
   ],
   "cell_type": "markdown",
   "metadata": {}
  },
  {
   "cell_type": "code",
   "execution_count": 9,
   "metadata": {},
   "outputs": [
    {
     "output_type": "stream",
     "name": "stdout",
     "text": [
      "array:\n[[ 0  1  2  3]\n [ 4  5  6  7]\n [ 8  9 10 11]]\nshape:\n(3, 4)\n"
     ]
    }
   ],
   "source": [
    "    array = np.arange(12).reshape(3, 4)\n",
    "    print(\"array:\")\n",
    "    print(array)\n",
    "    # [[ 0  1  2  3]\n",
    "    #  [ 4  5  6  7]\n",
    "    #  [ 8  9 10 11]]\n",
    "    print(\"shape:\")\n",
    "    print(array.shape)"
   ]
  },
  {
   "cell_type": "code",
   "execution_count": 10,
   "metadata": {},
   "outputs": [
    {
     "output_type": "stream",
     "name": "stdout",
     "text": [
      "[[0 1 2 3]\n [4 5 6 7]]\nshape:\n(2, 4)\n"
     ]
    }
   ],
   "source": [
    "# Delete last row\n",
    "row_del = np.delete(array, 2, 0)\n",
    "print(row_del)\n",
    "# [[ 0  1  2  3]\n",
    "#  [ 4  5 6 7]]\n",
    "print(\"shape:\")\n",
    "print(row_del.shape)"
   ]
  },
  {
   "cell_type": "code",
   "execution_count": 11,
   "metadata": {},
   "outputs": [
    {
     "output_type": "stream",
     "name": "stdout",
     "text": [
      "[[ 0  1  2]\n [ 4  5  6]\n [ 8  9 10]]\nshape:\n(3, 3)\n"
     ]
    }
   ],
   "source": [
    "# Delete last column\n",
    "col_del = np.delete(array, 3, axis=1)\n",
    "print(col_del)\n",
    "# [[ 0  1  2]\n",
    "#  [ 4  5  6]\n",
    "#  [ 8  9 10]]\n",
    "print(\"shape:\")\n",
    "print(col_del.shape)"
   ]
  },
  {
   "cell_type": "code",
   "execution_count": null,
   "metadata": {},
   "outputs": [],
   "source": []
  }
 ],
 "metadata": {
  "kernelspec": {
   "display_name": "Python 3",
   "language": "python",
   "name": "python3"
  },
  "language_info": {
   "codemirror_mode": {
    "name": "ipython",
    "version": 3
   },
   "file_extension": ".py",
   "mimetype": "text/x-python",
   "name": "python",
   "nbconvert_exporter": "python",
   "pygments_lexer": "ipython3",
   "version": "3.8.3-final"
  }
 },
 "nbformat": 4,
 "nbformat_minor": 2
}