{
 "metadata": {
  "language_info": {
   "codemirror_mode": {
    "name": "ipython",
    "version": 3
   },
   "file_extension": ".py",
   "mimetype": "text/x-python",
   "name": "python",
   "nbconvert_exporter": "python",
   "pygments_lexer": "ipython3",
   "version": "3.8.3-final"
  },
  "orig_nbformat": 2,
  "kernelspec": {
   "name": "Python 3.8.3 64-bit ('opencv': conda)",
   "display_name": "Python 3.8.3 64-bit ('opencv': conda)",
   "metadata": {
    "interpreter": {
     "hash": "de19c28a912f6af4a379899c5cfabe7b0c19dafff53afcaae277343cca151e26"
    }
   }
  }
 },
 "nbformat": 4,
 "nbformat_minor": 2,
 "cells": [
  {
   "source": [
    "# Numpy 101"
   ],
   "cell_type": "markdown",
   "metadata": {}
  },
  {
   "cell_type": "code",
   "execution_count": 2,
   "metadata": {},
   "outputs": [],
   "source": [
    "# Prerequisites\n",
    "import numpy as np"
   ]
  },
  {
   "source": [
    "## Using Numpy Arrays for point clouds"
   ],
   "cell_type": "markdown",
   "metadata": {}
  },
  {
   "cell_type": "code",
   "execution_count": 6,
   "metadata": {
    "tags": []
   },
   "outputs": [
    {
     "output_type": "stream",
     "name": "stdout",
     "text": "&lt;class &#39;numpy.ndarray&#39;&gt;\n[[0 0 0]\n [1 1 1]\n [2 2 2]]\n"
    }
   ],
   "source": [
    "array1 = np.array([[0,0,0],[1,1,1],[2,2,2]]) \n",
    "print(type(array1))\n",
    "print(array1)"
   ]
  },
  {
   "cell_type": "code",
   "execution_count": 7,
   "metadata": {
    "tags": []
   },
   "outputs": [
    {
     "output_type": "stream",
     "name": "stdout",
     "text": "&lt;class &#39;numpy.ndarray&#39;&gt;\n[[3 3 3]\n [4 4 4]\n [5 5 5]]\n"
    }
   ],
   "source": [
    "array2 = np.array([[3,3,3],[4,4,4],[5,5,5]]) \n",
    "print(type(array2))\n",
    "print(array2)"
   ]
  },
  {
   "cell_type": "code",
   "execution_count": 15,
   "metadata": {
    "tags": []
   },
   "outputs": [
    {
     "output_type": "stream",
     "name": "stdout",
     "text": "&lt;class &#39;numpy.ndarray&#39;&gt;\n[[3 3 3]\n [5 5 5]\n [7 7 7]]\n(3, 3)\n"
    }
   ],
   "source": [
    "# Adding Arrays does a matrix addition\n",
    "array = array1 + array2\n",
    "print(type(array))\n",
    "print(array)\n",
    "print(array.shape)"
   ]
  },
  {
   "source": [
    "## Concatenate arrays (merging 2 point clouds together)\n"
   ],
   "cell_type": "markdown",
   "metadata": {}
  },
  {
   "cell_type": "code",
   "execution_count": 18,
   "metadata": {
    "tags": []
   },
   "outputs": [
    {
     "output_type": "stream",
     "name": "stdout",
     "text": "&lt;class &#39;numpy.ndarray&#39;&gt;\n[[3 3 3]\n [5 5 5]\n [7 7 7]]\n(3, 3)\n"
    }
   ],
   "source": [
    "np.concatenate((array1, array2), axis=0)\n",
    "print(f\"Array type: {type(array1)}\")\n",
    "print(f\"Array shape: {array1.shape}\")\n",
    "print(array1)\n"
   ]
  },
  {
   "cell_type": "code",
   "execution_count": null,
   "metadata": {},
   "outputs": [],
   "source": []
  }
 ]
}