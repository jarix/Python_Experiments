{
 "cells": [
  {
   "cell_type": "markdown",
   "metadata": {},
   "source": [
    "Import h5py library"
   ]
  },
  {
   "cell_type": "code",
   "execution_count": 1,
   "metadata": {},
   "outputs": [],
   "source": [
    "# Prerequisites\n",
    "import numpy as np\n",
    "import h5py"
   ]
  },
  {
   "cell_type": "markdown",
   "metadata": {},
   "source": [
    "## Create a File and Dataset"
   ]
  },
  {
   "cell_type": "code",
   "execution_count": 18,
   "metadata": {},
   "outputs": [
    {
     "name": "stdout",
     "output_type": "stream",
     "text": [
      "File 'my_file_1.hdf5' written.\n"
     ]
    }
   ],
   "source": [
    "FILE_NAME = \"my_file_1.hdf5\"\n",
    "\n",
    "# Create a HDF5 file\n",
    "with h5py.File(FILE_NAME, \"w\") as f:\n",
    "\n",
    "    # Create some datasets with data and attributes\n",
    "    dset1 = f.create_dataset(\"my_dataset_5x5\", (5,5), dtype=\"f\")\n",
    "    dset1.attrs[\"description\"] = \"5x5 zero array\"\n",
    "\n",
    "    my_data = np.arange(100).reshape(10, 10)\n",
    "    dset2 = f.create_dataset(\"my_dataset_10x10\", data=my_data)\n",
    "    dset2.attrs[\"description\"] = \"10x10 matrix of ints countint up\"\n",
    "    dset2.attrs[\"unit\"] = \"unitless\"\n",
    "\n",
    "    my_random_data = np.random.random((5,5))\n",
    "    dset3 = f.create_dataset(\"my_random_data\", data=my_random_data)\n",
    "    dset3.attrs[\"description\"] = \"5x5 matrix of random floats\"\n",
    "    dset3.attrs[\"unit\"] = \"whatever\"\n",
    "\n",
    "    # Create a group and place dataset into the group\n",
    "    group = f.create_group(\"my_group\")\n",
    "    dset4 = group.create_dataset(\"group_data_1\", data = np.linspace(0, 1, 10))\n",
    "    dset5 = group.create_dataset(\"group_data_2\", data = np.linspace(0, 5, 10))\n",
    "    group.attrs[\"group name\"] = \"Group 1\"\n",
    "\n",
    "print(f\"File '{FILE_NAME}' written.\")"
   ]
  },
  {
   "cell_type": "markdown",
   "metadata": {},
   "source": [
    "## Open a File and Retrieve the dataset "
   ]
  },
  {
   "cell_type": "code",
   "execution_count": 19,
   "metadata": {},
   "outputs": [
    {
     "name": "stdout",
     "output_type": "stream",
     "text": [
      "Keys: ['my_dataset_10x10', 'my_dataset_5x5', 'my_group', 'my_random_data']\n",
      "\n",
      "my_dataset_10x10 has attributes ['description', 'unit']\n",
      "my_dataset_5x5 has attributes ['description']\n",
      "my_group has attributes ['group name']\n",
      "my_random_data has attributes ['description', 'unit']\n",
      "\n",
      "'my_random_data' attribute 'description' = '5x5 matrix of random floats'\n",
      "'my_random_data' attribute 'unit' = 'whatever'\n",
      "\n",
      "'my_random_data': \n",
      " [[0.0549704  0.16498058 0.46219032 0.12181974 0.07030152]\n",
      " [0.13616488 0.83192259 0.23325601 0.34312248 0.66461632]\n",
      " [0.46967892 0.55694846 0.15837602 0.90175336 0.11154696]\n",
      " [0.68691651 0.25615483 0.1054686  0.91008987 0.87362771]\n",
      " [0.71230158 0.90764462 0.73648294 0.65670038 0.03076782]]\n"
     ]
    }
   ],
   "source": [
    "with h5py.File(FILE_NAME, \"r\") as hdf:\n",
    "    print(f\"Keys: {list(hdf.keys())}\\n\")\n",
    "\n",
    "    # Read and print attribytes\n",
    "    for key in list(hdf.keys()):\n",
    "        print(f\"{key} has attributes {list(hdf[key].attrs.keys())}\")\n",
    "    print()\n",
    "\n",
    "    # my_ramndom_data attributes\n",
    "    for key in list(hdf[\"my_random_data\"].attrs.keys()):\n",
    "        print(f\"'my_random_data' attribute '{key}' = '{hdf[\"my_random_data\"].attrs[key]}'\")\n",
    "    print()\n",
    "\n",
    "    data = hdf[\"my_random_data\"][:]\n",
    "    print(\"'my_random_data': \\n\", data)\n"
   ]
  },
  {
   "cell_type": "code",
   "execution_count": null,
   "metadata": {},
   "outputs": [],
   "source": []
  }
 ],
 "metadata": {
  "kernelspec": {
   "display_name": ".venv",
   "language": "python",
   "name": "python3"
  },
  "language_info": {
   "codemirror_mode": {
    "name": "ipython",
    "version": 3
   },
   "file_extension": ".py",
   "mimetype": "text/x-python",
   "name": "python",
   "nbconvert_exporter": "python",
   "pygments_lexer": "ipython3",
   "version": "3.12.7"
  }
 },
 "nbformat": 4,
 "nbformat_minor": 2
}
